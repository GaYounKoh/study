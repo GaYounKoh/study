{
 "cells": [
  {
   "cell_type": "code",
   "execution_count": 2,
   "metadata": {},
   "outputs": [],
   "source": [
    "# pip install pandas"
   ]
  },
  {
   "cell_type": "markdown",
   "metadata": {},
   "source": [
    "# 라이브러리 import"
   ]
  },
  {
   "cell_type": "code",
   "execution_count": 1,
   "metadata": {},
   "outputs": [],
   "source": [
    "import pandas as pd\n",
    "import numpy as np\n",
    "import matplotlib.pyplot as plt\n",
    "import seaborn as sns\n",
    "import warnings\n",
    "warnings.filterwarnings('ignore')\n",
    "from IPython.core.interactiveshell import InteractiveShell\n",
    "InteractiveShell.ast_node_interactivity = \"all\""
   ]
  },
  {
   "cell_type": "markdown",
   "metadata": {},
   "source": [
    "# 데이터 로드"
   ]
  },
  {
   "cell_type": "code",
   "execution_count": 2,
   "metadata": {},
   "outputs": [],
   "source": [
    "sample = pd.read_csv('sample_submission.csv')\n",
    "train = pd.read_csv('train.csv')\n",
    "test = pd.read_csv('test.csv')"
   ]
  },
  {
   "cell_type": "code",
   "execution_count": 3,
   "metadata": {},
   "outputs": [
    {
     "data": {
      "text/html": [
       "<div>\n",
       "<style scoped>\n",
       "    .dataframe tbody tr th:only-of-type {\n",
       "        vertical-align: middle;\n",
       "    }\n",
       "\n",
       "    .dataframe tbody tr th {\n",
       "        vertical-align: top;\n",
       "    }\n",
       "\n",
       "    .dataframe thead th {\n",
       "        text-align: right;\n",
       "    }\n",
       "</style>\n",
       "<table border=\"1\" class=\"dataframe\">\n",
       "  <thead>\n",
       "    <tr style=\"text-align: right;\">\n",
       "      <th></th>\n",
       "      <th>id</th>\n",
       "      <th>target</th>\n",
       "    </tr>\n",
       "  </thead>\n",
       "  <tbody>\n",
       "    <tr>\n",
       "      <th>0</th>\n",
       "      <td>1</td>\n",
       "      <td>0</td>\n",
       "    </tr>\n",
       "    <tr>\n",
       "      <th>1</th>\n",
       "      <td>2</td>\n",
       "      <td>0</td>\n",
       "    </tr>\n",
       "    <tr>\n",
       "      <th>2</th>\n",
       "      <td>3</td>\n",
       "      <td>0</td>\n",
       "    </tr>\n",
       "    <tr>\n",
       "      <th>3</th>\n",
       "      <td>4</td>\n",
       "      <td>0</td>\n",
       "    </tr>\n",
       "    <tr>\n",
       "      <th>4</th>\n",
       "      <td>5</td>\n",
       "      <td>0</td>\n",
       "    </tr>\n",
       "    <tr>\n",
       "      <th>...</th>\n",
       "      <td>...</td>\n",
       "      <td>...</td>\n",
       "    </tr>\n",
       "    <tr>\n",
       "      <th>1345</th>\n",
       "      <td>1346</td>\n",
       "      <td>0</td>\n",
       "    </tr>\n",
       "    <tr>\n",
       "      <th>1346</th>\n",
       "      <td>1347</td>\n",
       "      <td>0</td>\n",
       "    </tr>\n",
       "    <tr>\n",
       "      <th>1347</th>\n",
       "      <td>1348</td>\n",
       "      <td>0</td>\n",
       "    </tr>\n",
       "    <tr>\n",
       "      <th>1348</th>\n",
       "      <td>1349</td>\n",
       "      <td>0</td>\n",
       "    </tr>\n",
       "    <tr>\n",
       "      <th>1349</th>\n",
       "      <td>1350</td>\n",
       "      <td>0</td>\n",
       "    </tr>\n",
       "  </tbody>\n",
       "</table>\n",
       "<p>1350 rows × 2 columns</p>\n",
       "</div>"
      ],
      "text/plain": [
       "        id  target\n",
       "0        1       0\n",
       "1        2       0\n",
       "2        3       0\n",
       "3        4       0\n",
       "4        5       0\n",
       "...    ...     ...\n",
       "1345  1346       0\n",
       "1346  1347       0\n",
       "1347  1348       0\n",
       "1348  1349       0\n",
       "1349  1350       0\n",
       "\n",
       "[1350 rows x 2 columns]"
      ]
     },
     "execution_count": 3,
     "metadata": {},
     "output_type": "execute_result"
    }
   ],
   "source": [
    "sample\n",
    "#id: 데이터 고유 id\n",
    "#target: 집값"
   ]
  },
  {
   "cell_type": "code",
   "execution_count": 4,
   "metadata": {},
   "outputs": [
    {
     "data": {
      "text/html": [
       "<div>\n",
       "<style scoped>\n",
       "    .dataframe tbody tr th:only-of-type {\n",
       "        vertical-align: middle;\n",
       "    }\n",
       "\n",
       "    .dataframe tbody tr th {\n",
       "        vertical-align: top;\n",
       "    }\n",
       "\n",
       "    .dataframe thead th {\n",
       "        text-align: right;\n",
       "    }\n",
       "</style>\n",
       "<table border=\"1\" class=\"dataframe\">\n",
       "  <thead>\n",
       "    <tr style=\"text-align: right;\">\n",
       "      <th></th>\n",
       "      <th>id</th>\n",
       "      <th>Overall Qual</th>\n",
       "      <th>Gr Liv Area</th>\n",
       "      <th>Exter Qual</th>\n",
       "      <th>Garage Cars</th>\n",
       "      <th>Garage Area</th>\n",
       "      <th>Kitchen Qual</th>\n",
       "      <th>Total Bsmt SF</th>\n",
       "      <th>1st Flr SF</th>\n",
       "      <th>Bsmt Qual</th>\n",
       "      <th>Full Bath</th>\n",
       "      <th>Year Built</th>\n",
       "      <th>Year Remod/Add</th>\n",
       "      <th>Garage Yr Blt</th>\n",
       "      <th>target</th>\n",
       "    </tr>\n",
       "  </thead>\n",
       "  <tbody>\n",
       "    <tr>\n",
       "      <th>0</th>\n",
       "      <td>1</td>\n",
       "      <td>10</td>\n",
       "      <td>2392</td>\n",
       "      <td>Ex</td>\n",
       "      <td>3</td>\n",
       "      <td>968</td>\n",
       "      <td>Ex</td>\n",
       "      <td>2392</td>\n",
       "      <td>2392</td>\n",
       "      <td>Ex</td>\n",
       "      <td>2</td>\n",
       "      <td>2003</td>\n",
       "      <td>2003</td>\n",
       "      <td>2003</td>\n",
       "      <td>386250</td>\n",
       "    </tr>\n",
       "    <tr>\n",
       "      <th>1</th>\n",
       "      <td>2</td>\n",
       "      <td>7</td>\n",
       "      <td>1352</td>\n",
       "      <td>Gd</td>\n",
       "      <td>2</td>\n",
       "      <td>466</td>\n",
       "      <td>Gd</td>\n",
       "      <td>1352</td>\n",
       "      <td>1352</td>\n",
       "      <td>Ex</td>\n",
       "      <td>2</td>\n",
       "      <td>2006</td>\n",
       "      <td>2007</td>\n",
       "      <td>2006</td>\n",
       "      <td>194000</td>\n",
       "    </tr>\n",
       "    <tr>\n",
       "      <th>2</th>\n",
       "      <td>3</td>\n",
       "      <td>5</td>\n",
       "      <td>900</td>\n",
       "      <td>TA</td>\n",
       "      <td>1</td>\n",
       "      <td>288</td>\n",
       "      <td>TA</td>\n",
       "      <td>864</td>\n",
       "      <td>900</td>\n",
       "      <td>TA</td>\n",
       "      <td>1</td>\n",
       "      <td>1967</td>\n",
       "      <td>1967</td>\n",
       "      <td>1967</td>\n",
       "      <td>123000</td>\n",
       "    </tr>\n",
       "    <tr>\n",
       "      <th>3</th>\n",
       "      <td>4</td>\n",
       "      <td>5</td>\n",
       "      <td>1174</td>\n",
       "      <td>TA</td>\n",
       "      <td>2</td>\n",
       "      <td>576</td>\n",
       "      <td>Gd</td>\n",
       "      <td>680</td>\n",
       "      <td>680</td>\n",
       "      <td>TA</td>\n",
       "      <td>1</td>\n",
       "      <td>1900</td>\n",
       "      <td>2006</td>\n",
       "      <td>2000</td>\n",
       "      <td>135000</td>\n",
       "    </tr>\n",
       "    <tr>\n",
       "      <th>4</th>\n",
       "      <td>5</td>\n",
       "      <td>7</td>\n",
       "      <td>1958</td>\n",
       "      <td>Gd</td>\n",
       "      <td>3</td>\n",
       "      <td>936</td>\n",
       "      <td>Gd</td>\n",
       "      <td>1026</td>\n",
       "      <td>1026</td>\n",
       "      <td>Gd</td>\n",
       "      <td>2</td>\n",
       "      <td>2005</td>\n",
       "      <td>2005</td>\n",
       "      <td>2005</td>\n",
       "      <td>250000</td>\n",
       "    </tr>\n",
       "    <tr>\n",
       "      <th>...</th>\n",
       "      <td>...</td>\n",
       "      <td>...</td>\n",
       "      <td>...</td>\n",
       "      <td>...</td>\n",
       "      <td>...</td>\n",
       "      <td>...</td>\n",
       "      <td>...</td>\n",
       "      <td>...</td>\n",
       "      <td>...</td>\n",
       "      <td>...</td>\n",
       "      <td>...</td>\n",
       "      <td>...</td>\n",
       "      <td>...</td>\n",
       "      <td>...</td>\n",
       "      <td>...</td>\n",
       "    </tr>\n",
       "    <tr>\n",
       "      <th>1345</th>\n",
       "      <td>1346</td>\n",
       "      <td>6</td>\n",
       "      <td>1756</td>\n",
       "      <td>Gd</td>\n",
       "      <td>2</td>\n",
       "      <td>422</td>\n",
       "      <td>TA</td>\n",
       "      <td>872</td>\n",
       "      <td>888</td>\n",
       "      <td>Ex</td>\n",
       "      <td>2</td>\n",
       "      <td>1996</td>\n",
       "      <td>1997</td>\n",
       "      <td>1996</td>\n",
       "      <td>204000</td>\n",
       "    </tr>\n",
       "    <tr>\n",
       "      <th>1346</th>\n",
       "      <td>1347</td>\n",
       "      <td>9</td>\n",
       "      <td>2748</td>\n",
       "      <td>Gd</td>\n",
       "      <td>3</td>\n",
       "      <td>850</td>\n",
       "      <td>Ex</td>\n",
       "      <td>1850</td>\n",
       "      <td>1850</td>\n",
       "      <td>Ex</td>\n",
       "      <td>2</td>\n",
       "      <td>2006</td>\n",
       "      <td>2006</td>\n",
       "      <td>2006</td>\n",
       "      <td>390000</td>\n",
       "    </tr>\n",
       "    <tr>\n",
       "      <th>1347</th>\n",
       "      <td>1348</td>\n",
       "      <td>5</td>\n",
       "      <td>1214</td>\n",
       "      <td>TA</td>\n",
       "      <td>1</td>\n",
       "      <td>318</td>\n",
       "      <td>TA</td>\n",
       "      <td>1214</td>\n",
       "      <td>1214</td>\n",
       "      <td>TA</td>\n",
       "      <td>2</td>\n",
       "      <td>1967</td>\n",
       "      <td>1967</td>\n",
       "      <td>1967</td>\n",
       "      <td>143000</td>\n",
       "    </tr>\n",
       "    <tr>\n",
       "      <th>1348</th>\n",
       "      <td>1349</td>\n",
       "      <td>5</td>\n",
       "      <td>894</td>\n",
       "      <td>TA</td>\n",
       "      <td>2</td>\n",
       "      <td>440</td>\n",
       "      <td>TA</td>\n",
       "      <td>864</td>\n",
       "      <td>894</td>\n",
       "      <td>Gd</td>\n",
       "      <td>1</td>\n",
       "      <td>1974</td>\n",
       "      <td>1974</td>\n",
       "      <td>1974</td>\n",
       "      <td>131000</td>\n",
       "    </tr>\n",
       "    <tr>\n",
       "      <th>1349</th>\n",
       "      <td>1350</td>\n",
       "      <td>5</td>\n",
       "      <td>907</td>\n",
       "      <td>TA</td>\n",
       "      <td>1</td>\n",
       "      <td>343</td>\n",
       "      <td>TA</td>\n",
       "      <td>907</td>\n",
       "      <td>907</td>\n",
       "      <td>Gd</td>\n",
       "      <td>1</td>\n",
       "      <td>1978</td>\n",
       "      <td>1978</td>\n",
       "      <td>1978</td>\n",
       "      <td>140000</td>\n",
       "    </tr>\n",
       "  </tbody>\n",
       "</table>\n",
       "<p>1350 rows × 15 columns</p>\n",
       "</div>"
      ],
      "text/plain": [
       "        id  Overall Qual  Gr Liv Area Exter Qual  Garage Cars  Garage Area  \\\n",
       "0        1            10         2392         Ex            3          968   \n",
       "1        2             7         1352         Gd            2          466   \n",
       "2        3             5          900         TA            1          288   \n",
       "3        4             5         1174         TA            2          576   \n",
       "4        5             7         1958         Gd            3          936   \n",
       "...    ...           ...          ...        ...          ...          ...   \n",
       "1345  1346             6         1756         Gd            2          422   \n",
       "1346  1347             9         2748         Gd            3          850   \n",
       "1347  1348             5         1214         TA            1          318   \n",
       "1348  1349             5          894         TA            2          440   \n",
       "1349  1350             5          907         TA            1          343   \n",
       "\n",
       "     Kitchen Qual  Total Bsmt SF  1st Flr SF Bsmt Qual  Full Bath  Year Built  \\\n",
       "0              Ex           2392        2392        Ex          2        2003   \n",
       "1              Gd           1352        1352        Ex          2        2006   \n",
       "2              TA            864         900        TA          1        1967   \n",
       "3              Gd            680         680        TA          1        1900   \n",
       "4              Gd           1026        1026        Gd          2        2005   \n",
       "...           ...            ...         ...       ...        ...         ...   \n",
       "1345           TA            872         888        Ex          2        1996   \n",
       "1346           Ex           1850        1850        Ex          2        2006   \n",
       "1347           TA           1214        1214        TA          2        1967   \n",
       "1348           TA            864         894        Gd          1        1974   \n",
       "1349           TA            907         907        Gd          1        1978   \n",
       "\n",
       "      Year Remod/Add  Garage Yr Blt  target  \n",
       "0               2003           2003  386250  \n",
       "1               2007           2006  194000  \n",
       "2               1967           1967  123000  \n",
       "3               2006           2000  135000  \n",
       "4               2005           2005  250000  \n",
       "...              ...            ...     ...  \n",
       "1345            1997           1996  204000  \n",
       "1346            2006           2006  390000  \n",
       "1347            1967           1967  143000  \n",
       "1348            1974           1974  131000  \n",
       "1349            1978           1978  140000  \n",
       "\n",
       "[1350 rows x 15 columns]"
      ]
     },
     "execution_count": 4,
     "metadata": {},
     "output_type": "execute_result"
    }
   ],
   "source": [
    "train"
   ]
  },
  {
   "cell_type": "code",
   "execution_count": 5,
   "metadata": {},
   "outputs": [
    {
     "data": {
      "text/html": [
       "<div>\n",
       "<style scoped>\n",
       "    .dataframe tbody tr th:only-of-type {\n",
       "        vertical-align: middle;\n",
       "    }\n",
       "\n",
       "    .dataframe tbody tr th {\n",
       "        vertical-align: top;\n",
       "    }\n",
       "\n",
       "    .dataframe thead th {\n",
       "        text-align: right;\n",
       "    }\n",
       "</style>\n",
       "<table border=\"1\" class=\"dataframe\">\n",
       "  <thead>\n",
       "    <tr style=\"text-align: right;\">\n",
       "      <th></th>\n",
       "      <th>id</th>\n",
       "      <th>Overall Qual</th>\n",
       "      <th>Gr Liv Area</th>\n",
       "      <th>Exter Qual</th>\n",
       "      <th>Garage Cars</th>\n",
       "      <th>Garage Area</th>\n",
       "      <th>Kitchen Qual</th>\n",
       "      <th>Total Bsmt SF</th>\n",
       "      <th>1st Flr SF</th>\n",
       "      <th>Bsmt Qual</th>\n",
       "      <th>Full Bath</th>\n",
       "      <th>Year Built</th>\n",
       "      <th>Year Remod/Add</th>\n",
       "      <th>Garage Yr Blt</th>\n",
       "    </tr>\n",
       "  </thead>\n",
       "  <tbody>\n",
       "    <tr>\n",
       "      <th>0</th>\n",
       "      <td>1</td>\n",
       "      <td>9</td>\n",
       "      <td>1800</td>\n",
       "      <td>Gd</td>\n",
       "      <td>2</td>\n",
       "      <td>702</td>\n",
       "      <td>Ex</td>\n",
       "      <td>1800</td>\n",
       "      <td>1800</td>\n",
       "      <td>Ex</td>\n",
       "      <td>2</td>\n",
       "      <td>2007</td>\n",
       "      <td>2007</td>\n",
       "      <td>2007</td>\n",
       "    </tr>\n",
       "    <tr>\n",
       "      <th>1</th>\n",
       "      <td>2</td>\n",
       "      <td>6</td>\n",
       "      <td>1082</td>\n",
       "      <td>TA</td>\n",
       "      <td>1</td>\n",
       "      <td>240</td>\n",
       "      <td>TA</td>\n",
       "      <td>1082</td>\n",
       "      <td>1082</td>\n",
       "      <td>TA</td>\n",
       "      <td>1</td>\n",
       "      <td>1948</td>\n",
       "      <td>1950</td>\n",
       "      <td>1948</td>\n",
       "    </tr>\n",
       "    <tr>\n",
       "      <th>2</th>\n",
       "      <td>3</td>\n",
       "      <td>6</td>\n",
       "      <td>1573</td>\n",
       "      <td>Gd</td>\n",
       "      <td>2</td>\n",
       "      <td>440</td>\n",
       "      <td>Gd</td>\n",
       "      <td>756</td>\n",
       "      <td>769</td>\n",
       "      <td>Gd</td>\n",
       "      <td>2</td>\n",
       "      <td>2000</td>\n",
       "      <td>2000</td>\n",
       "      <td>2000</td>\n",
       "    </tr>\n",
       "    <tr>\n",
       "      <th>3</th>\n",
       "      <td>4</td>\n",
       "      <td>6</td>\n",
       "      <td>2443</td>\n",
       "      <td>Gd</td>\n",
       "      <td>3</td>\n",
       "      <td>744</td>\n",
       "      <td>Gd</td>\n",
       "      <td>1158</td>\n",
       "      <td>1158</td>\n",
       "      <td>Gd</td>\n",
       "      <td>2</td>\n",
       "      <td>2004</td>\n",
       "      <td>2004</td>\n",
       "      <td>2004</td>\n",
       "    </tr>\n",
       "    <tr>\n",
       "      <th>4</th>\n",
       "      <td>5</td>\n",
       "      <td>5</td>\n",
       "      <td>1040</td>\n",
       "      <td>TA</td>\n",
       "      <td>2</td>\n",
       "      <td>686</td>\n",
       "      <td>TA</td>\n",
       "      <td>1040</td>\n",
       "      <td>1040</td>\n",
       "      <td>TA</td>\n",
       "      <td>1</td>\n",
       "      <td>1968</td>\n",
       "      <td>1968</td>\n",
       "      <td>1991</td>\n",
       "    </tr>\n",
       "    <tr>\n",
       "      <th>...</th>\n",
       "      <td>...</td>\n",
       "      <td>...</td>\n",
       "      <td>...</td>\n",
       "      <td>...</td>\n",
       "      <td>...</td>\n",
       "      <td>...</td>\n",
       "      <td>...</td>\n",
       "      <td>...</td>\n",
       "      <td>...</td>\n",
       "      <td>...</td>\n",
       "      <td>...</td>\n",
       "      <td>...</td>\n",
       "      <td>...</td>\n",
       "      <td>...</td>\n",
       "    </tr>\n",
       "    <tr>\n",
       "      <th>1345</th>\n",
       "      <td>1346</td>\n",
       "      <td>8</td>\n",
       "      <td>1932</td>\n",
       "      <td>Ex</td>\n",
       "      <td>3</td>\n",
       "      <td>774</td>\n",
       "      <td>Ex</td>\n",
       "      <td>1932</td>\n",
       "      <td>1932</td>\n",
       "      <td>Ex</td>\n",
       "      <td>2</td>\n",
       "      <td>2008</td>\n",
       "      <td>2008</td>\n",
       "      <td>2008</td>\n",
       "    </tr>\n",
       "    <tr>\n",
       "      <th>1346</th>\n",
       "      <td>1347</td>\n",
       "      <td>5</td>\n",
       "      <td>912</td>\n",
       "      <td>TA</td>\n",
       "      <td>1</td>\n",
       "      <td>288</td>\n",
       "      <td>TA</td>\n",
       "      <td>912</td>\n",
       "      <td>912</td>\n",
       "      <td>TA</td>\n",
       "      <td>1</td>\n",
       "      <td>1964</td>\n",
       "      <td>1964</td>\n",
       "      <td>1964</td>\n",
       "    </tr>\n",
       "    <tr>\n",
       "      <th>1347</th>\n",
       "      <td>1348</td>\n",
       "      <td>4</td>\n",
       "      <td>861</td>\n",
       "      <td>TA</td>\n",
       "      <td>2</td>\n",
       "      <td>288</td>\n",
       "      <td>TA</td>\n",
       "      <td>861</td>\n",
       "      <td>861</td>\n",
       "      <td>Fa</td>\n",
       "      <td>1</td>\n",
       "      <td>1920</td>\n",
       "      <td>1950</td>\n",
       "      <td>1920</td>\n",
       "    </tr>\n",
       "    <tr>\n",
       "      <th>1348</th>\n",
       "      <td>1349</td>\n",
       "      <td>5</td>\n",
       "      <td>1430</td>\n",
       "      <td>TA</td>\n",
       "      <td>2</td>\n",
       "      <td>624</td>\n",
       "      <td>Gd</td>\n",
       "      <td>1430</td>\n",
       "      <td>1430</td>\n",
       "      <td>Ex</td>\n",
       "      <td>2</td>\n",
       "      <td>2004</td>\n",
       "      <td>2005</td>\n",
       "      <td>2004</td>\n",
       "    </tr>\n",
       "    <tr>\n",
       "      <th>1349</th>\n",
       "      <td>1350</td>\n",
       "      <td>5</td>\n",
       "      <td>2337</td>\n",
       "      <td>TA</td>\n",
       "      <td>2</td>\n",
       "      <td>560</td>\n",
       "      <td>TA</td>\n",
       "      <td>662</td>\n",
       "      <td>1422</td>\n",
       "      <td>TA</td>\n",
       "      <td>2</td>\n",
       "      <td>1900</td>\n",
       "      <td>1950</td>\n",
       "      <td>1945</td>\n",
       "    </tr>\n",
       "  </tbody>\n",
       "</table>\n",
       "<p>1350 rows × 14 columns</p>\n",
       "</div>"
      ],
      "text/plain": [
       "        id  Overall Qual  Gr Liv Area Exter Qual  Garage Cars  Garage Area  \\\n",
       "0        1             9         1800         Gd            2          702   \n",
       "1        2             6         1082         TA            1          240   \n",
       "2        3             6         1573         Gd            2          440   \n",
       "3        4             6         2443         Gd            3          744   \n",
       "4        5             5         1040         TA            2          686   \n",
       "...    ...           ...          ...        ...          ...          ...   \n",
       "1345  1346             8         1932         Ex            3          774   \n",
       "1346  1347             5          912         TA            1          288   \n",
       "1347  1348             4          861         TA            2          288   \n",
       "1348  1349             5         1430         TA            2          624   \n",
       "1349  1350             5         2337         TA            2          560   \n",
       "\n",
       "     Kitchen Qual  Total Bsmt SF  1st Flr SF Bsmt Qual  Full Bath  Year Built  \\\n",
       "0              Ex           1800        1800        Ex          2        2007   \n",
       "1              TA           1082        1082        TA          1        1948   \n",
       "2              Gd            756         769        Gd          2        2000   \n",
       "3              Gd           1158        1158        Gd          2        2004   \n",
       "4              TA           1040        1040        TA          1        1968   \n",
       "...           ...            ...         ...       ...        ...         ...   \n",
       "1345           Ex           1932        1932        Ex          2        2008   \n",
       "1346           TA            912         912        TA          1        1964   \n",
       "1347           TA            861         861        Fa          1        1920   \n",
       "1348           Gd           1430        1430        Ex          2        2004   \n",
       "1349           TA            662        1422        TA          2        1900   \n",
       "\n",
       "      Year Remod/Add  Garage Yr Blt  \n",
       "0               2007           2007  \n",
       "1               1950           1948  \n",
       "2               2000           2000  \n",
       "3               2004           2004  \n",
       "4               1968           1991  \n",
       "...              ...            ...  \n",
       "1345            2008           2008  \n",
       "1346            1964           1964  \n",
       "1347            1950           1920  \n",
       "1348            2005           2004  \n",
       "1349            1950           1945  \n",
       "\n",
       "[1350 rows x 14 columns]"
      ]
     },
     "execution_count": 5,
     "metadata": {},
     "output_type": "execute_result"
    }
   ],
   "source": [
    "test"
   ]
  },
  {
   "cell_type": "markdown",
   "metadata": {},
   "source": [
    "'''\n",
    "id : 데이터 고유 id\n",
    "\n",
    "OverallQual : 전반적 재료와 마감 품질 # 1~10, 질적변수\n",
    "\n",
    "GrLivArea : 지상층 생활 면적 # 양적, 연속\n",
    "\n",
    "ExterQual : 외관 재료 품질 # 질적\n",
    "\n",
    "GarageCars: 차고 자리 개수 # 양적, 이산\n",
    "\n",
    "GarageArea: 차고 면적 # 양적, 연속\n",
    "\n",
    "KitchenQual : 부억 품질 # 질적\n",
    "\n",
    "TotalBsmtSF : 지하실 면적 # 양적, 연속\n",
    "\n",
    "1stFlrSF : 1층 면적 # 양적, 연속\n",
    "\n",
    "BsmtQual : 지하실 높이 # 양적, 연속\n",
    "\n",
    "FullBath : 지상층 화장실 개수 # 양적, 이산\n",
    "\n",
    "YearBuilt : 완공 연도 # 양적, ??\n",
    "\n",
    "YearRemodAdd : 리모델링 연도 # 양적, ??\n",
    "\n",
    "GarageYrBlt : 차고 완공 연도 # 양적\n",
    "\n",
    "target : 집값(달러 단위) # 양적, 이산\n",
    "'''"
   ]
  },
  {
   "cell_type": "markdown",
   "metadata": {},
   "source": [
    "집값을 y로 놓고 그래프 그려보기??"
   ]
  },
  {
   "cell_type": "code",
   "execution_count": 6,
   "metadata": {},
   "outputs": [
    {
     "data": {
      "text/plain": [
       "0       386250\n",
       "1       194000\n",
       "2       123000\n",
       "3       135000\n",
       "4       250000\n",
       "         ...  \n",
       "1345    204000\n",
       "1346    390000\n",
       "1347    143000\n",
       "1348    131000\n",
       "1349    140000\n",
       "Name: target, Length: 1350, dtype: int64"
      ]
     },
     "execution_count": 6,
     "metadata": {},
     "output_type": "execute_result"
    }
   ],
   "source": [
    "train.iloc[:,-1]\n",
    "# train[:,-1]"
   ]
  },
  {
   "cell_type": "code",
   "execution_count": 7,
   "metadata": {},
   "outputs": [
    {
     "data": {
      "text/html": [
       "<div>\n",
       "<style scoped>\n",
       "    .dataframe tbody tr th:only-of-type {\n",
       "        vertical-align: middle;\n",
       "    }\n",
       "\n",
       "    .dataframe tbody tr th {\n",
       "        vertical-align: top;\n",
       "    }\n",
       "\n",
       "    .dataframe thead th {\n",
       "        text-align: right;\n",
       "    }\n",
       "</style>\n",
       "<table border=\"1\" class=\"dataframe\">\n",
       "  <thead>\n",
       "    <tr style=\"text-align: right;\">\n",
       "      <th></th>\n",
       "      <th>id</th>\n",
       "      <th>Overall Qual</th>\n",
       "      <th>Gr Liv Area</th>\n",
       "      <th>Exter Qual</th>\n",
       "      <th>Garage Cars</th>\n",
       "      <th>Garage Area</th>\n",
       "      <th>Kitchen Qual</th>\n",
       "      <th>Total Bsmt SF</th>\n",
       "      <th>1st Flr SF</th>\n",
       "      <th>Bsmt Qual</th>\n",
       "      <th>Full Bath</th>\n",
       "      <th>Year Built</th>\n",
       "      <th>Year Remod/Add</th>\n",
       "      <th>Garage Yr Blt</th>\n",
       "    </tr>\n",
       "  </thead>\n",
       "  <tbody>\n",
       "    <tr>\n",
       "      <th>0</th>\n",
       "      <td>1</td>\n",
       "      <td>10</td>\n",
       "      <td>2392</td>\n",
       "      <td>Ex</td>\n",
       "      <td>3</td>\n",
       "      <td>968</td>\n",
       "      <td>Ex</td>\n",
       "      <td>2392</td>\n",
       "      <td>2392</td>\n",
       "      <td>Ex</td>\n",
       "      <td>2</td>\n",
       "      <td>2003</td>\n",
       "      <td>2003</td>\n",
       "      <td>2003</td>\n",
       "    </tr>\n",
       "    <tr>\n",
       "      <th>1</th>\n",
       "      <td>2</td>\n",
       "      <td>7</td>\n",
       "      <td>1352</td>\n",
       "      <td>Gd</td>\n",
       "      <td>2</td>\n",
       "      <td>466</td>\n",
       "      <td>Gd</td>\n",
       "      <td>1352</td>\n",
       "      <td>1352</td>\n",
       "      <td>Ex</td>\n",
       "      <td>2</td>\n",
       "      <td>2006</td>\n",
       "      <td>2007</td>\n",
       "      <td>2006</td>\n",
       "    </tr>\n",
       "    <tr>\n",
       "      <th>2</th>\n",
       "      <td>3</td>\n",
       "      <td>5</td>\n",
       "      <td>900</td>\n",
       "      <td>TA</td>\n",
       "      <td>1</td>\n",
       "      <td>288</td>\n",
       "      <td>TA</td>\n",
       "      <td>864</td>\n",
       "      <td>900</td>\n",
       "      <td>TA</td>\n",
       "      <td>1</td>\n",
       "      <td>1967</td>\n",
       "      <td>1967</td>\n",
       "      <td>1967</td>\n",
       "    </tr>\n",
       "    <tr>\n",
       "      <th>3</th>\n",
       "      <td>4</td>\n",
       "      <td>5</td>\n",
       "      <td>1174</td>\n",
       "      <td>TA</td>\n",
       "      <td>2</td>\n",
       "      <td>576</td>\n",
       "      <td>Gd</td>\n",
       "      <td>680</td>\n",
       "      <td>680</td>\n",
       "      <td>TA</td>\n",
       "      <td>1</td>\n",
       "      <td>1900</td>\n",
       "      <td>2006</td>\n",
       "      <td>2000</td>\n",
       "    </tr>\n",
       "    <tr>\n",
       "      <th>4</th>\n",
       "      <td>5</td>\n",
       "      <td>7</td>\n",
       "      <td>1958</td>\n",
       "      <td>Gd</td>\n",
       "      <td>3</td>\n",
       "      <td>936</td>\n",
       "      <td>Gd</td>\n",
       "      <td>1026</td>\n",
       "      <td>1026</td>\n",
       "      <td>Gd</td>\n",
       "      <td>2</td>\n",
       "      <td>2005</td>\n",
       "      <td>2005</td>\n",
       "      <td>2005</td>\n",
       "    </tr>\n",
       "    <tr>\n",
       "      <th>...</th>\n",
       "      <td>...</td>\n",
       "      <td>...</td>\n",
       "      <td>...</td>\n",
       "      <td>...</td>\n",
       "      <td>...</td>\n",
       "      <td>...</td>\n",
       "      <td>...</td>\n",
       "      <td>...</td>\n",
       "      <td>...</td>\n",
       "      <td>...</td>\n",
       "      <td>...</td>\n",
       "      <td>...</td>\n",
       "      <td>...</td>\n",
       "      <td>...</td>\n",
       "    </tr>\n",
       "    <tr>\n",
       "      <th>1345</th>\n",
       "      <td>1346</td>\n",
       "      <td>6</td>\n",
       "      <td>1756</td>\n",
       "      <td>Gd</td>\n",
       "      <td>2</td>\n",
       "      <td>422</td>\n",
       "      <td>TA</td>\n",
       "      <td>872</td>\n",
       "      <td>888</td>\n",
       "      <td>Ex</td>\n",
       "      <td>2</td>\n",
       "      <td>1996</td>\n",
       "      <td>1997</td>\n",
       "      <td>1996</td>\n",
       "    </tr>\n",
       "    <tr>\n",
       "      <th>1346</th>\n",
       "      <td>1347</td>\n",
       "      <td>9</td>\n",
       "      <td>2748</td>\n",
       "      <td>Gd</td>\n",
       "      <td>3</td>\n",
       "      <td>850</td>\n",
       "      <td>Ex</td>\n",
       "      <td>1850</td>\n",
       "      <td>1850</td>\n",
       "      <td>Ex</td>\n",
       "      <td>2</td>\n",
       "      <td>2006</td>\n",
       "      <td>2006</td>\n",
       "      <td>2006</td>\n",
       "    </tr>\n",
       "    <tr>\n",
       "      <th>1347</th>\n",
       "      <td>1348</td>\n",
       "      <td>5</td>\n",
       "      <td>1214</td>\n",
       "      <td>TA</td>\n",
       "      <td>1</td>\n",
       "      <td>318</td>\n",
       "      <td>TA</td>\n",
       "      <td>1214</td>\n",
       "      <td>1214</td>\n",
       "      <td>TA</td>\n",
       "      <td>2</td>\n",
       "      <td>1967</td>\n",
       "      <td>1967</td>\n",
       "      <td>1967</td>\n",
       "    </tr>\n",
       "    <tr>\n",
       "      <th>1348</th>\n",
       "      <td>1349</td>\n",
       "      <td>5</td>\n",
       "      <td>894</td>\n",
       "      <td>TA</td>\n",
       "      <td>2</td>\n",
       "      <td>440</td>\n",
       "      <td>TA</td>\n",
       "      <td>864</td>\n",
       "      <td>894</td>\n",
       "      <td>Gd</td>\n",
       "      <td>1</td>\n",
       "      <td>1974</td>\n",
       "      <td>1974</td>\n",
       "      <td>1974</td>\n",
       "    </tr>\n",
       "    <tr>\n",
       "      <th>1349</th>\n",
       "      <td>1350</td>\n",
       "      <td>5</td>\n",
       "      <td>907</td>\n",
       "      <td>TA</td>\n",
       "      <td>1</td>\n",
       "      <td>343</td>\n",
       "      <td>TA</td>\n",
       "      <td>907</td>\n",
       "      <td>907</td>\n",
       "      <td>Gd</td>\n",
       "      <td>1</td>\n",
       "      <td>1978</td>\n",
       "      <td>1978</td>\n",
       "      <td>1978</td>\n",
       "    </tr>\n",
       "  </tbody>\n",
       "</table>\n",
       "<p>1350 rows × 14 columns</p>\n",
       "</div>"
      ],
      "text/plain": [
       "        id  Overall Qual  Gr Liv Area Exter Qual  Garage Cars  Garage Area  \\\n",
       "0        1            10         2392         Ex            3          968   \n",
       "1        2             7         1352         Gd            2          466   \n",
       "2        3             5          900         TA            1          288   \n",
       "3        4             5         1174         TA            2          576   \n",
       "4        5             7         1958         Gd            3          936   \n",
       "...    ...           ...          ...        ...          ...          ...   \n",
       "1345  1346             6         1756         Gd            2          422   \n",
       "1346  1347             9         2748         Gd            3          850   \n",
       "1347  1348             5         1214         TA            1          318   \n",
       "1348  1349             5          894         TA            2          440   \n",
       "1349  1350             5          907         TA            1          343   \n",
       "\n",
       "     Kitchen Qual  Total Bsmt SF  1st Flr SF Bsmt Qual  Full Bath  Year Built  \\\n",
       "0              Ex           2392        2392        Ex          2        2003   \n",
       "1              Gd           1352        1352        Ex          2        2006   \n",
       "2              TA            864         900        TA          1        1967   \n",
       "3              Gd            680         680        TA          1        1900   \n",
       "4              Gd           1026        1026        Gd          2        2005   \n",
       "...           ...            ...         ...       ...        ...         ...   \n",
       "1345           TA            872         888        Ex          2        1996   \n",
       "1346           Ex           1850        1850        Ex          2        2006   \n",
       "1347           TA           1214        1214        TA          2        1967   \n",
       "1348           TA            864         894        Gd          1        1974   \n",
       "1349           TA            907         907        Gd          1        1978   \n",
       "\n",
       "      Year Remod/Add  Garage Yr Blt  \n",
       "0               2003           2003  \n",
       "1               2007           2006  \n",
       "2               1967           1967  \n",
       "3               2006           2000  \n",
       "4               2005           2005  \n",
       "...              ...            ...  \n",
       "1345            1997           1996  \n",
       "1346            2006           2006  \n",
       "1347            1967           1967  \n",
       "1348            1974           1974  \n",
       "1349            1978           1978  \n",
       "\n",
       "[1350 rows x 14 columns]"
      ]
     },
     "execution_count": 7,
     "metadata": {},
     "output_type": "execute_result"
    }
   ],
   "source": [
    "train.iloc[:,:-1]\n"
   ]
  },
  {
   "cell_type": "code",
   "execution_count": 8,
   "metadata": {},
   "outputs": [
    {
     "data": {
      "text/plain": [
       "Index(['id', 'Overall Qual', 'Gr Liv Area', 'Exter Qual', 'Garage Cars',\n",
       "       'Garage Area', 'Kitchen Qual', 'Total Bsmt SF', '1st Flr SF',\n",
       "       'Bsmt Qual', 'Full Bath', 'Year Built', 'Year Remod/Add',\n",
       "       'Garage Yr Blt', 'target'],\n",
       "      dtype='object')"
      ]
     },
     "execution_count": 8,
     "metadata": {},
     "output_type": "execute_result"
    }
   ],
   "source": [
    "train.columns"
   ]
  },
  {
   "cell_type": "code",
   "execution_count": 9,
   "metadata": {},
   "outputs": [
    {
     "data": {
      "text/plain": [
       "('id', 1350)"
      ]
     },
     "execution_count": 9,
     "metadata": {},
     "output_type": "execute_result"
    },
    {
     "data": {
      "text/plain": [
       "('Overall Qual', 9)"
      ]
     },
     "execution_count": 9,
     "metadata": {},
     "output_type": "execute_result"
    },
    {
     "data": {
      "text/plain": [
       "('Gr Liv Area', 813)"
      ]
     },
     "execution_count": 9,
     "metadata": {},
     "output_type": "execute_result"
    },
    {
     "data": {
      "text/plain": [
       "('Exter Qual', 4)"
      ]
     },
     "execution_count": 9,
     "metadata": {},
     "output_type": "execute_result"
    },
    {
     "data": {
      "text/plain": [
       "('Garage Cars', 5)"
      ]
     },
     "execution_count": 9,
     "metadata": {},
     "output_type": "execute_result"
    },
    {
     "data": {
      "text/plain": [
       "('Garage Area', 454)"
      ]
     },
     "execution_count": 9,
     "metadata": {},
     "output_type": "execute_result"
    },
    {
     "data": {
      "text/plain": [
       "('Kitchen Qual', 4)"
      ]
     },
     "execution_count": 9,
     "metadata": {},
     "output_type": "execute_result"
    },
    {
     "data": {
      "text/plain": [
       "('Total Bsmt SF', 709)"
      ]
     },
     "execution_count": 9,
     "metadata": {},
     "output_type": "execute_result"
    },
    {
     "data": {
      "text/plain": [
       "('1st Flr SF', 736)"
      ]
     },
     "execution_count": 9,
     "metadata": {},
     "output_type": "execute_result"
    },
    {
     "data": {
      "text/plain": [
       "('Bsmt Qual', 5)"
      ]
     },
     "execution_count": 9,
     "metadata": {},
     "output_type": "execute_result"
    },
    {
     "data": {
      "text/plain": [
       "('Full Bath', 5)"
      ]
     },
     "execution_count": 9,
     "metadata": {},
     "output_type": "execute_result"
    },
    {
     "data": {
      "text/plain": [
       "('Year Built', 105)"
      ]
     },
     "execution_count": 9,
     "metadata": {},
     "output_type": "execute_result"
    },
    {
     "data": {
      "text/plain": [
       "('Year Remod/Add', 61)"
      ]
     },
     "execution_count": 9,
     "metadata": {},
     "output_type": "execute_result"
    },
    {
     "data": {
      "text/plain": [
       "('Garage Yr Blt', 97)"
      ]
     },
     "execution_count": 9,
     "metadata": {},
     "output_type": "execute_result"
    },
    {
     "data": {
      "text/plain": [
       "('target', 619)"
      ]
     },
     "execution_count": 9,
     "metadata": {},
     "output_type": "execute_result"
    }
   ],
   "source": [
    "for i in train.columns: #range(train.shape[1]):\n",
    "    i,train[i].nunique()\n",
    "    # (train.iloc[:,i]).nunique"
   ]
  },
  {
   "cell_type": "code",
   "execution_count": 10,
   "metadata": {},
   "outputs": [
    {
     "data": {
      "text/plain": [
       "<Figure size 360x360 with 0 Axes>"
      ]
     },
     "execution_count": 10,
     "metadata": {},
     "output_type": "execute_result"
    },
    {
     "data": {
      "text/plain": [
       "<matplotlib.collections.PathCollection at 0x176ba79d6a0>"
      ]
     },
     "execution_count": 10,
     "metadata": {},
     "output_type": "execute_result"
    },
    {
     "data": {
      "image/png": "[encoded data removed]",
      "text/plain": [
       "<Figure size 360x360 with 1 Axes>"
      ]
     },
     "metadata": {
      "needs_background": "light"
     },
     "output_type": "display_data"
    }
   ],
   "source": [
    "# sns.histplot(train.iloc[:,:-1], train.iloc[:,-1])\n",
    "# plt.plot(train.iloc[:,1], train.iloc[:,-1])\n",
    "plt.figure(figsize = (5,5)) #col 1,3,6은 countplot\n",
    "plt.scatter(train.iloc[:,2], train.iloc[:, -1])"
   ]
  },
  {
   "cell_type": "code",
   "execution_count": 11,
   "metadata": {},
   "outputs": [
    {
     "data": {
      "text/plain": [
       "<matplotlib.collections.PathCollection at 0x176baf22970>"
      ]
     },
     "execution_count": 11,
     "metadata": {},
     "output_type": "execute_result"
    },
    {
     "data": {
      "image/png": "[encoded data removed]",
      "text/plain": [
       "<Figure size 432x288 with 1 Axes>"
      ]
     },
     "metadata": {
      "needs_background": "light"
     },
     "output_type": "display_data"
    }
   ],
   "source": [
    "plt.scatter(train.iloc[:,0], train.iloc[:, -1])"
   ]
  },
  {
   "cell_type": "code",
   "execution_count": 12,
   "metadata": {},
   "outputs": [
    {
     "data": {
      "text/plain": [
       "15"
      ]
     },
     "execution_count": 12,
     "metadata": {},
     "output_type": "execute_result"
    },
    {
     "data": {
      "text/html": [
       "<div>\n",
       "<style scoped>\n",
       "    .dataframe tbody tr th:only-of-type {\n",
       "        vertical-align: middle;\n",
       "    }\n",
       "\n",
       "    .dataframe tbody tr th {\n",
       "        vertical-align: top;\n",
       "    }\n",
       "\n",
       "    .dataframe thead th {\n",
       "        text-align: right;\n",
       "    }\n",
       "</style>\n",
       "<table border=\"1\" class=\"dataframe\">\n",
       "  <thead>\n",
       "    <tr style=\"text-align: right;\">\n",
       "      <th></th>\n",
       "      <th>id</th>\n",
       "      <th>Overall Qual</th>\n",
       "      <th>Gr Liv Area</th>\n",
       "      <th>Exter Qual</th>\n",
       "      <th>Garage Cars</th>\n",
       "      <th>Garage Area</th>\n",
       "      <th>Kitchen Qual</th>\n",
       "      <th>Total Bsmt SF</th>\n",
       "      <th>1st Flr SF</th>\n",
       "      <th>Bsmt Qual</th>\n",
       "      <th>Full Bath</th>\n",
       "      <th>Year Built</th>\n",
       "      <th>Year Remod/Add</th>\n",
       "      <th>Garage Yr Blt</th>\n",
       "      <th>target</th>\n",
       "    </tr>\n",
       "  </thead>\n",
       "  <tbody>\n",
       "    <tr>\n",
       "      <th>0</th>\n",
       "      <td>1</td>\n",
       "      <td>10</td>\n",
       "      <td>2392</td>\n",
       "      <td>Ex</td>\n",
       "      <td>3</td>\n",
       "      <td>968</td>\n",
       "      <td>Ex</td>\n",
       "      <td>2392</td>\n",
       "      <td>2392</td>\n",
       "      <td>Ex</td>\n",
       "      <td>2</td>\n",
       "      <td>2003</td>\n",
       "      <td>2003</td>\n",
       "      <td>2003</td>\n",
       "      <td>386250</td>\n",
       "    </tr>\n",
       "    <tr>\n",
       "      <th>1</th>\n",
       "      <td>2</td>\n",
       "      <td>7</td>\n",
       "      <td>1352</td>\n",
       "      <td>Gd</td>\n",
       "      <td>2</td>\n",
       "      <td>466</td>\n",
       "      <td>Gd</td>\n",
       "      <td>1352</td>\n",
       "      <td>1352</td>\n",
       "      <td>Ex</td>\n",
       "      <td>2</td>\n",
       "      <td>2006</td>\n",
       "      <td>2007</td>\n",
       "      <td>2006</td>\n",
       "      <td>194000</td>\n",
       "    </tr>\n",
       "    <tr>\n",
       "      <th>2</th>\n",
       "      <td>3</td>\n",
       "      <td>5</td>\n",
       "      <td>900</td>\n",
       "      <td>TA</td>\n",
       "      <td>1</td>\n",
       "      <td>288</td>\n",
       "      <td>TA</td>\n",
       "      <td>864</td>\n",
       "      <td>900</td>\n",
       "      <td>TA</td>\n",
       "      <td>1</td>\n",
       "      <td>1967</td>\n",
       "      <td>1967</td>\n",
       "      <td>1967</td>\n",
       "      <td>123000</td>\n",
       "    </tr>\n",
       "    <tr>\n",
       "      <th>3</th>\n",
       "      <td>4</td>\n",
       "      <td>5</td>\n",
       "      <td>1174</td>\n",
       "      <td>TA</td>\n",
       "      <td>2</td>\n",
       "      <td>576</td>\n",
       "      <td>Gd</td>\n",
       "      <td>680</td>\n",
       "      <td>680</td>\n",
       "      <td>TA</td>\n",
       "      <td>1</td>\n",
       "      <td>1900</td>\n",
       "      <td>2006</td>\n",
       "      <td>2000</td>\n",
       "      <td>135000</td>\n",
       "    </tr>\n",
       "    <tr>\n",
       "      <th>4</th>\n",
       "      <td>5</td>\n",
       "      <td>7</td>\n",
       "      <td>1958</td>\n",
       "      <td>Gd</td>\n",
       "      <td>3</td>\n",
       "      <td>936</td>\n",
       "      <td>Gd</td>\n",
       "      <td>1026</td>\n",
       "      <td>1026</td>\n",
       "      <td>Gd</td>\n",
       "      <td>2</td>\n",
       "      <td>2005</td>\n",
       "      <td>2005</td>\n",
       "      <td>2005</td>\n",
       "      <td>250000</td>\n",
       "    </tr>\n",
       "    <tr>\n",
       "      <th>...</th>\n",
       "      <td>...</td>\n",
       "      <td>...</td>\n",
       "      <td>...</td>\n",
       "      <td>...</td>\n",
       "      <td>...</td>\n",
       "      <td>...</td>\n",
       "      <td>...</td>\n",
       "      <td>...</td>\n",
       "      <td>...</td>\n",
       "      <td>...</td>\n",
       "      <td>...</td>\n",
       "      <td>...</td>\n",
       "      <td>...</td>\n",
       "      <td>...</td>\n",
       "      <td>...</td>\n",
       "    </tr>\n",
       "    <tr>\n",
       "      <th>1345</th>\n",
       "      <td>1346</td>\n",
       "      <td>6</td>\n",
       "      <td>1756</td>\n",
       "      <td>Gd</td>\n",
       "      <td>2</td>\n",
       "      <td>422</td>\n",
       "      <td>TA</td>\n",
       "      <td>872</td>\n",
       "      <td>888</td>\n",
       "      <td>Ex</td>\n",
       "      <td>2</td>\n",
       "      <td>1996</td>\n",
       "      <td>1997</td>\n",
       "      <td>1996</td>\n",
       "      <td>204000</td>\n",
       "    </tr>\n",
       "    <tr>\n",
       "      <th>1346</th>\n",
       "      <td>1347</td>\n",
       "      <td>9</td>\n",
       "      <td>2748</td>\n",
       "      <td>Gd</td>\n",
       "      <td>3</td>\n",
       "      <td>850</td>\n",
       "      <td>Ex</td>\n",
       "      <td>1850</td>\n",
       "      <td>1850</td>\n",
       "      <td>Ex</td>\n",
       "      <td>2</td>\n",
       "      <td>2006</td>\n",
       "      <td>2006</td>\n",
       "      <td>2006</td>\n",
       "      <td>390000</td>\n",
       "    </tr>\n",
       "    <tr>\n",
       "      <th>1347</th>\n",
       "      <td>1348</td>\n",
       "      <td>5</td>\n",
       "      <td>1214</td>\n",
       "      <td>TA</td>\n",
       "      <td>1</td>\n",
       "      <td>318</td>\n",
       "      <td>TA</td>\n",
       "      <td>1214</td>\n",
       "      <td>1214</td>\n",
       "      <td>TA</td>\n",
       "      <td>2</td>\n",
       "      <td>1967</td>\n",
       "      <td>1967</td>\n",
       "      <td>1967</td>\n",
       "      <td>143000</td>\n",
       "    </tr>\n",
       "    <tr>\n",
       "      <th>1348</th>\n",
       "      <td>1349</td>\n",
       "      <td>5</td>\n",
       "      <td>894</td>\n",
       "      <td>TA</td>\n",
       "      <td>2</td>\n",
       "      <td>440</td>\n",
       "      <td>TA</td>\n",
       "      <td>864</td>\n",
       "      <td>894</td>\n",
       "      <td>Gd</td>\n",
       "      <td>1</td>\n",
       "      <td>1974</td>\n",
       "      <td>1974</td>\n",
       "      <td>1974</td>\n",
       "      <td>131000</td>\n",
       "    </tr>\n",
       "    <tr>\n",
       "      <th>1349</th>\n",
       "      <td>1350</td>\n",
       "      <td>5</td>\n",
       "      <td>907</td>\n",
       "      <td>TA</td>\n",
       "      <td>1</td>\n",
       "      <td>343</td>\n",
       "      <td>TA</td>\n",
       "      <td>907</td>\n",
       "      <td>907</td>\n",
       "      <td>Gd</td>\n",
       "      <td>1</td>\n",
       "      <td>1978</td>\n",
       "      <td>1978</td>\n",
       "      <td>1978</td>\n",
       "      <td>140000</td>\n",
       "    </tr>\n",
       "  </tbody>\n",
       "</table>\n",
       "<p>1350 rows × 15 columns</p>\n",
       "</div>"
      ],
      "text/plain": [
       "        id  Overall Qual  Gr Liv Area Exter Qual  Garage Cars  Garage Area  \\\n",
       "0        1            10         2392         Ex            3          968   \n",
       "1        2             7         1352         Gd            2          466   \n",
       "2        3             5          900         TA            1          288   \n",
       "3        4             5         1174         TA            2          576   \n",
       "4        5             7         1958         Gd            3          936   \n",
       "...    ...           ...          ...        ...          ...          ...   \n",
       "1345  1346             6         1756         Gd            2          422   \n",
       "1346  1347             9         2748         Gd            3          850   \n",
       "1347  1348             5         1214         TA            1          318   \n",
       "1348  1349             5          894         TA            2          440   \n",
       "1349  1350             5          907         TA            1          343   \n",
       "\n",
       "     Kitchen Qual  Total Bsmt SF  1st Flr SF Bsmt Qual  Full Bath  Year Built  \\\n",
       "0              Ex           2392        2392        Ex          2        2003   \n",
       "1              Gd           1352        1352        Ex          2        2006   \n",
       "2              TA            864         900        TA          1        1967   \n",
       "3              Gd            680         680        TA          1        1900   \n",
       "4              Gd           1026        1026        Gd          2        2005   \n",
       "...           ...            ...         ...       ...        ...         ...   \n",
       "1345           TA            872         888        Ex          2        1996   \n",
       "1346           Ex           1850        1850        Ex          2        2006   \n",
       "1347           TA           1214        1214        TA          2        1967   \n",
       "1348           TA            864         894        Gd          1        1974   \n",
       "1349           TA            907         907        Gd          1        1978   \n",
       "\n",
       "      Year Remod/Add  Garage Yr Blt  target  \n",
       "0               2003           2003  386250  \n",
       "1               2007           2006  194000  \n",
       "2               1967           1967  123000  \n",
       "3               2006           2000  135000  \n",
       "4               2005           2005  250000  \n",
       "...              ...            ...     ...  \n",
       "1345            1997           1996  204000  \n",
       "1346            2006           2006  390000  \n",
       "1347            1967           1967  143000  \n",
       "1348            1974           1974  131000  \n",
       "1349            1978           1978  140000  \n",
       "\n",
       "[1350 rows x 15 columns]"
      ]
     },
     "execution_count": 12,
     "metadata": {},
     "output_type": "execute_result"
    }
   ],
   "source": [
    "len(train.columns)\n",
    "train"
   ]
  },
  {
   "cell_type": "code",
   "execution_count": 13,
   "metadata": {},
   "outputs": [
    {
     "name": "stdout",
     "output_type": "stream",
     "text": [
      "###### colname: Overall Qual 1\n",
      "###### colname: Gr Liv Area 2\n",
      "###### colname: Exter Qual 3\n",
      "###### colname: Garage Cars 4\n",
      "###### colname: Garage Area 5\n",
      "###### colname: Kitchen Qual 6\n",
      "###### colname: Total Bsmt SF 7\n",
      "###### colname: 1st Flr SF 8\n",
      "###### colname: Bsmt Qual 9\n",
      "###### colname: Full Bath 10\n",
      "###### colname: Year Built 11\n",
      "###### colname: Year Remod/Add 12\n",
      "###### colname: Garage Yr Blt 13\n"
     ]
    },
    {
     "data": {
      "text/plain": [
       "<Figure size 360x360 with 0 Axes>"
      ]
     },
     "metadata": {},
     "output_type": "display_data"
    },
    {
     "data": {
      "image/png": "[encoded data removed]",
      "text/plain": [
       "<Figure size 360x360 with 1 Axes>"
      ]
     },
     "metadata": {
      "needs_background": "dark"
     },
     "output_type": "display_data"
    },
    {
     "data": {
      "image/png": "[encoded data removed]",
      "text/plain": [
       "<Figure size 360x360 with 1 Axes>"
      ]
     },
     "metadata": {
      "needs_background": "dark"
     },
     "output_type": "display_data"
    },
    {
     "data": {
      "image/png": "[encoded data removed]",
      "text/plain": [
       "<Figure size 360x360 with 1 Axes>"
      ]
     },
     "metadata": {
      "needs_background": "dark"
     },
     "output_type": "display_data"
    },
    {
     "data": {
      "image/png": "[encoded data removed]",
      "text/plain": [
       "<Figure size 360x360 with 1 Axes>"
      ]
     },
     "metadata": {
      "needs_background": "dark"
     },
     "output_type": "display_data"
    },
    {
     "data": {
      "image/png": "[encoded data removed]",
      "text/plain": [
       "<Figure size 360x360 with 1 Axes>"
      ]
     },
     "metadata": {
      "needs_background": "dark"
     },
     "output_type": "display_data"
    },
    {
     "data": {
      "image/png": "[encoded data removed]",
      "text/plain": [
       "<Figure size 360x360 with 1 Axes>"
      ]
     },
     "metadata": {
      "needs_background": "dark"
     },
     "output_type": "display_data"
    },
    {
     "data": {
      "image/png": "[encoded data removed]",
      "text/plain": [
       "<Figure size 360x360 with 1 Axes>"
      ]
     },
     "metadata": {
      "needs_background": "dark"
     },
     "output_type": "display_data"
    },
    {
     "data": {
      "image/png": "[encoded data removed]",
      "text/plain": [
       "<Figure size 360x360 with 1 Axes>"
      ]
     },
     "metadata": {
      "needs_background": "dark"
     },
     "output_type": "display_data"
    },
    {
     "data": {
      "image/png": "[encoded data removed]",
      "text/plain": [
       "<Figure size 360x360 with 1 Axes>"
      ]
     },
     "metadata": {
      "needs_background": "dark"
     },
     "output_type": "display_data"
    },
    {
     "data": {
      "image/png": "[encoded data removed]",
      "text/plain": [
       "<Figure size 360x360 with 1 Axes>"
      ]
     },
     "metadata": {
      "needs_background": "dark"
     },
     "output_type": "display_data"
    },
    {
     "data": {
      "image/png": "[encoded data removed]",
      "text/plain": [
       "<Figure size 360x360 with 1 Axes>"
      ]
     },
     "metadata": {
      "needs_background": "dark"
     },
     "output_type": "display_data"
    },
    {
     "data": {
      "image/png": "[encoded data removed]",
      "text/plain": [
       "<Figure size 360x360 with 1 Axes>"
      ]
     },
     "metadata": {
      "needs_background": "dark"
     },
     "output_type": "display_data"
    },
    {
     "data": {
      "image/png": "[encoded data removed]",
      "text/plain": [
       "<Figure size 360x360 with 1 Axes>"
      ]
     },
     "metadata": {
      "needs_background": "dark"
     },
     "output_type": "display_data"
    },
    {
     "data": {
      "text/plain": [
       "<Figure size 360x360 with 0 Axes>"
      ]
     },
     "metadata": {},
     "output_type": "display_data"
    }
   ],
   "source": [
    "# id는 제외하고 분석\n",
    "for i,j in enumerate(train.columns): #range로 안넣고 리스트로 넣었음... len과 idx의 차이...\n",
    "    _ = plt.figure(figsize = (5,5)) #col 1,3,6은 countplot\n",
    "\n",
    "    if i == 0 or i == len(train.columns)-1:\n",
    "        pass\n",
    "\n",
    "    elif i in [1,3,6]:\n",
    "        print('###### colname:', j,i)\n",
    "        _ = sns.countplot(x=j, data = train)\n",
    "        _ = plt.suptitle(f'{j}', color = 'yellow')\n",
    "        _ = plt.xticks(color = 'white')\n",
    "        _ = plt.yticks(color = 'white')\n",
    "        _ = plt.xlabel(xlabel= j, color = 'white')\n",
    "        _ = plt.ylabel(ylabel= 'count', color = 'white')\n",
    "    \n",
    "    else:\n",
    "        print('###### colname:', j,i)\n",
    "        _ = plt.scatter(train.iloc[:,i], train.iloc[:, -1])\n",
    "        _ = plt.suptitle(f'{j}', color = 'yellow')\n",
    "        _ = plt.xticks(color = 'white')\n",
    "        _ = plt.yticks(color = 'white')\n",
    "        _ = plt.xlabel(xlabel= j, color = 'white')\n",
    "        _ = plt.ylabel(ylabel= train.columns[-1], color = 'white')\n",
    "        \n"
   ]
  },
  {
   "cell_type": "markdown",
   "metadata": {},
   "source": [
    "# 결측치 확인\n",
    "```\n",
    "결측치 없으므로 처리과정 pass\n",
    "```"
   ]
  },
  {
   "cell_type": "code",
   "execution_count": 14,
   "metadata": {},
   "outputs": [
    {
     "name": "stdout",
     "output_type": "stream",
     "text": [
      "결측치 없음.\n"
     ]
    }
   ],
   "source": [
    "def check_missing_col(df):\n",
    "    missing_col = []\n",
    "    for col in df.columns:\n",
    "        missing_values = sum(df[col].isna())\n",
    "        is_missing = True if missing_values >= 1 else False\n",
    "        if is_missing:\n",
    "            print(f'결측치 있는 col: {col}')\n",
    "            print(f'해당 col에 총 {missing_values}개의 결측치 존재')\n",
    "            missing_col.append([col, df[col].dtype])\n",
    "    if missing_col == []:\n",
    "        print('결측치 없음.')\n",
    "    return missing_col\n",
    "\n",
    "missing_col = check_missing_col(train)\n"
   ]
  },
  {
   "cell_type": "code",
   "execution_count": 15,
   "metadata": {},
   "outputs": [
    {
     "data": {
      "text/html": [
       "<div>\n",
       "<style scoped>\n",
       "    .dataframe tbody tr th:only-of-type {\n",
       "        vertical-align: middle;\n",
       "    }\n",
       "\n",
       "    .dataframe tbody tr th {\n",
       "        vertical-align: top;\n",
       "    }\n",
       "\n",
       "    .dataframe thead th {\n",
       "        text-align: right;\n",
       "    }\n",
       "</style>\n",
       "<table border=\"1\" class=\"dataframe\">\n",
       "  <thead>\n",
       "    <tr style=\"text-align: right;\">\n",
       "      <th></th>\n",
       "      <th>id</th>\n",
       "      <th>Overall Qual</th>\n",
       "      <th>Gr Liv Area</th>\n",
       "      <th>Garage Cars</th>\n",
       "      <th>Garage Area</th>\n",
       "      <th>Total Bsmt SF</th>\n",
       "      <th>1st Flr SF</th>\n",
       "      <th>Full Bath</th>\n",
       "      <th>Year Built</th>\n",
       "      <th>Year Remod/Add</th>\n",
       "      <th>Garage Yr Blt</th>\n",
       "      <th>target</th>\n",
       "    </tr>\n",
       "  </thead>\n",
       "  <tbody>\n",
       "    <tr>\n",
       "      <th>count</th>\n",
       "      <td>1350.000000</td>\n",
       "      <td>1350.000000</td>\n",
       "      <td>1350.000000</td>\n",
       "      <td>1350.000000</td>\n",
       "      <td>1350.000000</td>\n",
       "      <td>1350.000000</td>\n",
       "      <td>1350.000000</td>\n",
       "      <td>1350.000000</td>\n",
       "      <td>1350.000000</td>\n",
       "      <td>1350.000000</td>\n",
       "      <td>1350.000000</td>\n",
       "      <td>1350.000000</td>\n",
       "    </tr>\n",
       "    <tr>\n",
       "      <th>mean</th>\n",
       "      <td>675.500000</td>\n",
       "      <td>6.208889</td>\n",
       "      <td>1513.542222</td>\n",
       "      <td>1.870370</td>\n",
       "      <td>502.014815</td>\n",
       "      <td>1082.644444</td>\n",
       "      <td>1167.474074</td>\n",
       "      <td>1.560741</td>\n",
       "      <td>1972.987407</td>\n",
       "      <td>1985.099259</td>\n",
       "      <td>1978.471852</td>\n",
       "      <td>186406.312593</td>\n",
       "    </tr>\n",
       "    <tr>\n",
       "      <th>std</th>\n",
       "      <td>389.855743</td>\n",
       "      <td>1.338015</td>\n",
       "      <td>487.523239</td>\n",
       "      <td>0.652483</td>\n",
       "      <td>191.389956</td>\n",
       "      <td>384.067713</td>\n",
       "      <td>375.061407</td>\n",
       "      <td>0.551646</td>\n",
       "      <td>29.307257</td>\n",
       "      <td>20.153244</td>\n",
       "      <td>25.377278</td>\n",
       "      <td>78435.424758</td>\n",
       "    </tr>\n",
       "    <tr>\n",
       "      <th>min</th>\n",
       "      <td>1.000000</td>\n",
       "      <td>2.000000</td>\n",
       "      <td>480.000000</td>\n",
       "      <td>1.000000</td>\n",
       "      <td>100.000000</td>\n",
       "      <td>105.000000</td>\n",
       "      <td>480.000000</td>\n",
       "      <td>0.000000</td>\n",
       "      <td>1880.000000</td>\n",
       "      <td>1950.000000</td>\n",
       "      <td>1900.000000</td>\n",
       "      <td>12789.000000</td>\n",
       "    </tr>\n",
       "    <tr>\n",
       "      <th>25%</th>\n",
       "      <td>338.250000</td>\n",
       "      <td>5.000000</td>\n",
       "      <td>1144.000000</td>\n",
       "      <td>1.000000</td>\n",
       "      <td>368.000000</td>\n",
       "      <td>816.000000</td>\n",
       "      <td>886.250000</td>\n",
       "      <td>1.000000</td>\n",
       "      <td>1955.000000</td>\n",
       "      <td>1968.000000</td>\n",
       "      <td>1961.000000</td>\n",
       "      <td>135000.000000</td>\n",
       "    </tr>\n",
       "    <tr>\n",
       "      <th>50%</th>\n",
       "      <td>675.500000</td>\n",
       "      <td>6.000000</td>\n",
       "      <td>1445.500000</td>\n",
       "      <td>2.000000</td>\n",
       "      <td>484.000000</td>\n",
       "      <td>1009.000000</td>\n",
       "      <td>1092.500000</td>\n",
       "      <td>2.000000</td>\n",
       "      <td>1976.000000</td>\n",
       "      <td>1993.000000</td>\n",
       "      <td>1978.500000</td>\n",
       "      <td>165375.000000</td>\n",
       "    </tr>\n",
       "    <tr>\n",
       "      <th>75%</th>\n",
       "      <td>1012.750000</td>\n",
       "      <td>7.000000</td>\n",
       "      <td>1774.500000</td>\n",
       "      <td>2.000000</td>\n",
       "      <td>588.000000</td>\n",
       "      <td>1309.500000</td>\n",
       "      <td>1396.500000</td>\n",
       "      <td>2.000000</td>\n",
       "      <td>2002.000000</td>\n",
       "      <td>2004.000000</td>\n",
       "      <td>2002.000000</td>\n",
       "      <td>217875.000000</td>\n",
       "    </tr>\n",
       "    <tr>\n",
       "      <th>max</th>\n",
       "      <td>1350.000000</td>\n",
       "      <td>10.000000</td>\n",
       "      <td>4476.000000</td>\n",
       "      <td>5.000000</td>\n",
       "      <td>1488.000000</td>\n",
       "      <td>2660.000000</td>\n",
       "      <td>2898.000000</td>\n",
       "      <td>4.000000</td>\n",
       "      <td>2010.000000</td>\n",
       "      <td>2010.000000</td>\n",
       "      <td>2207.000000</td>\n",
       "      <td>745000.000000</td>\n",
       "    </tr>\n",
       "  </tbody>\n",
       "</table>\n",
       "</div>"
      ],
      "text/plain": [
       "                id  Overall Qual  Gr Liv Area  Garage Cars  Garage Area  \\\n",
       "count  1350.000000   1350.000000  1350.000000  1350.000000  1350.000000   \n",
       "mean    675.500000      6.208889  1513.542222     1.870370   502.014815   \n",
       "std     389.855743      1.338015   487.523239     0.652483   191.389956   \n",
       "min       1.000000      2.000000   480.000000     1.000000   100.000000   \n",
       "25%     338.250000      5.000000  1144.000000     1.000000   368.000000   \n",
       "50%     675.500000      6.000000  1445.500000     2.000000   484.000000   \n",
       "75%    1012.750000      7.000000  1774.500000     2.000000   588.000000   \n",
       "max    1350.000000     10.000000  4476.000000     5.000000  1488.000000   \n",
       "\n",
       "       Total Bsmt SF   1st Flr SF    Full Bath   Year Built  Year Remod/Add  \\\n",
       "count    1350.000000  1350.000000  1350.000000  1350.000000     1350.000000   \n",
       "mean     1082.644444  1167.474074     1.560741  1972.987407     1985.099259   \n",
       "std       384.067713   375.061407     0.551646    29.307257       20.153244   \n",
       "min       105.000000   480.000000     0.000000  1880.000000     1950.000000   \n",
       "25%       816.000000   886.250000     1.000000  1955.000000     1968.000000   \n",
       "50%      1009.000000  1092.500000     2.000000  1976.000000     1993.000000   \n",
       "75%      1309.500000  1396.500000     2.000000  2002.000000     2004.000000   \n",
       "max      2660.000000  2898.000000     4.000000  2010.000000     2010.000000   \n",
       "\n",
       "       Garage Yr Blt         target  \n",
       "count    1350.000000    1350.000000  \n",
       "mean     1978.471852  186406.312593  \n",
       "std        25.377278   78435.424758  \n",
       "min      1900.000000   12789.000000  \n",
       "25%      1961.000000  135000.000000  \n",
       "50%      1978.500000  165375.000000  \n",
       "75%      2002.000000  217875.000000  \n",
       "max      2207.000000  745000.000000  "
      ]
     },
     "execution_count": 15,
     "metadata": {},
     "output_type": "execute_result"
    }
   ],
   "source": [
    "train.describe()"
   ]
  },
  {
   "cell_type": "code",
   "execution_count": null,
   "metadata": {},
   "outputs": [],
   "source": []
  },
  {
   "cell_type": "code",
   "execution_count": null,
   "metadata": {},
   "outputs": [],
   "source": []
  }
 ],
 "metadata": {
  "interpreter": {
   "hash": "57baa5815c940fdaff4d14510622de9616cae602444507ba5d0b6727c008cbd6"
  },
  "kernelspec": {
   "display_name": "Python 3.7.8 64-bit",
   "language": "python",
   "name": "python3"
  },
  "language_info": {
   "codemirror_mode": {
    "name": "ipython",
    "version": 3
   },
   "file_extension": ".py",
   "mimetype": "text/x-python",
   "name": "python",
   "nbconvert_exporter": "python",
   "pygments_lexer": "ipython3",
   "version": "3.8.8"
  },
  "orig_nbformat": 4
 },
 "nbformat": 4,
 "nbformat_minor": 2
}

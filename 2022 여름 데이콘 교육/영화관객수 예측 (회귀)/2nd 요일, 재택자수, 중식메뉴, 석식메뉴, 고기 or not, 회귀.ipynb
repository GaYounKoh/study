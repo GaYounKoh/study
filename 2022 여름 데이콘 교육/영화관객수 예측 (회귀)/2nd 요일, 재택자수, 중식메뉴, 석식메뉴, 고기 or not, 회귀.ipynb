{
 "cells": [
  {
   "cell_type": "markdown",
   "id": "a07ec2da",
   "metadata": {
    "toc": true
   },
   "source": [
    "<h1>Table of Contents<span class=\"tocSkip\"></span></h1>\n",
    "<div class=\"toc\"><ul class=\"toc-item\"><li><span><a href=\"#평가방식-MAE\" data-toc-modified-id=\"평가방식-MAE-1\"><span class=\"toc-item-num\">1&nbsp;&nbsp;</span>평가방식 MAE</a></span></li><li><span><a href=\"#library-import\" data-toc-modified-id=\"library-import-2\"><span class=\"toc-item-num\">2&nbsp;&nbsp;</span>library import</a></span></li><li><span><a href=\"#data-load\" data-toc-modified-id=\"data-load-3\"><span class=\"toc-item-num\">3&nbsp;&nbsp;</span>data load</a></span></li><li><span><a href=\"#전처리\" data-toc-modified-id=\"전처리-4\"><span class=\"toc-item-num\">4&nbsp;&nbsp;</span>전처리</a></span></li></ul></div>"
   ]
  },
  {
   "cell_type": "markdown",
   "id": "865a7daf",
   "metadata": {},
   "source": [
    "# 평가방식 MAE\n",
    "... 회귀.... <br>\n",
    "회귀도 input은 수치여야함."
   ]
  },
  {
   "cell_type": "markdown",
   "id": "b4fbde62",
   "metadata": {},
   "source": [
    "# library import"
   ]
  },
  {
   "cell_type": "code",
   "execution_count": 1,
   "id": "50bcf1d3",
   "metadata": {},
   "outputs": [],
   "source": [
    "import pandas as pd\n",
    "from IPython.core.interactiveshell import InteractiveShell\n",
    "InteractiveShell.ast_node_interactivity = 'all'\n",
    "from tqdm import tqdm\n",
    "import warnings\n",
    "warnings.filterwarnings('ignore')"
   ]
  },
  {
   "cell_type": "markdown",
   "id": "32676427",
   "metadata": {},
   "source": [
    "# data load"
   ]
  },
  {
   "cell_type": "code",
   "execution_count": 2,
   "id": "8ca62715",
   "metadata": {},
   "outputs": [],
   "source": [
    "train = pd.read_csv('../235743_구내식당 식사 인원 예측 AI 경진대회_data/train.csv')\n",
    "test = pd.read_csv('../235743_구내식당 식사 인원 예측 AI 경진대회_data/test.csv')"
   ]
  },
  {
   "cell_type": "code",
   "execution_count": 3,
   "id": "d4f60bfb",
   "metadata": {},
   "outputs": [
    {
     "data": {
      "text/html": [
       "<div>\n",
       "<style scoped>\n",
       "    .dataframe tbody tr th:only-of-type {\n",
       "        vertical-align: middle;\n",
       "    }\n",
       "\n",
       "    .dataframe tbody tr th {\n",
       "        vertical-align: top;\n",
       "    }\n",
       "\n",
       "    .dataframe thead th {\n",
       "        text-align: right;\n",
       "    }\n",
       "</style>\n",
       "<table border=\"1\" class=\"dataframe\">\n",
       "  <thead>\n",
       "    <tr style=\"text-align: right;\">\n",
       "      <th></th>\n",
       "      <th>일자</th>\n",
       "      <th>요일</th>\n",
       "      <th>본사정원수</th>\n",
       "      <th>본사휴가자수</th>\n",
       "      <th>본사출장자수</th>\n",
       "      <th>본사시간외근무명령서승인건수</th>\n",
       "      <th>현본사소속재택근무자수</th>\n",
       "      <th>조식메뉴</th>\n",
       "      <th>중식메뉴</th>\n",
       "      <th>석식메뉴</th>\n",
       "      <th>중식계</th>\n",
       "      <th>석식계</th>\n",
       "    </tr>\n",
       "  </thead>\n",
       "  <tbody>\n",
       "    <tr>\n",
       "      <th>0</th>\n",
       "      <td>2016-02-01</td>\n",
       "      <td>월</td>\n",
       "      <td>2601</td>\n",
       "      <td>50</td>\n",
       "      <td>150</td>\n",
       "      <td>238</td>\n",
       "      <td>0.0</td>\n",
       "      <td>모닝롤/찐빵  우유/두유/주스 계란후라이  호두죽/쌀밥 (쌀:국내산) 된장찌개  쥐...</td>\n",
       "      <td>쌀밥/잡곡밥 (쌀,현미흑미:국내산) 오징어찌개  쇠불고기 (쇠고기:호주산) 계란찜 ...</td>\n",
       "      <td>쌀밥/잡곡밥 (쌀,현미흑미:국내산) 육개장  자반고등어구이  두부조림  건파래무침 ...</td>\n",
       "      <td>1039.0</td>\n",
       "      <td>331.0</td>\n",
       "    </tr>\n",
       "    <tr>\n",
       "      <th>1</th>\n",
       "      <td>2016-02-02</td>\n",
       "      <td>화</td>\n",
       "      <td>2601</td>\n",
       "      <td>50</td>\n",
       "      <td>173</td>\n",
       "      <td>319</td>\n",
       "      <td>0.0</td>\n",
       "      <td>모닝롤/단호박샌드  우유/두유/주스 계란후라이  팥죽/쌀밥 (쌀:국내산) 호박젓국찌...</td>\n",
       "      <td>쌀밥/잡곡밥 (쌀,현미흑미:국내산) 김치찌개  가자미튀김  모둠소세지구이  마늘쫑무...</td>\n",
       "      <td>콩나물밥*양념장 (쌀,현미흑미:국내산) 어묵국  유산슬 (쇠고기:호주산) 아삭고추무...</td>\n",
       "      <td>867.0</td>\n",
       "      <td>560.0</td>\n",
       "    </tr>\n",
       "    <tr>\n",
       "      <th>2</th>\n",
       "      <td>2016-02-03</td>\n",
       "      <td>수</td>\n",
       "      <td>2601</td>\n",
       "      <td>56</td>\n",
       "      <td>180</td>\n",
       "      <td>111</td>\n",
       "      <td>0.0</td>\n",
       "      <td>모닝롤/베이글  우유/두유/주스 계란후라이  표고버섯죽/쌀밥 (쌀:국내산) 콩나물국...</td>\n",
       "      <td>카레덮밥 (쌀,현미흑미:국내산) 팽이장국  치킨핑거 (닭고기:국내산) 쫄면야채무침 ...</td>\n",
       "      <td>쌀밥/잡곡밥 (쌀,현미흑미:국내산) 청국장찌개  황태양념구이 (황태:러시아산) 고기...</td>\n",
       "      <td>1017.0</td>\n",
       "      <td>573.0</td>\n",
       "    </tr>\n",
       "    <tr>\n",
       "      <th>3</th>\n",
       "      <td>2016-02-04</td>\n",
       "      <td>목</td>\n",
       "      <td>2601</td>\n",
       "      <td>104</td>\n",
       "      <td>220</td>\n",
       "      <td>355</td>\n",
       "      <td>0.0</td>\n",
       "      <td>모닝롤/토마토샌드  우유/두유/주스 계란후라이  닭죽/쌀밥 (쌀,닭:국내산) 근대국...</td>\n",
       "      <td>쌀밥/잡곡밥 (쌀,현미흑미:국내산) 쇠고기무국  주꾸미볶음  부추전  시금치나물  ...</td>\n",
       "      <td>미니김밥*겨자장 (쌀,현미흑미:국내산) 우동  멕시칸샐러드  군고구마  무피클  포...</td>\n",
       "      <td>978.0</td>\n",
       "      <td>525.0</td>\n",
       "    </tr>\n",
       "    <tr>\n",
       "      <th>4</th>\n",
       "      <td>2016-02-05</td>\n",
       "      <td>금</td>\n",
       "      <td>2601</td>\n",
       "      <td>278</td>\n",
       "      <td>181</td>\n",
       "      <td>34</td>\n",
       "      <td>0.0</td>\n",
       "      <td>모닝롤/와플  우유/두유/주스 계란후라이  쇠고기죽/쌀밥 (쌀:국내산) 재첩국  방...</td>\n",
       "      <td>쌀밥/잡곡밥 (쌀,현미흑미:국내산) 떡국  돈육씨앗강정 (돼지고기:국내산) 우엉잡채...</td>\n",
       "      <td>쌀밥/잡곡밥 (쌀,현미흑미:국내산) 차돌박이찌개 (쇠고기:호주산) 닭갈비 (닭고기:...</td>\n",
       "      <td>925.0</td>\n",
       "      <td>330.0</td>\n",
       "    </tr>\n",
       "    <tr>\n",
       "      <th>5</th>\n",
       "      <td>2016-02-11</td>\n",
       "      <td>목</td>\n",
       "      <td>2601</td>\n",
       "      <td>383</td>\n",
       "      <td>143</td>\n",
       "      <td>417</td>\n",
       "      <td>0.0</td>\n",
       "      <td>팬케익/찐빵  우유/두유/주스  계란후라이  견과류죽/쌀밥 (쌀:국내산) 감자찌개 ...</td>\n",
       "      <td>쌀밥/잡곡밥 (쌀,현미흑미:국내산) 시래기국  훈제오리구이  도토리묵무침  쌈무/양...</td>\n",
       "      <td>참치회덮밥 (쌀,현미흑미:국내산) 맑은국  군만두  과일샐러드  락교  포기김치 (...</td>\n",
       "      <td>1045.0</td>\n",
       "      <td>550.0</td>\n",
       "    </tr>\n",
       "    <tr>\n",
       "      <th>6</th>\n",
       "      <td>2016-02-12</td>\n",
       "      <td>금</td>\n",
       "      <td>2601</td>\n",
       "      <td>389</td>\n",
       "      <td>156</td>\n",
       "      <td>93</td>\n",
       "      <td>0.0</td>\n",
       "      <td>모닝롤/야채샌드  우유/두유/주스  계란후라이  고구마죽/쌀밥 (쌀:국내산) 봄동된...</td>\n",
       "      <td>쌀밥/잡곡밥 (쌀,현미흑미:국내산) 꽃게탕  돈육굴소스볶음  옥수수전  유채나물  ...</td>\n",
       "      <td>쌀밥/잡곡밥 (쌀,현미흑미:국내산) 김치콩나물국  미니함박  어묵볶음  물파래무침 ...</td>\n",
       "      <td>909.0</td>\n",
       "      <td>598.0</td>\n",
       "    </tr>\n",
       "  </tbody>\n",
       "</table>\n",
       "</div>"
      ],
      "text/plain": [
       "           일자 요일  본사정원수  본사휴가자수  본사출장자수  본사시간외근무명령서승인건수  현본사소속재택근무자수  \\\n",
       "0  2016-02-01  월   2601      50     150             238          0.0   \n",
       "1  2016-02-02  화   2601      50     173             319          0.0   \n",
       "2  2016-02-03  수   2601      56     180             111          0.0   \n",
       "3  2016-02-04  목   2601     104     220             355          0.0   \n",
       "4  2016-02-05  금   2601     278     181              34          0.0   \n",
       "5  2016-02-11  목   2601     383     143             417          0.0   \n",
       "6  2016-02-12  금   2601     389     156              93          0.0   \n",
       "\n",
       "                                                조식메뉴  \\\n",
       "0  모닝롤/찐빵  우유/두유/주스 계란후라이  호두죽/쌀밥 (쌀:국내산) 된장찌개  쥐...   \n",
       "1  모닝롤/단호박샌드  우유/두유/주스 계란후라이  팥죽/쌀밥 (쌀:국내산) 호박젓국찌...   \n",
       "2  모닝롤/베이글  우유/두유/주스 계란후라이  표고버섯죽/쌀밥 (쌀:국내산) 콩나물국...   \n",
       "3  모닝롤/토마토샌드  우유/두유/주스 계란후라이  닭죽/쌀밥 (쌀,닭:국내산) 근대국...   \n",
       "4  모닝롤/와플  우유/두유/주스 계란후라이  쇠고기죽/쌀밥 (쌀:국내산) 재첩국  방...   \n",
       "5  팬케익/찐빵  우유/두유/주스  계란후라이  견과류죽/쌀밥 (쌀:국내산) 감자찌개 ...   \n",
       "6  모닝롤/야채샌드  우유/두유/주스  계란후라이  고구마죽/쌀밥 (쌀:국내산) 봄동된...   \n",
       "\n",
       "                                                중식메뉴  \\\n",
       "0  쌀밥/잡곡밥 (쌀,현미흑미:국내산) 오징어찌개  쇠불고기 (쇠고기:호주산) 계란찜 ...   \n",
       "1  쌀밥/잡곡밥 (쌀,현미흑미:국내산) 김치찌개  가자미튀김  모둠소세지구이  마늘쫑무...   \n",
       "2  카레덮밥 (쌀,현미흑미:국내산) 팽이장국  치킨핑거 (닭고기:국내산) 쫄면야채무침 ...   \n",
       "3  쌀밥/잡곡밥 (쌀,현미흑미:국내산) 쇠고기무국  주꾸미볶음  부추전  시금치나물  ...   \n",
       "4  쌀밥/잡곡밥 (쌀,현미흑미:국내산) 떡국  돈육씨앗강정 (돼지고기:국내산) 우엉잡채...   \n",
       "5  쌀밥/잡곡밥 (쌀,현미흑미:국내산) 시래기국  훈제오리구이  도토리묵무침  쌈무/양...   \n",
       "6  쌀밥/잡곡밥 (쌀,현미흑미:국내산) 꽃게탕  돈육굴소스볶음  옥수수전  유채나물  ...   \n",
       "\n",
       "                                                석식메뉴     중식계    석식계  \n",
       "0  쌀밥/잡곡밥 (쌀,현미흑미:국내산) 육개장  자반고등어구이  두부조림  건파래무침 ...  1039.0  331.0  \n",
       "1  콩나물밥*양념장 (쌀,현미흑미:국내산) 어묵국  유산슬 (쇠고기:호주산) 아삭고추무...   867.0  560.0  \n",
       "2  쌀밥/잡곡밥 (쌀,현미흑미:국내산) 청국장찌개  황태양념구이 (황태:러시아산) 고기...  1017.0  573.0  \n",
       "3  미니김밥*겨자장 (쌀,현미흑미:국내산) 우동  멕시칸샐러드  군고구마  무피클  포...   978.0  525.0  \n",
       "4  쌀밥/잡곡밥 (쌀,현미흑미:국내산) 차돌박이찌개 (쇠고기:호주산) 닭갈비 (닭고기:...   925.0  330.0  \n",
       "5  참치회덮밥 (쌀,현미흑미:국내산) 맑은국  군만두  과일샐러드  락교  포기김치 (...  1045.0  550.0  \n",
       "6  쌀밥/잡곡밥 (쌀,현미흑미:국내산) 김치콩나물국  미니함박  어묵볶음  물파래무침 ...   909.0  598.0  "
      ]
     },
     "execution_count": 3,
     "metadata": {},
     "output_type": "execute_result"
    }
   ],
   "source": [
    "train.head(7)\n",
    "# 일자\n",
    "# 요일 ###\n",
    "# 본사 정원수\n",
    "# 본사휴가자수\n",
    "# 본사출장자수\n",
    "# 본사시간외근무명령서승인건수\n",
    "# 현본사소속재택근무자수 ###\n",
    "# 조식메뉴\n",
    "# 중식메뉴 ###\n",
    "# 석식메뉴 ###\n",
    "\n",
    "# 중식계\n",
    "# 석식계\n",
    "\n",
    "# 중식계, 석식계는 합계인듯. 예측해야 하는 것."
   ]
  },
  {
   "cell_type": "code",
   "execution_count": 117,
   "id": "92d966bb",
   "metadata": {},
   "outputs": [
    {
     "data": {
      "text/plain": [
       "1"
      ]
     },
     "execution_count": 117,
     "metadata": {},
     "output_type": "execute_result"
    }
   ],
   "source": [
    "# test cell\n",
    "# '소' in train['중식메뉴'][6]\n",
    "train['중식메뉴'][1193]\n",
    "# train[(train['중식메뉴'].str.contains('돈')==False)].head(10)"
   ]
  },
  {
   "cell_type": "markdown",
   "id": "998eee09",
   "metadata": {},
   "source": [
    "# 전처리"
   ]
  },
  {
   "cell_type": "code",
   "execution_count": 6,
   "id": "03833051",
   "metadata": {},
   "outputs": [
    {
     "data": {
      "text/plain": [
       "(1205, 12)"
      ]
     },
     "execution_count": 6,
     "metadata": {},
     "output_type": "execute_result"
    }
   ],
   "source": [
    "# train[train['중식메뉴'].contains('고기')]\n",
    "# (train.loc[train['중식메뉴'].str.contains('고기'), '중식메뉴']).count()\n",
    "train.shape\n",
    "# train.loc[train['중식메뉴'].str.contains('고기'), '중식메뉴']\n",
    "train.loc[(train['중식메뉴'].str.contains('쇠'))|(train['중식메뉴'].str.contains('소'))|(train['중식메뉴'].str.contains('고기'))|\n",
    "          (train['중식메뉴'].str.contains('돼지'))|(train['중식메뉴'].str.contains('돈육'))|\n",
    "          (train['중식메뉴'].str.contains('닭'))|(train['중식메뉴'].str.contains('치킨'))|\n",
    "          (train['중식메뉴'].str.contains('오리')), '중식메뉴'] = 1\n",
    "train.loc[train['중식메뉴']!=1, '중식메뉴'] = 0\n",
    "# train.loc[(train['중식메뉴'].str.contains('돼지'))|(train['중식메뉴'].str.contains('돈육')), '중식메뉴']\n",
    "# train.loc[(train['중식메뉴'].str.contains('닭'))|(train['중식메뉴'].str.contains('치킨')), '중식메뉴']\n",
    "# train.loc[(train['중식메뉴'].str.contains('오리')), '중식메뉴']"
   ]
  },
  {
   "cell_type": "code",
   "execution_count": 7,
   "id": "5c14233c",
   "metadata": {},
   "outputs": [],
   "source": [
    "test.loc[(test['중식메뉴'].str.contains('쇠'))|(test['중식메뉴'].str.contains('소'))|(test['중식메뉴'].str.contains('고기'))|\n",
    "          (test['중식메뉴'].str.contains('돼지'))|(test['중식메뉴'].str.contains('돈육'))|\n",
    "          (test['중식메뉴'].str.contains('닭'))|(test['중식메뉴'].str.contains('치킨'))|\n",
    "          (test['중식메뉴'].str.contains('오리')), '중식메뉴'] = 1\n",
    "test.loc[test['중식메뉴']!=1, '중식메뉴'] = 0"
   ]
  },
  {
   "cell_type": "code",
   "execution_count": 8,
   "id": "34e97bc3",
   "metadata": {},
   "outputs": [
    {
     "data": {
      "text/plain": [
       "1    869\n",
       "0    336\n",
       "Name: 중식메뉴, dtype: int64"
      ]
     },
     "execution_count": 8,
     "metadata": {},
     "output_type": "execute_result"
    },
    {
     "data": {
      "text/plain": [
       "1    35\n",
       "0    15\n",
       "Name: 중식메뉴, dtype: int64"
      ]
     },
     "execution_count": 8,
     "metadata": {},
     "output_type": "execute_result"
    }
   ],
   "source": [
    "train['중식메뉴'].value_counts()\n",
    "test['중식메뉴'].value_counts()"
   ]
  },
  {
   "cell_type": "code",
   "execution_count": 9,
   "id": "05ffc4b6",
   "metadata": {},
   "outputs": [],
   "source": [
    "# int 형으로 바꾸기\n",
    "train['중식메뉴'] = train['중식메뉴'].map(int)\n",
    "test['중식메뉴'] = test['중식메뉴'].map(int)"
   ]
  },
  {
   "cell_type": "code",
   "execution_count": 10,
   "id": "3de3d6a8",
   "metadata": {},
   "outputs": [],
   "source": [
    "train.loc[(train['석식메뉴'].str.contains('쇠'))|(train['석식메뉴'].str.contains('소'))|(train['석식메뉴'].str.contains('고기'))|\n",
    "          (train['석식메뉴'].str.contains('돼지'))|(train['석식메뉴'].str.contains('돈육'))|\n",
    "          (train['석식메뉴'].str.contains('닭'))|(train['석식메뉴'].str.contains('치킨'))|\n",
    "          (train['석식메뉴'].str.contains('오리')), '석식메뉴'] = 1\n",
    "train.loc[train['석식메뉴']!=1, '석식메뉴'] = 0\n",
    "\n",
    "test.loc[(test['석식메뉴'].str.contains('쇠'))|(test['석식메뉴'].str.contains('소'))|(test['석식메뉴'].str.contains('고기'))|\n",
    "          (test['석식메뉴'].str.contains('돼지'))|(test['석식메뉴'].str.contains('돈육'))|\n",
    "          (test['석식메뉴'].str.contains('닭'))|(test['석식메뉴'].str.contains('치킨'))|\n",
    "          (test['석식메뉴'].str.contains('오리')), '석식메뉴'] = 1\n",
    "test.loc[test['석식메뉴']!=1, '석식메뉴'] = 0"
   ]
  },
  {
   "cell_type": "code",
   "execution_count": 11,
   "id": "561a309e",
   "metadata": {},
   "outputs": [],
   "source": [
    "# int 형으로 바꾸기\n",
    "train['석식메뉴'] = train['석식메뉴'].map(int)\n",
    "test['석식메뉴'] = test['석식메뉴'].map(int)"
   ]
  },
  {
   "cell_type": "code",
   "execution_count": 12,
   "id": "ef22d7b0",
   "metadata": {},
   "outputs": [
    {
     "data": {
      "text/plain": [
       "array(['월', '화', '수', ..., '금', '월', '화'], dtype=object)"
      ]
     },
     "execution_count": 12,
     "metadata": {},
     "output_type": "execute_result"
    }
   ],
   "source": [
    "train['요일'].values"
   ]
  },
  {
   "cell_type": "code",
   "execution_count": 13,
   "id": "c4b39144",
   "metadata": {},
   "outputs": [],
   "source": [
    "train['요일'] = train['요일'].map({'월':1, '화':2, '수':3, '목':4, '금':5})\n",
    "test['요일'] = test['요일'].map({'월':1, '화':2, '수':3, '목':4, '금':5})"
   ]
  },
  {
   "cell_type": "code",
   "execution_count": 14,
   "id": "fae48c40",
   "metadata": {
    "scrolled": true
   },
   "outputs": [
    {
     "data": {
      "text/plain": [
       "0       1\n",
       "1       2\n",
       "2       3\n",
       "3       4\n",
       "4       5\n",
       "       ..\n",
       "1200    3\n",
       "1201    4\n",
       "1202    5\n",
       "1203    1\n",
       "1204    2\n",
       "Name: 요일, Length: 1205, dtype: int64"
      ]
     },
     "execution_count": 14,
     "metadata": {},
     "output_type": "execute_result"
    }
   ],
   "source": [
    "train['요일']"
   ]
  },
  {
   "cell_type": "code",
   "execution_count": 15,
   "id": "b941c6a0",
   "metadata": {
    "scrolled": true
   },
   "outputs": [
    {
     "name": "stdout",
     "output_type": "stream",
     "text": [
      "<class 'pandas.core.frame.DataFrame'>\n",
      "RangeIndex: 1205 entries, 0 to 1204\n",
      "Data columns (total 12 columns):\n",
      " #   Column          Non-Null Count  Dtype  \n",
      "---  ------          --------------  -----  \n",
      " 0   일자              1205 non-null   object \n",
      " 1   요일              1205 non-null   int64  \n",
      " 2   본사정원수           1205 non-null   int64  \n",
      " 3   본사휴가자수          1205 non-null   int64  \n",
      " 4   본사출장자수          1205 non-null   int64  \n",
      " 5   본사시간외근무명령서승인건수  1205 non-null   int64  \n",
      " 6   현본사소속재택근무자수     1205 non-null   float64\n",
      " 7   조식메뉴            1205 non-null   object \n",
      " 8   중식메뉴            1205 non-null   int64  \n",
      " 9   석식메뉴            1205 non-null   int64  \n",
      " 10  중식계             1205 non-null   float64\n",
      " 11  석식계             1205 non-null   float64\n",
      "dtypes: float64(3), int64(7), object(2)\n",
      "memory usage: 113.1+ KB\n"
     ]
    }
   ],
   "source": [
    "train.info()"
   ]
  },
  {
   "cell_type": "code",
   "execution_count": 16,
   "id": "bd6b361b",
   "metadata": {},
   "outputs": [],
   "source": [
    "import lightgbm as lgbm\n",
    "import random"
   ]
  },
  {
   "cell_type": "code",
   "execution_count": 18,
   "id": "8570ccd3",
   "metadata": {},
   "outputs": [],
   "source": [
    "X_train_중식 = train[['요일', '현본사소속재택근무자수', '중식메뉴']]\n",
    "X_train_석식 = train[['요일', '현본사소속재택근무자수', '석식메뉴']]\n",
    "\n",
    "y_train_중식 = train[['중식계']]\n",
    "y_train_석식 = train[['석식계']]\n",
    "\n",
    "X_test_중식 = test[['요일', '현본사소속재택근무자수', '중식메뉴']]\n",
    "X_test_석식 = test[['요일', '현본사소속재택근무자수', '석식메뉴']]\n",
    "\n",
    "user_seed = 42\n",
    "random.seed(user_seed)\n",
    "LGBM = lgbm.LGBMRegressor(random_state = user_seed, learning_rate = 0.01, n_estimators = 500)\n",
    "\n",
    "model_중식 = LGBM.fit(X_train_중식, y_train_중식)\n",
    "y_pred_test_중식 = model_중식.predict(X_test_중식, num_iteration = LGBM.best_iteration_)\n",
    "\n",
    "model_석식 = LGBM.fit(X_train_석식, y_train_석식)\n",
    "y_pred_test_석식 = model_석식.predict(X_test_석식, num_iteration = LGBM.best_iteration_)\n"
   ]
  },
  {
   "cell_type": "code",
   "execution_count": 20,
   "id": "bbbaf326",
   "metadata": {},
   "outputs": [
    {
     "data": {
      "text/html": [
       "<div>\n",
       "<style scoped>\n",
       "    .dataframe tbody tr th:only-of-type {\n",
       "        vertical-align: middle;\n",
       "    }\n",
       "\n",
       "    .dataframe tbody tr th {\n",
       "        vertical-align: top;\n",
       "    }\n",
       "\n",
       "    .dataframe thead th {\n",
       "        text-align: right;\n",
       "    }\n",
       "</style>\n",
       "<table border=\"1\" class=\"dataframe\">\n",
       "  <thead>\n",
       "    <tr style=\"text-align: right;\">\n",
       "      <th></th>\n",
       "      <th>0</th>\n",
       "    </tr>\n",
       "  </thead>\n",
       "  <tbody>\n",
       "    <tr>\n",
       "      <th>0</th>\n",
       "      <td>1049.418413</td>\n",
       "    </tr>\n",
       "    <tr>\n",
       "      <th>1</th>\n",
       "      <td>934.934949</td>\n",
       "    </tr>\n",
       "    <tr>\n",
       "      <th>2</th>\n",
       "      <td>730.085024</td>\n",
       "    </tr>\n",
       "    <tr>\n",
       "      <th>3</th>\n",
       "      <td>1216.418807</td>\n",
       "    </tr>\n",
       "    <tr>\n",
       "      <th>4</th>\n",
       "      <td>1036.849630</td>\n",
       "    </tr>\n",
       "  </tbody>\n",
       "</table>\n",
       "</div>"
      ],
      "text/plain": [
       "             0\n",
       "0  1049.418413\n",
       "1   934.934949\n",
       "2   730.085024\n",
       "3  1216.418807\n",
       "4  1036.849630"
      ]
     },
     "execution_count": 20,
     "metadata": {},
     "output_type": "execute_result"
    }
   ],
   "source": [
    "중식계 = pd.DataFrame(y_pred_test_중식)\n",
    "중식계.head()"
   ]
  },
  {
   "cell_type": "code",
   "execution_count": 21,
   "id": "ddbdc518",
   "metadata": {},
   "outputs": [
    {
     "data": {
      "text/html": [
       "<div>\n",
       "<style scoped>\n",
       "    .dataframe tbody tr th:only-of-type {\n",
       "        vertical-align: middle;\n",
       "    }\n",
       "\n",
       "    .dataframe tbody tr th {\n",
       "        vertical-align: top;\n",
       "    }\n",
       "\n",
       "    .dataframe thead th {\n",
       "        text-align: right;\n",
       "    }\n",
       "</style>\n",
       "<table border=\"1\" class=\"dataframe\">\n",
       "  <thead>\n",
       "    <tr style=\"text-align: right;\">\n",
       "      <th></th>\n",
       "      <th>0</th>\n",
       "    </tr>\n",
       "  </thead>\n",
       "  <tbody>\n",
       "    <tr>\n",
       "      <th>0</th>\n",
       "      <td>402.800545</td>\n",
       "    </tr>\n",
       "    <tr>\n",
       "      <th>1</th>\n",
       "      <td>447.873971</td>\n",
       "    </tr>\n",
       "    <tr>\n",
       "      <th>2</th>\n",
       "      <td>327.103717</td>\n",
       "    </tr>\n",
       "    <tr>\n",
       "      <th>3</th>\n",
       "      <td>576.331021</td>\n",
       "    </tr>\n",
       "    <tr>\n",
       "      <th>4</th>\n",
       "      <td>537.532635</td>\n",
       "    </tr>\n",
       "  </tbody>\n",
       "</table>\n",
       "</div>"
      ],
      "text/plain": [
       "            0\n",
       "0  402.800545\n",
       "1  447.873971\n",
       "2  327.103717\n",
       "3  576.331021\n",
       "4  537.532635"
      ]
     },
     "execution_count": 21,
     "metadata": {},
     "output_type": "execute_result"
    }
   ],
   "source": [
    "석식계 = pd.DataFrame(y_pred_test_석식)\n",
    "석식계.head()"
   ]
  },
  {
   "cell_type": "code",
   "execution_count": 23,
   "id": "750cc1cf",
   "metadata": {},
   "outputs": [
    {
     "data": {
      "text/html": [
       "<div>\n",
       "<style scoped>\n",
       "    .dataframe tbody tr th:only-of-type {\n",
       "        vertical-align: middle;\n",
       "    }\n",
       "\n",
       "    .dataframe tbody tr th {\n",
       "        vertical-align: top;\n",
       "    }\n",
       "\n",
       "    .dataframe thead th {\n",
       "        text-align: right;\n",
       "    }\n",
       "</style>\n",
       "<table border=\"1\" class=\"dataframe\">\n",
       "  <thead>\n",
       "    <tr style=\"text-align: right;\">\n",
       "      <th></th>\n",
       "      <th>일자</th>\n",
       "      <th>0</th>\n",
       "      <th>0</th>\n",
       "    </tr>\n",
       "  </thead>\n",
       "  <tbody>\n",
       "    <tr>\n",
       "      <th>0</th>\n",
       "      <td>2021-01-27</td>\n",
       "      <td>1049.418413</td>\n",
       "      <td>402.800545</td>\n",
       "    </tr>\n",
       "    <tr>\n",
       "      <th>1</th>\n",
       "      <td>2021-01-28</td>\n",
       "      <td>934.934949</td>\n",
       "      <td>447.873971</td>\n",
       "    </tr>\n",
       "    <tr>\n",
       "      <th>2</th>\n",
       "      <td>2021-01-29</td>\n",
       "      <td>730.085024</td>\n",
       "      <td>327.103717</td>\n",
       "    </tr>\n",
       "    <tr>\n",
       "      <th>3</th>\n",
       "      <td>2021-02-01</td>\n",
       "      <td>1216.418807</td>\n",
       "      <td>576.331021</td>\n",
       "    </tr>\n",
       "    <tr>\n",
       "      <th>4</th>\n",
       "      <td>2021-02-02</td>\n",
       "      <td>1036.849630</td>\n",
       "      <td>537.532635</td>\n",
       "    </tr>\n",
       "  </tbody>\n",
       "</table>\n",
       "</div>"
      ],
      "text/plain": [
       "           일자            0           0\n",
       "0  2021-01-27  1049.418413  402.800545\n",
       "1  2021-01-28   934.934949  447.873971\n",
       "2  2021-01-29   730.085024  327.103717\n",
       "3  2021-02-01  1216.418807  576.331021\n",
       "4  2021-02-02  1036.849630  537.532635"
      ]
     },
     "execution_count": 23,
     "metadata": {},
     "output_type": "execute_result"
    }
   ],
   "source": [
    "findata = pd.concat([test['일자'], 중식계, 석식계], axis = 1)\n",
    "findata.head()"
   ]
  },
  {
   "cell_type": "code",
   "execution_count": 24,
   "id": "c77d04b4",
   "metadata": {},
   "outputs": [
    {
     "data": {
      "text/html": [
       "<div>\n",
       "<style scoped>\n",
       "    .dataframe tbody tr th:only-of-type {\n",
       "        vertical-align: middle;\n",
       "    }\n",
       "\n",
       "    .dataframe tbody tr th {\n",
       "        vertical-align: top;\n",
       "    }\n",
       "\n",
       "    .dataframe thead th {\n",
       "        text-align: right;\n",
       "    }\n",
       "</style>\n",
       "<table border=\"1\" class=\"dataframe\">\n",
       "  <thead>\n",
       "    <tr style=\"text-align: right;\">\n",
       "      <th></th>\n",
       "      <th>일자</th>\n",
       "      <th>중식계</th>\n",
       "      <th>석식계</th>\n",
       "    </tr>\n",
       "  </thead>\n",
       "  <tbody>\n",
       "    <tr>\n",
       "      <th>0</th>\n",
       "      <td>2021-01-27</td>\n",
       "      <td>1049.418413</td>\n",
       "      <td>402.800545</td>\n",
       "    </tr>\n",
       "    <tr>\n",
       "      <th>1</th>\n",
       "      <td>2021-01-28</td>\n",
       "      <td>934.934949</td>\n",
       "      <td>447.873971</td>\n",
       "    </tr>\n",
       "    <tr>\n",
       "      <th>2</th>\n",
       "      <td>2021-01-29</td>\n",
       "      <td>730.085024</td>\n",
       "      <td>327.103717</td>\n",
       "    </tr>\n",
       "    <tr>\n",
       "      <th>3</th>\n",
       "      <td>2021-02-01</td>\n",
       "      <td>1216.418807</td>\n",
       "      <td>576.331021</td>\n",
       "    </tr>\n",
       "    <tr>\n",
       "      <th>4</th>\n",
       "      <td>2021-02-02</td>\n",
       "      <td>1036.849630</td>\n",
       "      <td>537.532635</td>\n",
       "    </tr>\n",
       "  </tbody>\n",
       "</table>\n",
       "</div>"
      ],
      "text/plain": [
       "           일자          중식계         석식계\n",
       "0  2021-01-27  1049.418413  402.800545\n",
       "1  2021-01-28   934.934949  447.873971\n",
       "2  2021-01-29   730.085024  327.103717\n",
       "3  2021-02-01  1216.418807  576.331021\n",
       "4  2021-02-02  1036.849630  537.532635"
      ]
     },
     "execution_count": 24,
     "metadata": {},
     "output_type": "execute_result"
    }
   ],
   "source": [
    "findata.columns = ['일자', '중식계', '석식계']\n",
    "findata.head()"
   ]
  },
  {
   "cell_type": "code",
   "execution_count": 25,
   "id": "54f2055b",
   "metadata": {},
   "outputs": [],
   "source": [
    "findata.to_csv('2nd 요일, 재택자수, 중식메뉴, 석식메뉴, 고기 or not.csv', index=False)"
   ]
  },
  {
   "cell_type": "code",
   "execution_count": null,
   "id": "f1e6a80e",
   "metadata": {},
   "outputs": [],
   "source": []
  }
 ],
 "metadata": {
  "kernelspec": {
   "display_name": "Python 3",
   "language": "python",
   "name": "python3"
  },
  "language_info": {
   "codemirror_mode": {
    "name": "ipython",
    "version": 3
   },
   "file_extension": ".py",
   "mimetype": "text/x-python",
   "name": "python",
   "nbconvert_exporter": "python",
   "pygments_lexer": "ipython3",
   "version": "3.8.5"
  },
  "latex_envs": {
   "LaTeX_envs_menu_present": true,
   "autoclose": false,
   "autocomplete": true,
   "bibliofile": "biblio.bib",
   "cite_by": "apalike",
   "current_citInitial": 1,
   "eqLabelWithNumbers": true,
   "eqNumInitial": 1,
   "hotkeys": {
    "equation": "Ctrl-E",
    "itemize": "Ctrl-I"
   },
   "labels_anchors": false,
   "latex_user_defs": false,
   "report_style_numbering": false,
   "user_envs_cfg": false
  },
  "toc": {
   "base_numbering": 1,
   "nav_menu": {},
   "number_sections": true,
   "sideBar": true,
   "skip_h1_title": false,
   "title_cell": "Table of Contents",
   "title_sidebar": "Contents",
   "toc_cell": true,
   "toc_position": {},
   "toc_section_display": true,
   "toc_window_display": true
  }
 },
 "nbformat": 4,
 "nbformat_minor": 5
}

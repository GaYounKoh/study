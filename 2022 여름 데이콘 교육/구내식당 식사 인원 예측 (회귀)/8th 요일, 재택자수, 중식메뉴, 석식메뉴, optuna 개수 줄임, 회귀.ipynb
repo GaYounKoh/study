{
 "cells": [
  {
   "cell_type": "markdown",
   "id": "a07ec2da",
   "metadata": {
    "toc": true
   },
   "source": [
    "<h1>Table of Contents<span class=\"tocSkip\"></span></h1>\n",
    "<div class=\"toc\"><ul class=\"toc-item\"><li><span><a href=\"#평가방식-MAE\" data-toc-modified-id=\"평가방식-MAE-1\"><span class=\"toc-item-num\">1&nbsp;&nbsp;</span>평가방식 MAE</a></span></li><li><span><a href=\"#library-import\" data-toc-modified-id=\"library-import-2\"><span class=\"toc-item-num\">2&nbsp;&nbsp;</span>library import</a></span></li><li><span><a href=\"#data-load\" data-toc-modified-id=\"data-load-3\"><span class=\"toc-item-num\">3&nbsp;&nbsp;</span>data load</a></span></li><li><span><a href=\"#전처리\" data-toc-modified-id=\"전처리-4\"><span class=\"toc-item-num\">4&nbsp;&nbsp;</span>전처리</a></span></li><li><span><a href=\"#optuna\" data-toc-modified-id=\"optuna-5\"><span class=\"toc-item-num\">5&nbsp;&nbsp;</span>optuna</a></span></li><li><span><a href=\"#model-fitting-with-tuned-hyperparameters\" data-toc-modified-id=\"model-fitting-with-tuned-hyperparameters-6\"><span class=\"toc-item-num\">6&nbsp;&nbsp;</span>model fitting with tuned hyperparameters</a></span></li></ul></div>"
   ]
  },
  {
   "cell_type": "markdown",
   "id": "865a7daf",
   "metadata": {},
   "source": [
    "# 평가방식 MAE\n",
    "... 회귀.... <br>\n",
    "회귀도 input은 수치여야함."
   ]
  },
  {
   "cell_type": "markdown",
   "id": "b4fbde62",
   "metadata": {},
   "source": [
    "# library import"
   ]
  },
  {
   "cell_type": "code",
   "execution_count": 1,
   "id": "50bcf1d3",
   "metadata": {},
   "outputs": [],
   "source": [
    "import pandas as pd\n",
    "from IPython.core.interactiveshell import InteractiveShell\n",
    "InteractiveShell.ast_node_interactivity = 'all'\n",
    "from tqdm import tqdm\n",
    "import warnings\n",
    "warnings.filterwarnings('ignore')"
   ]
  },
  {
   "cell_type": "markdown",
   "id": "32676427",
   "metadata": {},
   "source": [
    "# data load"
   ]
  },
  {
   "cell_type": "code",
   "execution_count": 2,
   "id": "8ca62715",
   "metadata": {},
   "outputs": [],
   "source": [
    "train = pd.read_csv('../235743_구내식당 식사 인원 예측 AI 경진대회_data/train.csv')\n",
    "test = pd.read_csv('../235743_구내식당 식사 인원 예측 AI 경진대회_data/test.csv')"
   ]
  },
  {
   "cell_type": "code",
   "execution_count": 3,
   "id": "d4f60bfb",
   "metadata": {},
   "outputs": [
    {
     "data": {
      "text/html": [
       "<div>\n",
       "<style scoped>\n",
       "    .dataframe tbody tr th:only-of-type {\n",
       "        vertical-align: middle;\n",
       "    }\n",
       "\n",
       "    .dataframe tbody tr th {\n",
       "        vertical-align: top;\n",
       "    }\n",
       "\n",
       "    .dataframe thead th {\n",
       "        text-align: right;\n",
       "    }\n",
       "</style>\n",
       "<table border=\"1\" class=\"dataframe\">\n",
       "  <thead>\n",
       "    <tr style=\"text-align: right;\">\n",
       "      <th></th>\n",
       "      <th>일자</th>\n",
       "      <th>요일</th>\n",
       "      <th>본사정원수</th>\n",
       "      <th>본사휴가자수</th>\n",
       "      <th>본사출장자수</th>\n",
       "      <th>본사시간외근무명령서승인건수</th>\n",
       "      <th>현본사소속재택근무자수</th>\n",
       "      <th>조식메뉴</th>\n",
       "      <th>중식메뉴</th>\n",
       "      <th>석식메뉴</th>\n",
       "      <th>중식계</th>\n",
       "      <th>석식계</th>\n",
       "    </tr>\n",
       "  </thead>\n",
       "  <tbody>\n",
       "    <tr>\n",
       "      <th>0</th>\n",
       "      <td>2016-02-01</td>\n",
       "      <td>월</td>\n",
       "      <td>2601</td>\n",
       "      <td>50</td>\n",
       "      <td>150</td>\n",
       "      <td>238</td>\n",
       "      <td>0.0</td>\n",
       "      <td>모닝롤/찐빵  우유/두유/주스 계란후라이  호두죽/쌀밥 (쌀:국내산) 된장찌개  쥐...</td>\n",
       "      <td>쌀밥/잡곡밥 (쌀,현미흑미:국내산) 오징어찌개  쇠불고기 (쇠고기:호주산) 계란찜 ...</td>\n",
       "      <td>쌀밥/잡곡밥 (쌀,현미흑미:국내산) 육개장  자반고등어구이  두부조림  건파래무침 ...</td>\n",
       "      <td>1039.0</td>\n",
       "      <td>331.0</td>\n",
       "    </tr>\n",
       "    <tr>\n",
       "      <th>1</th>\n",
       "      <td>2016-02-02</td>\n",
       "      <td>화</td>\n",
       "      <td>2601</td>\n",
       "      <td>50</td>\n",
       "      <td>173</td>\n",
       "      <td>319</td>\n",
       "      <td>0.0</td>\n",
       "      <td>모닝롤/단호박샌드  우유/두유/주스 계란후라이  팥죽/쌀밥 (쌀:국내산) 호박젓국찌...</td>\n",
       "      <td>쌀밥/잡곡밥 (쌀,현미흑미:국내산) 김치찌개  가자미튀김  모둠소세지구이  마늘쫑무...</td>\n",
       "      <td>콩나물밥*양념장 (쌀,현미흑미:국내산) 어묵국  유산슬 (쇠고기:호주산) 아삭고추무...</td>\n",
       "      <td>867.0</td>\n",
       "      <td>560.0</td>\n",
       "    </tr>\n",
       "    <tr>\n",
       "      <th>2</th>\n",
       "      <td>2016-02-03</td>\n",
       "      <td>수</td>\n",
       "      <td>2601</td>\n",
       "      <td>56</td>\n",
       "      <td>180</td>\n",
       "      <td>111</td>\n",
       "      <td>0.0</td>\n",
       "      <td>모닝롤/베이글  우유/두유/주스 계란후라이  표고버섯죽/쌀밥 (쌀:국내산) 콩나물국...</td>\n",
       "      <td>카레덮밥 (쌀,현미흑미:국내산) 팽이장국  치킨핑거 (닭고기:국내산) 쫄면야채무침 ...</td>\n",
       "      <td>쌀밥/잡곡밥 (쌀,현미흑미:국내산) 청국장찌개  황태양념구이 (황태:러시아산) 고기...</td>\n",
       "      <td>1017.0</td>\n",
       "      <td>573.0</td>\n",
       "    </tr>\n",
       "    <tr>\n",
       "      <th>3</th>\n",
       "      <td>2016-02-04</td>\n",
       "      <td>목</td>\n",
       "      <td>2601</td>\n",
       "      <td>104</td>\n",
       "      <td>220</td>\n",
       "      <td>355</td>\n",
       "      <td>0.0</td>\n",
       "      <td>모닝롤/토마토샌드  우유/두유/주스 계란후라이  닭죽/쌀밥 (쌀,닭:국내산) 근대국...</td>\n",
       "      <td>쌀밥/잡곡밥 (쌀,현미흑미:국내산) 쇠고기무국  주꾸미볶음  부추전  시금치나물  ...</td>\n",
       "      <td>미니김밥*겨자장 (쌀,현미흑미:국내산) 우동  멕시칸샐러드  군고구마  무피클  포...</td>\n",
       "      <td>978.0</td>\n",
       "      <td>525.0</td>\n",
       "    </tr>\n",
       "    <tr>\n",
       "      <th>4</th>\n",
       "      <td>2016-02-05</td>\n",
       "      <td>금</td>\n",
       "      <td>2601</td>\n",
       "      <td>278</td>\n",
       "      <td>181</td>\n",
       "      <td>34</td>\n",
       "      <td>0.0</td>\n",
       "      <td>모닝롤/와플  우유/두유/주스 계란후라이  쇠고기죽/쌀밥 (쌀:국내산) 재첩국  방...</td>\n",
       "      <td>쌀밥/잡곡밥 (쌀,현미흑미:국내산) 떡국  돈육씨앗강정 (돼지고기:국내산) 우엉잡채...</td>\n",
       "      <td>쌀밥/잡곡밥 (쌀,현미흑미:국내산) 차돌박이찌개 (쇠고기:호주산) 닭갈비 (닭고기:...</td>\n",
       "      <td>925.0</td>\n",
       "      <td>330.0</td>\n",
       "    </tr>\n",
       "    <tr>\n",
       "      <th>5</th>\n",
       "      <td>2016-02-11</td>\n",
       "      <td>목</td>\n",
       "      <td>2601</td>\n",
       "      <td>383</td>\n",
       "      <td>143</td>\n",
       "      <td>417</td>\n",
       "      <td>0.0</td>\n",
       "      <td>팬케익/찐빵  우유/두유/주스  계란후라이  견과류죽/쌀밥 (쌀:국내산) 감자찌개 ...</td>\n",
       "      <td>쌀밥/잡곡밥 (쌀,현미흑미:국내산) 시래기국  훈제오리구이  도토리묵무침  쌈무/양...</td>\n",
       "      <td>참치회덮밥 (쌀,현미흑미:국내산) 맑은국  군만두  과일샐러드  락교  포기김치 (...</td>\n",
       "      <td>1045.0</td>\n",
       "      <td>550.0</td>\n",
       "    </tr>\n",
       "  </tbody>\n",
       "</table>\n",
       "</div>"
      ],
      "text/plain": [
       "           일자 요일  본사정원수  본사휴가자수  본사출장자수  본사시간외근무명령서승인건수  현본사소속재택근무자수  \\\n",
       "0  2016-02-01  월   2601      50     150             238          0.0   \n",
       "1  2016-02-02  화   2601      50     173             319          0.0   \n",
       "2  2016-02-03  수   2601      56     180             111          0.0   \n",
       "3  2016-02-04  목   2601     104     220             355          0.0   \n",
       "4  2016-02-05  금   2601     278     181              34          0.0   \n",
       "5  2016-02-11  목   2601     383     143             417          0.0   \n",
       "\n",
       "                                                조식메뉴  \\\n",
       "0  모닝롤/찐빵  우유/두유/주스 계란후라이  호두죽/쌀밥 (쌀:국내산) 된장찌개  쥐...   \n",
       "1  모닝롤/단호박샌드  우유/두유/주스 계란후라이  팥죽/쌀밥 (쌀:국내산) 호박젓국찌...   \n",
       "2  모닝롤/베이글  우유/두유/주스 계란후라이  표고버섯죽/쌀밥 (쌀:국내산) 콩나물국...   \n",
       "3  모닝롤/토마토샌드  우유/두유/주스 계란후라이  닭죽/쌀밥 (쌀,닭:국내산) 근대국...   \n",
       "4  모닝롤/와플  우유/두유/주스 계란후라이  쇠고기죽/쌀밥 (쌀:국내산) 재첩국  방...   \n",
       "5  팬케익/찐빵  우유/두유/주스  계란후라이  견과류죽/쌀밥 (쌀:국내산) 감자찌개 ...   \n",
       "\n",
       "                                                중식메뉴  \\\n",
       "0  쌀밥/잡곡밥 (쌀,현미흑미:국내산) 오징어찌개  쇠불고기 (쇠고기:호주산) 계란찜 ...   \n",
       "1  쌀밥/잡곡밥 (쌀,현미흑미:국내산) 김치찌개  가자미튀김  모둠소세지구이  마늘쫑무...   \n",
       "2  카레덮밥 (쌀,현미흑미:국내산) 팽이장국  치킨핑거 (닭고기:국내산) 쫄면야채무침 ...   \n",
       "3  쌀밥/잡곡밥 (쌀,현미흑미:국내산) 쇠고기무국  주꾸미볶음  부추전  시금치나물  ...   \n",
       "4  쌀밥/잡곡밥 (쌀,현미흑미:국내산) 떡국  돈육씨앗강정 (돼지고기:국내산) 우엉잡채...   \n",
       "5  쌀밥/잡곡밥 (쌀,현미흑미:국내산) 시래기국  훈제오리구이  도토리묵무침  쌈무/양...   \n",
       "\n",
       "                                                석식메뉴     중식계    석식계  \n",
       "0  쌀밥/잡곡밥 (쌀,현미흑미:국내산) 육개장  자반고등어구이  두부조림  건파래무침 ...  1039.0  331.0  \n",
       "1  콩나물밥*양념장 (쌀,현미흑미:국내산) 어묵국  유산슬 (쇠고기:호주산) 아삭고추무...   867.0  560.0  \n",
       "2  쌀밥/잡곡밥 (쌀,현미흑미:국내산) 청국장찌개  황태양념구이 (황태:러시아산) 고기...  1017.0  573.0  \n",
       "3  미니김밥*겨자장 (쌀,현미흑미:국내산) 우동  멕시칸샐러드  군고구마  무피클  포...   978.0  525.0  \n",
       "4  쌀밥/잡곡밥 (쌀,현미흑미:국내산) 차돌박이찌개 (쇠고기:호주산) 닭갈비 (닭고기:...   925.0  330.0  \n",
       "5  참치회덮밥 (쌀,현미흑미:국내산) 맑은국  군만두  과일샐러드  락교  포기김치 (...  1045.0  550.0  "
      ]
     },
     "execution_count": 3,
     "metadata": {},
     "output_type": "execute_result"
    }
   ],
   "source": [
    "train.head(6)\n",
    "# 일자\n",
    "# 요일 ###\n",
    "# 본사 정원수\n",
    "# 본사휴가자수\n",
    "# 본사출장자수\n",
    "# 본사시간외근무명령서승인건수\n",
    "# 현본사소속재택근무자수 ###\n",
    "# 조식메뉴\n",
    "# 중식메뉴 ###\n",
    "# 석식메뉴 ###\n",
    "\n",
    "# 중식계\n",
    "# 석식계\n",
    "\n",
    "# 중식계, 석식계는 합계인듯. 예측해야 하는 것."
   ]
  },
  {
   "cell_type": "markdown",
   "id": "998eee09",
   "metadata": {},
   "source": [
    "# 전처리"
   ]
  },
  {
   "cell_type": "code",
   "execution_count": 4,
   "id": "3a0f864b",
   "metadata": {},
   "outputs": [
    {
     "name": "stdout",
     "output_type": "stream",
     "text": [
      "<class 'pandas.core.frame.DataFrame'>\n",
      "RangeIndex: 1205 entries, 0 to 1204\n",
      "Data columns (total 12 columns):\n",
      " #   Column          Non-Null Count  Dtype  \n",
      "---  ------          --------------  -----  \n",
      " 0   일자              1205 non-null   object \n",
      " 1   요일              1205 non-null   object \n",
      " 2   본사정원수           1205 non-null   int64  \n",
      " 3   본사휴가자수          1205 non-null   int64  \n",
      " 4   본사출장자수          1205 non-null   int64  \n",
      " 5   본사시간외근무명령서승인건수  1205 non-null   int64  \n",
      " 6   현본사소속재택근무자수     1205 non-null   float64\n",
      " 7   조식메뉴            1205 non-null   object \n",
      " 8   중식메뉴            1205 non-null   object \n",
      " 9   석식메뉴            1205 non-null   object \n",
      " 10  중식계             1205 non-null   float64\n",
      " 11  석식계             1205 non-null   float64\n",
      "dtypes: float64(3), int64(4), object(5)\n",
      "memory usage: 113.1+ KB\n"
     ]
    }
   ],
   "source": [
    "# train['조식메뉴'].value_counts()\n",
    "train.info()"
   ]
  },
  {
   "cell_type": "code",
   "execution_count": 5,
   "id": "471d7ea2",
   "metadata": {},
   "outputs": [],
   "source": [
    "train.loc[(train['조식메뉴'].str.contains('쇠'))|(train['조식메뉴'].str.contains('소'))|(train['조식메뉴'].str.contains('고기'))|\n",
    "          (train['조식메뉴'].str.contains('돼지'))|(train['조식메뉴'].str.contains('돈육'))|\n",
    "          (train['조식메뉴'].str.contains('닭'))|(train['조식메뉴'].str.contains('치킨'))|\n",
    "          (train['조식메뉴'].str.contains('오리')), '조식메뉴'] = 1\n",
    "train.loc[train['조식메뉴']!=1, '조식메뉴'] = 0\n",
    "test.loc[(test['조식메뉴'].str.contains('쇠'))|(test['조식메뉴'].str.contains('소'))|(test['조식메뉴'].str.contains('고기'))|\n",
    "          (test['조식메뉴'].str.contains('돼지'))|(test['조식메뉴'].str.contains('돈육'))|\n",
    "          (test['조식메뉴'].str.contains('닭'))|(test['조식메뉴'].str.contains('치킨'))|\n",
    "          (test['조식메뉴'].str.contains('오리')), '조식메뉴'] = 1\n",
    "test.loc[test['조식메뉴']!=1, '조식메뉴'] = 0\n",
    "\n",
    "# int 형으로 바꾸기\n",
    "train['조식메뉴'] = train['조식메뉴'].map(int)\n",
    "test['조식메뉴'] = test['조식메뉴'].map(int)"
   ]
  },
  {
   "cell_type": "code",
   "execution_count": 6,
   "id": "03833051",
   "metadata": {},
   "outputs": [
    {
     "data": {
      "text/plain": [
       "(1205, 12)"
      ]
     },
     "execution_count": 6,
     "metadata": {},
     "output_type": "execute_result"
    }
   ],
   "source": [
    "# train[train['중식메뉴'].contains('고기')]\n",
    "# (train.loc[train['중식메뉴'].str.contains('고기'), '중식메뉴']).count()\n",
    "train.shape\n",
    "# train.loc[train['중식메뉴'].str.contains('고기'), '중식메뉴']\n",
    "train.loc[(train['중식메뉴'].str.contains('쇠'))|(train['중식메뉴'].str.contains('소'))|(train['중식메뉴'].str.contains('고기'))|\n",
    "          (train['중식메뉴'].str.contains('돼지'))|(train['중식메뉴'].str.contains('돈육'))|\n",
    "          (train['중식메뉴'].str.contains('닭'))|(train['중식메뉴'].str.contains('치킨'))|\n",
    "          (train['중식메뉴'].str.contains('오리')), '중식메뉴'] = 1\n",
    "train.loc[train['중식메뉴']!=1, '중식메뉴'] = 0\n",
    "# train.loc[(train['중식메뉴'].str.contains('돼지'))|(train['중식메뉴'].str.contains('돈육')), '중식메뉴']\n",
    "# train.loc[(train['중식메뉴'].str.contains('닭'))|(train['중식메뉴'].str.contains('치킨')), '중식메뉴']\n",
    "# train.loc[(train['중식메뉴'].str.contains('오리')), '중식메뉴']\n",
    "\n",
    "test.loc[(test['중식메뉴'].str.contains('쇠'))|(test['중식메뉴'].str.contains('소'))|(test['중식메뉴'].str.contains('고기'))|\n",
    "          (test['중식메뉴'].str.contains('돼지'))|(test['중식메뉴'].str.contains('돈육'))|\n",
    "          (test['중식메뉴'].str.contains('닭'))|(test['중식메뉴'].str.contains('치킨'))|\n",
    "          (test['중식메뉴'].str.contains('오리')), '중식메뉴'] = 1\n",
    "test.loc[test['중식메뉴']!=1, '중식메뉴'] = 0\n",
    "\n",
    "# int 형으로 바꾸기\n",
    "train['중식메뉴'] = train['중식메뉴'].map(int)\n",
    "test['중식메뉴'] = test['중식메뉴'].map(int)"
   ]
  },
  {
   "cell_type": "code",
   "execution_count": 7,
   "id": "3de3d6a8",
   "metadata": {},
   "outputs": [],
   "source": [
    "train.loc[(train['석식메뉴'].str.contains('쇠'))|(train['석식메뉴'].str.contains('소'))|(train['석식메뉴'].str.contains('고기'))|\n",
    "          (train['석식메뉴'].str.contains('돼지'))|(train['석식메뉴'].str.contains('돈육'))|\n",
    "          (train['석식메뉴'].str.contains('닭'))|(train['석식메뉴'].str.contains('치킨'))|\n",
    "          (train['석식메뉴'].str.contains('오리')), '석식메뉴'] = 1\n",
    "train.loc[train['석식메뉴']!=1, '석식메뉴'] = 0\n",
    "\n",
    "test.loc[(test['석식메뉴'].str.contains('쇠'))|(test['석식메뉴'].str.contains('소'))|(test['석식메뉴'].str.contains('고기'))|\n",
    "          (test['석식메뉴'].str.contains('돼지'))|(test['석식메뉴'].str.contains('돈육'))|\n",
    "          (test['석식메뉴'].str.contains('닭'))|(test['석식메뉴'].str.contains('치킨'))|\n",
    "          (test['석식메뉴'].str.contains('오리')), '석식메뉴'] = 1\n",
    "test.loc[test['석식메뉴']!=1, '석식메뉴'] = 0\n",
    "\n",
    "# int 형으로 바꾸기\n",
    "train['석식메뉴'] = train['석식메뉴'].map(int)\n",
    "test['석식메뉴'] = test['석식메뉴'].map(int)"
   ]
  },
  {
   "cell_type": "code",
   "execution_count": 8,
   "id": "ef22d7b0",
   "metadata": {},
   "outputs": [
    {
     "data": {
      "text/plain": [
       "array(['월', '화', '수', ..., '금', '월', '화'], dtype=object)"
      ]
     },
     "execution_count": 8,
     "metadata": {},
     "output_type": "execute_result"
    },
    {
     "data": {
      "text/plain": [
       "0       1\n",
       "1       2\n",
       "2       3\n",
       "3       4\n",
       "4       5\n",
       "       ..\n",
       "1200    3\n",
       "1201    4\n",
       "1202    5\n",
       "1203    1\n",
       "1204    2\n",
       "Name: 요일, Length: 1205, dtype: int64"
      ]
     },
     "execution_count": 8,
     "metadata": {},
     "output_type": "execute_result"
    }
   ],
   "source": [
    "train['요일'].values\n",
    "\n",
    "train['요일'] = train['요일'].map({'월':1, '화':2, '수':3, '목':4, '금':5})\n",
    "test['요일'] = test['요일'].map({'월':1, '화':2, '수':3, '목':4, '금':5})\n",
    "\n",
    "train['요일']"
   ]
  },
  {
   "cell_type": "code",
   "execution_count": 9,
   "id": "b941c6a0",
   "metadata": {
    "scrolled": true
   },
   "outputs": [
    {
     "name": "stdout",
     "output_type": "stream",
     "text": [
      "<class 'pandas.core.frame.DataFrame'>\n",
      "RangeIndex: 1205 entries, 0 to 1204\n",
      "Data columns (total 12 columns):\n",
      " #   Column          Non-Null Count  Dtype  \n",
      "---  ------          --------------  -----  \n",
      " 0   일자              1205 non-null   object \n",
      " 1   요일              1205 non-null   int64  \n",
      " 2   본사정원수           1205 non-null   int64  \n",
      " 3   본사휴가자수          1205 non-null   int64  \n",
      " 4   본사출장자수          1205 non-null   int64  \n",
      " 5   본사시간외근무명령서승인건수  1205 non-null   int64  \n",
      " 6   현본사소속재택근무자수     1205 non-null   float64\n",
      " 7   조식메뉴            1205 non-null   int64  \n",
      " 8   중식메뉴            1205 non-null   int64  \n",
      " 9   석식메뉴            1205 non-null   int64  \n",
      " 10  중식계             1205 non-null   float64\n",
      " 11  석식계             1205 non-null   float64\n",
      "dtypes: float64(3), int64(8), object(1)\n",
      "memory usage: 113.1+ KB\n"
     ]
    }
   ],
   "source": [
    "train.info()"
   ]
  },
  {
   "cell_type": "code",
   "execution_count": 10,
   "id": "bd6b361b",
   "metadata": {},
   "outputs": [],
   "source": [
    "import lightgbm as lgbm\n",
    "import random"
   ]
  },
  {
   "cell_type": "markdown",
   "id": "3f97d66a",
   "metadata": {},
   "source": [
    "# optuna\n",
    "[공식 docs](https://optuna.readthedocs.io/_/downloads/en/latest/pdf/) <br>\n",
    "[맨 처음 참고](https://ssoonidev.tistory.com/107) <br>\n",
    "[dacon, 다수 알고리즘에 대한 optuna 코드 보유](https://dacon.io/codeshare/2876) <br>\n",
    "[저장 안하려다 다른 포스팅 참고하라고 저장](https://velog.io/@dohy426/LGBM-Regressor-Optuna) <br>"
   ]
  },
  {
   "cell_type": "code",
   "execution_count": 11,
   "id": "d05c66cc",
   "metadata": {},
   "outputs": [
    {
     "data": {
      "text/plain": [
       "{'boosting_type': 'gbdt',\n",
       " 'class_weight': None,\n",
       " 'colsample_bytree': 1.0,\n",
       " 'importance_type': 'split',\n",
       " 'learning_rate': 0.1,\n",
       " 'max_depth': -1,\n",
       " 'min_child_samples': 20,\n",
       " 'min_child_weight': 0.001,\n",
       " 'min_split_gain': 0.0,\n",
       " 'n_estimators': 100,\n",
       " 'n_jobs': -1,\n",
       " 'num_leaves': 31,\n",
       " 'objective': None,\n",
       " 'random_state': None,\n",
       " 'reg_alpha': 0.0,\n",
       " 'reg_lambda': 0.0,\n",
       " 'silent': 'warn',\n",
       " 'subsample': 1.0,\n",
       " 'subsample_for_bin': 200000,\n",
       " 'subsample_freq': 0}"
      ]
     },
     "execution_count": 11,
     "metadata": {},
     "output_type": "execute_result"
    }
   ],
   "source": [
    "lgbm.LGBMRegressor().get_params()"
   ]
  },
  {
   "cell_type": "code",
   "execution_count": 25,
   "id": "d0748a6b",
   "metadata": {},
   "outputs": [],
   "source": [
    "# ! pip install optuna"
   ]
  },
  {
   "cell_type": "code",
   "execution_count": 12,
   "id": "69cf46f6",
   "metadata": {},
   "outputs": [
    {
     "name": "stderr",
     "output_type": "stream",
     "text": [
      "\u001b[32m[I 2022-07-06 01:47:15,401]\u001b[0m A new study created in memory with name: no-name-9cd996a6-7ab6-40bb-85d1-c23faf4bf2ce\u001b[0m\n",
      "\u001b[32m[I 2022-07-06 01:47:15,403]\u001b[0m A new study created in memory with name: no-name-9362a8a7-8613-4f83-8bfa-960f8271a1bb\u001b[0m\n",
      "\u001b[32m[I 2022-07-06 01:47:24,132]\u001b[0m Trial 0 finished with value: 86.60018953843539 and parameters: {'learning_rate': 0.037460266483547784, 'n_estimators': 4759, 'max_depth': 14, 'reg_alpha': 0.24810409748678125}. Best is trial 0 with value: 86.60018953843539.\u001b[0m\n",
      "\u001b[32m[I 2022-07-06 01:47:25,361]\u001b[0m Trial 1 finished with value: 90.38550981573029 and parameters: {'learning_rate': 0.01561030385783923, 'n_estimators': 864, 'max_depth': 8, 'reg_alpha': 2.9154431891537547}. Best is trial 0 with value: 86.60018953843539.\u001b[0m\n",
      "\u001b[32m[I 2022-07-06 01:47:30,211]\u001b[0m Trial 2 finished with value: 86.53539358509452 and parameters: {'learning_rate': 0.06011549002420346, 'n_estimators': 3570, 'max_depth': 8, 'reg_alpha': 7.579479953348009}. Best is trial 2 with value: 86.53539358509452.\u001b[0m\n",
      "\u001b[32m[I 2022-07-06 01:47:32,204]\u001b[0m Trial 3 finished with value: 87.67646842099285 and parameters: {'learning_rate': 0.08324593965363418, 'n_estimators': 1140, 'max_depth': 9, 'reg_alpha': 0.00541524411940254}. Best is trial 2 with value: 86.53539358509452.\u001b[0m\n",
      "\u001b[32m[I 2022-07-06 01:47:37,473]\u001b[0m Trial 4 finished with value: 87.9294466456672 and parameters: {'learning_rate': 0.030431181873524178, 'n_estimators': 2671, 'max_depth': 11, 'reg_alpha': 0.014618962793704957}. Best is trial 2 with value: 86.53539358509452.\u001b[0m\n",
      "\u001b[32m[I 2022-07-06 01:47:38,956]\u001b[0m Trial 5 finished with value: 88.3668176500934 and parameters: {'learning_rate': 0.06118917094329073, 'n_estimators': 783, 'max_depth': 10, 'reg_alpha': 0.029204338471814112}. Best is trial 2 with value: 86.53539358509452.\u001b[0m\n",
      "\u001b[32m[I 2022-07-06 01:47:45,662]\u001b[0m Trial 6 finished with value: 86.61669791997576 and parameters: {'learning_rate': 0.04561243772186143, 'n_estimators': 3948, 'max_depth': 9, 'reg_alpha': 0.11400863701127326}. Best is trial 2 with value: 86.53539358509452.\u001b[0m\n",
      "\u001b[32m[I 2022-07-06 01:47:46,334]\u001b[0m Trial 7 finished with value: 89.81015624435767 and parameters: {'learning_rate': 0.05924553274051564, 'n_estimators': 327, 'max_depth': 13, 'reg_alpha': 0.004809461967501573}. Best is trial 2 with value: 86.53539358509452.\u001b[0m\n",
      "\u001b[32m[I 2022-07-06 01:47:54,818]\u001b[0m Trial 8 finished with value: 89.45367257694197 and parameters: {'learning_rate': 0.006514508782598099, 'n_estimators': 4750, 'max_depth': 16, 'reg_alpha': 1.7123375973163988}. Best is trial 2 with value: 86.53539358509452.\u001b[0m\n",
      "\u001b[32m[I 2022-07-06 01:47:55,959]\u001b[0m Trial 9 finished with value: 90.00119626535526 and parameters: {'learning_rate': 0.030468330779645336, 'n_estimators': 578, 'max_depth': 14, 'reg_alpha': 0.057624872164786026}. Best is trial 2 with value: 86.53539358509452.\u001b[0m\n",
      "\u001b[32m[I 2022-07-06 01:48:00,125]\u001b[0m Trial 10 finished with value: 86.06597872231116 and parameters: {'learning_rate': 0.09539941449907133, 'n_estimators': 2838, 'max_depth': 12, 'reg_alpha': 6.612511707027312}. Best is trial 10 with value: 86.06597872231116.\u001b[0m\n",
      "\u001b[32m[I 2022-07-06 01:48:03,551]\u001b[0m Trial 11 finished with value: 86.76340447965478 and parameters: {'learning_rate': 0.0964637855791376, 'n_estimators': 2922, 'max_depth': 12, 'reg_alpha': 8.840249636250757}. Best is trial 10 with value: 86.06597872231116.\u001b[0m\n",
      "\u001b[32m[I 2022-07-06 01:48:09,864]\u001b[0m Trial 12 finished with value: 85.81272743543326 and parameters: {'learning_rate': 0.0759993602741598, 'n_estimators': 3611, 'max_depth': 16, 'reg_alpha': 0.6146439247862426}. Best is trial 12 with value: 85.81272743543326.\u001b[0m\n",
      "\u001b[32m[I 2022-07-06 01:48:13,203]\u001b[0m Trial 13 finished with value: 86.89426129584092 and parameters: {'learning_rate': 0.08065655647929773, 'n_estimators': 1870, 'max_depth': 16, 'reg_alpha': 0.5169429282574263}. Best is trial 12 with value: 85.81272743543326.\u001b[0m\n",
      "\u001b[32m[I 2022-07-06 01:48:19,093]\u001b[0m Trial 14 finished with value: 85.25489909517455 and parameters: {'learning_rate': 0.09878521031034411, 'n_estimators': 3482, 'max_depth': 14, 'reg_alpha': 1.0315581477857316}. Best is trial 14 with value: 85.25489909517455.\u001b[0m\n",
      "\u001b[32m[I 2022-07-06 01:48:26,223]\u001b[0m Trial 15 finished with value: 85.66134241260475 and parameters: {'learning_rate': 0.07660944069789276, 'n_estimators': 3754, 'max_depth': 15, 'reg_alpha': 0.6314876863557825}. Best is trial 14 with value: 85.25489909517455.\u001b[0m\n",
      "\u001b[32m[I 2022-07-06 01:48:33,705]\u001b[0m Trial 16 finished with value: 85.53615455264983 and parameters: {'learning_rate': 0.07354752490696945, 'n_estimators': 4233, 'max_depth': 14, 'reg_alpha': 0.7045490097809962}. Best is trial 14 with value: 85.25489909517455.\u001b[0m\n",
      "\u001b[32m[I 2022-07-06 01:48:40,641]\u001b[0m Trial 17 finished with value: 85.003849788179 and parameters: {'learning_rate': 0.09899496702150291, 'n_estimators': 4139, 'max_depth': 14, 'reg_alpha': 1.489991244201919}. Best is trial 17 with value: 85.003849788179.\u001b[0m\n",
      "\u001b[32m[I 2022-07-06 01:48:44,085]\u001b[0m Trial 18 finished with value: 86.80917372330735 and parameters: {'learning_rate': 0.0889900964058078, 'n_estimators': 1831, 'max_depth': 13, 'reg_alpha': 1.6590640965688084}. Best is trial 17 with value: 85.003849788179.\u001b[0m\n",
      "\u001b[32m[I 2022-07-06 01:48:50,190]\u001b[0m Trial 19 finished with value: 85.36012992513628 and parameters: {'learning_rate': 0.09869274865415648, 'n_estimators': 3212, 'max_depth': 15, 'reg_alpha': 0.2235518390513537}. Best is trial 17 with value: 85.003849788179.\u001b[0m\n",
      "\u001b[32m[I 2022-07-06 01:48:54,016]\u001b[0m Trial 20 finished with value: 87.03823149706538 and parameters: {'learning_rate': 0.06884331888558864, 'n_estimators': 2156, 'max_depth': 13, 'reg_alpha': 2.7449523366183666}. Best is trial 17 with value: 85.003849788179.\u001b[0m\n",
      "\u001b[32m[I 2022-07-06 01:49:00,750]\u001b[0m Trial 21 finished with value: 85.33305108564002 and parameters: {'learning_rate': 0.09626580969681663, 'n_estimators': 3284, 'max_depth': 15, 'reg_alpha': 0.1972196715792923}. Best is trial 17 with value: 85.003849788179.\u001b[0m\n",
      "\u001b[32m[I 2022-07-06 01:49:09,347]\u001b[0m Trial 22 finished with value: 84.97026036640774 and parameters: {'learning_rate': 0.08923718719375898, 'n_estimators': 4319, 'max_depth': 15, 'reg_alpha': 0.19266790102358378}. Best is trial 22 with value: 84.97026036640774.\u001b[0m\n",
      "\u001b[32m[I 2022-07-06 01:49:18,194]\u001b[0m Trial 23 finished with value: 85.03200733962076 and parameters: {'learning_rate': 0.08539365794863059, 'n_estimators': 4333, 'max_depth': 14, 'reg_alpha': 0.0012124232777004015}. Best is trial 22 with value: 84.97026036640774.\u001b[0m\n",
      "\u001b[32m[I 2022-07-06 01:49:27,270]\u001b[0m Trial 24 finished with value: 84.9687054454458 and parameters: {'learning_rate': 0.0871690169127674, 'n_estimators': 4384, 'max_depth': 15, 'reg_alpha': 0.0027956508656999256}. Best is trial 24 with value: 84.9687054454458.\u001b[0m\n",
      "\u001b[32m[I 2022-07-06 01:49:37,747]\u001b[0m Trial 25 finished with value: 84.73807814072728 and parameters: {'learning_rate': 0.08934954526711715, 'n_estimators': 4932, 'max_depth': 15, 'reg_alpha': 0.05251588924019108}. Best is trial 25 with value: 84.73807814072728.\u001b[0m\n",
      "\u001b[32m[I 2022-07-06 01:49:47,906]\u001b[0m Trial 26 finished with value: 85.28496793191222 and parameters: {'learning_rate': 0.06868253688590639, 'n_estimators': 4906, 'max_depth': 15, 'reg_alpha': 0.0013135394994259763}. Best is trial 25 with value: 84.73807814072728.\u001b[0m\n",
      "\u001b[32m[I 2022-07-06 01:49:57,110]\u001b[0m Trial 27 finished with value: 84.86538058791227 and parameters: {'learning_rate': 0.08957442205305868, 'n_estimators': 4542, 'max_depth': 16, 'reg_alpha': 0.01872055973880241}. Best is trial 25 with value: 84.73807814072728.\u001b[0m\n",
      "\u001b[32m[I 2022-07-06 01:50:06,692]\u001b[0m Trial 28 finished with value: 85.90266374073337 and parameters: {'learning_rate': 0.05368145748394933, 'n_estimators': 4603, 'max_depth': 16, 'reg_alpha': 0.009337687101301194}. Best is trial 25 with value: 84.73807814072728.\u001b[0m\n",
      "\u001b[32m[I 2022-07-06 01:50:16,919]\u001b[0m Trial 29 finished with value: 84.69772142786506 and parameters: {'learning_rate': 0.08989755309990026, 'n_estimators': 4959, 'max_depth': 16, 'reg_alpha': 0.003118660817777207}. Best is trial 29 with value: 84.69772142786506.\u001b[0m\n",
      "\u001b[32m[I 2022-07-06 01:50:26,789]\u001b[0m Trial 30 finished with value: 85.28088911172014 and parameters: {'learning_rate': 0.06699232552846358, 'n_estimators': 4972, 'max_depth': 16, 'reg_alpha': 0.04016658883118537}. Best is trial 29 with value: 84.69772142786506.\u001b[0m\n"
     ]
    },
    {
     "name": "stderr",
     "output_type": "stream",
     "text": [
      "\u001b[32m[I 2022-07-06 01:50:36,160]\u001b[0m Trial 31 finished with value: 84.82270598322599 and parameters: {'learning_rate': 0.08943579408927509, 'n_estimators': 4561, 'max_depth': 16, 'reg_alpha': 0.002607289571006883}. Best is trial 29 with value: 84.69772142786506.\u001b[0m\n",
      "\u001b[32m[I 2022-07-06 01:50:45,430]\u001b[0m Trial 32 finished with value: 85.0409613024973 and parameters: {'learning_rate': 0.0805561138075131, 'n_estimators': 4586, 'max_depth': 16, 'reg_alpha': 0.018602136449551845}. Best is trial 29 with value: 84.69772142786506.\u001b[0m\n",
      "\u001b[32m[I 2022-07-06 01:50:54,242]\u001b[0m Trial 33 finished with value: 85.11149523941599 and parameters: {'learning_rate': 0.09110599355259574, 'n_estimators': 3963, 'max_depth': 16, 'reg_alpha': 0.0030171788486963846}. Best is trial 29 with value: 84.69772142786506.\u001b[0m\n",
      "\u001b[32m[I 2022-07-06 01:51:04,647]\u001b[0m Trial 34 finished with value: 84.63796861101876 and parameters: {'learning_rate': 0.09139473647545716, 'n_estimators': 4961, 'max_depth': 15, 'reg_alpha': 0.00865572499516544}. Best is trial 34 with value: 84.63796861101876.\u001b[0m\n",
      "\u001b[32m[I 2022-07-06 01:51:14,540]\u001b[0m Trial 35 finished with value: 84.92161101156049 and parameters: {'learning_rate': 0.08092274439433256, 'n_estimators': 4808, 'max_depth': 15, 'reg_alpha': 0.009637385583351808}. Best is trial 34 with value: 84.63796861101876.\u001b[0m\n",
      "\u001b[32m[I 2022-07-06 01:51:24,743]\u001b[0m Trial 36 finished with value: 86.35800595808134 and parameters: {'learning_rate': 0.04120141178096352, 'n_estimators': 4970, 'max_depth': 11, 'reg_alpha': 0.0022968875960524314}. Best is trial 34 with value: 84.63796861101876.\u001b[0m\n",
      "\u001b[32m[I 2022-07-06 01:51:33,019]\u001b[0m Trial 37 finished with value: 87.99691243653079 and parameters: {'learning_rate': 0.01885957316147237, 'n_estimators': 3941, 'max_depth': 15, 'reg_alpha': 0.0054148202716223105}. Best is trial 34 with value: 84.63796861101876.\u001b[0m\n",
      "\u001b[32m[I 2022-07-06 01:51:42,421]\u001b[0m Trial 38 finished with value: 85.19389098441178 and parameters: {'learning_rate': 0.07416903690566572, 'n_estimators': 4661, 'max_depth': 14, 'reg_alpha': 0.007950911946022519}. Best is trial 34 with value: 84.63796861101876.\u001b[0m\n",
      "\u001b[32m[I 2022-07-06 01:51:51,766]\u001b[0m Trial 39 finished with value: 85.6358410811052 and parameters: {'learning_rate': 0.06305661485985964, 'n_estimators': 4524, 'max_depth': 13, 'reg_alpha': 0.003580489164508513}. Best is trial 34 with value: 84.63796861101876.\u001b[0m\n",
      "\u001b[32m[I 2022-07-06 01:51:59,804]\u001b[0m Trial 40 finished with value: 86.13623129753601 and parameters: {'learning_rate': 0.053667661157678306, 'n_estimators': 4155, 'max_depth': 11, 'reg_alpha': 0.09057325000628512}. Best is trial 34 with value: 84.63796861101876.\u001b[0m\n",
      "\u001b[32m[I 2022-07-06 01:52:09,399]\u001b[0m Trial 41 finished with value: 84.82566468996488 and parameters: {'learning_rate': 0.09047523962228289, 'n_estimators': 4721, 'max_depth': 16, 'reg_alpha': 0.01974134547458075}. Best is trial 34 with value: 84.63796861101876.\u001b[0m\n",
      "\u001b[32m[I 2022-07-06 01:52:19,592]\u001b[0m Trial 42 finished with value: 84.59219994118128 and parameters: {'learning_rate': 0.09348452863446288, 'n_estimators': 4988, 'max_depth': 16, 'reg_alpha': 0.027022470920885194}. Best is trial 42 with value: 84.59219994118128.\u001b[0m\n",
      "\u001b[32m[I 2022-07-06 01:52:29,865]\u001b[0m Trial 43 finished with value: 84.72632520778521 and parameters: {'learning_rate': 0.0842500480595017, 'n_estimators': 4966, 'max_depth': 16, 'reg_alpha': 0.0019082535511060858}. Best is trial 42 with value: 84.59219994118128.\u001b[0m\n",
      "\u001b[32m[I 2022-07-06 01:52:39,708]\u001b[0m Trial 44 finished with value: 84.53402057120758 and parameters: {'learning_rate': 0.09399761729133053, 'n_estimators': 4943, 'max_depth': 15, 'reg_alpha': 0.034521570434257846}. Best is trial 44 with value: 84.53402057120758.\u001b[0m\n",
      "\u001b[32m[I 2022-07-06 01:52:41,581]\u001b[0m Trial 45 finished with value: 87.39515143435911 and parameters: {'learning_rate': 0.09413416354255925, 'n_estimators': 1214, 'max_depth': 8, 'reg_alpha': 0.001605346565865117}. Best is trial 44 with value: 84.53402057120758.\u001b[0m\n",
      "\u001b[32m[I 2022-07-06 01:52:51,221]\u001b[0m Trial 46 finished with value: 84.9382753320425 and parameters: {'learning_rate': 0.08129776533150619, 'n_estimators': 4784, 'max_depth': 16, 'reg_alpha': 0.03707409460513045}. Best is trial 44 with value: 84.53402057120758.\u001b[0m\n",
      "\u001b[32m[I 2022-07-06 01:52:58,772]\u001b[0m Trial 47 finished with value: 85.23509622894368 and parameters: {'learning_rate': 0.08529770733052006, 'n_estimators': 4032, 'max_depth': 9, 'reg_alpha': 0.0064841254561130365}. Best is trial 44 with value: 84.53402057120758.\u001b[0m\n",
      "\u001b[32m[I 2022-07-06 01:53:09,132]\u001b[0m Trial 48 finished with value: 84.58015177226241 and parameters: {'learning_rate': 0.09237158912385172, 'n_estimators': 4989, 'max_depth': 15, 'reg_alpha': 0.013581502780151977}. Best is trial 44 with value: 84.53402057120758.\u001b[0m\n",
      "\u001b[32m[I 2022-07-06 01:53:16,878]\u001b[0m Trial 49 finished with value: 85.21174312639316 and parameters: {'learning_rate': 0.0928180464770738, 'n_estimators': 3722, 'max_depth': 14, 'reg_alpha': 0.013114345175331003}. Best is trial 44 with value: 84.53402057120758.\u001b[0m\n"
     ]
    },
    {
     "name": "stdout",
     "output_type": "stream",
     "text": [
      "중식 Best trial: score 84.53402057120758, \n",
      "params {'learning_rate': 0.09399761729133053, 'n_estimators': 4943, 'max_depth': 15, 'reg_alpha': 0.034521570434257846}\n"
     ]
    },
    {
     "name": "stderr",
     "output_type": "stream",
     "text": [
      "\u001b[32m[I 2022-07-06 01:53:24,525]\u001b[0m Trial 0 finished with value: 71.87424406166356 and parameters: {'learning_rate': 0.037460266483547784, 'n_estimators': 4759, 'max_depth': 14, 'reg_alpha': 0.24810409748678125}. Best is trial 0 with value: 71.87424406166356.\u001b[0m\n",
      "\u001b[32m[I 2022-07-06 01:53:25,652]\u001b[0m Trial 1 finished with value: 75.24753307699703 and parameters: {'learning_rate': 0.01561030385783923, 'n_estimators': 864, 'max_depth': 8, 'reg_alpha': 2.9154431891537547}. Best is trial 0 with value: 71.87424406166356.\u001b[0m\n",
      "\u001b[32m[I 2022-07-06 01:53:29,983]\u001b[0m Trial 2 finished with value: 71.65020090140202 and parameters: {'learning_rate': 0.06011549002420346, 'n_estimators': 3570, 'max_depth': 8, 'reg_alpha': 7.579479953348009}. Best is trial 2 with value: 71.65020090140202.\u001b[0m\n",
      "\u001b[32m[I 2022-07-06 01:53:31,803]\u001b[0m Trial 3 finished with value: 73.05916430268788 and parameters: {'learning_rate': 0.08324593965363418, 'n_estimators': 1140, 'max_depth': 9, 'reg_alpha': 0.00541524411940254}. Best is trial 2 with value: 71.65020090140202.\u001b[0m\n",
      "\u001b[32m[I 2022-07-06 01:53:36,375]\u001b[0m Trial 4 finished with value: 73.28632986861986 and parameters: {'learning_rate': 0.030431181873524178, 'n_estimators': 2671, 'max_depth': 11, 'reg_alpha': 0.014618962793704957}. Best is trial 2 with value: 71.65020090140202.\u001b[0m\n",
      "\u001b[32m[I 2022-07-06 01:53:37,666]\u001b[0m Trial 5 finished with value: 74.04637502061401 and parameters: {'learning_rate': 0.06118917094329073, 'n_estimators': 783, 'max_depth': 10, 'reg_alpha': 0.029204338471814112}. Best is trial 2 with value: 71.65020090140202.\u001b[0m\n",
      "\u001b[32m[I 2022-07-06 01:53:43,447]\u001b[0m Trial 6 finished with value: 71.91801847629395 and parameters: {'learning_rate': 0.04561243772186143, 'n_estimators': 3948, 'max_depth': 9, 'reg_alpha': 0.11400863701127326}. Best is trial 2 with value: 71.65020090140202.\u001b[0m\n",
      "\u001b[32m[I 2022-07-06 01:53:44,027]\u001b[0m Trial 7 finished with value: 75.05702436429992 and parameters: {'learning_rate': 0.05924553274051564, 'n_estimators': 327, 'max_depth': 13, 'reg_alpha': 0.004809461967501573}. Best is trial 2 with value: 71.65020090140202.\u001b[0m\n",
      "\u001b[32m[I 2022-07-06 01:53:51,007]\u001b[0m Trial 8 finished with value: 74.66603303909609 and parameters: {'learning_rate': 0.006514508782598099, 'n_estimators': 4750, 'max_depth': 16, 'reg_alpha': 1.7123375973163988}. Best is trial 2 with value: 71.65020090140202.\u001b[0m\n",
      "\u001b[32m[I 2022-07-06 01:53:51,998]\u001b[0m Trial 9 finished with value: 75.08682338624429 and parameters: {'learning_rate': 0.030468330779645336, 'n_estimators': 578, 'max_depth': 14, 'reg_alpha': 0.057624872164786026}. Best is trial 2 with value: 71.65020090140202.\u001b[0m\n",
      "\u001b[32m[I 2022-07-06 01:53:55,653]\u001b[0m Trial 10 finished with value: 71.20210157537417 and parameters: {'learning_rate': 0.09539941449907133, 'n_estimators': 2838, 'max_depth': 12, 'reg_alpha': 6.612511707027312}. Best is trial 10 with value: 71.20210157537417.\u001b[0m\n",
      "\u001b[32m[I 2022-07-06 01:53:59,205]\u001b[0m Trial 11 finished with value: 71.25265312500672 and parameters: {'learning_rate': 0.0964637855791376, 'n_estimators': 2922, 'max_depth': 12, 'reg_alpha': 8.840249636250757}. Best is trial 10 with value: 71.20210157537417.\u001b[0m\n",
      "\u001b[32m[I 2022-07-06 01:54:02,732]\u001b[0m Trial 12 finished with value: 71.35910049208915 and parameters: {'learning_rate': 0.09702315840403491, 'n_estimators': 2210, 'max_depth': 12, 'reg_alpha': 0.61825021080956}. Best is trial 10 with value: 71.20210157537417.\u001b[0m\n",
      "\u001b[32m[I 2022-07-06 01:54:05,878]\u001b[0m Trial 13 finished with value: 71.85529817002096 and parameters: {'learning_rate': 0.08189814575801942, 'n_estimators': 2440, 'max_depth': 12, 'reg_alpha': 7.545796674914419}. Best is trial 10 with value: 71.20210157537417.\u001b[0m\n",
      "\u001b[32m[I 2022-07-06 01:54:10,797]\u001b[0m Trial 14 finished with value: 70.6395637460084 and parameters: {'learning_rate': 0.09946715783448241, 'n_estimators': 3352, 'max_depth': 11, 'reg_alpha': 1.0585005979069073}. Best is trial 14 with value: 70.6395637460084.\u001b[0m\n",
      "\u001b[32m[I 2022-07-06 01:54:13,367]\u001b[0m Trial 15 finished with value: 72.46797875823043 and parameters: {'learning_rate': 0.07914901853167274, 'n_estimators': 1693, 'max_depth': 11, 'reg_alpha': 1.0095131047913466}. Best is trial 14 with value: 70.6395637460084.\u001b[0m\n",
      "\u001b[32m[I 2022-07-06 01:54:19,179]\u001b[0m Trial 16 finished with value: 70.49486230469198 and parameters: {'learning_rate': 0.09915530081832075, 'n_estimators': 3646, 'max_depth': 14, 'reg_alpha': 0.36459207921167053}. Best is trial 16 with value: 70.49486230469198.\u001b[0m\n",
      "\u001b[32m[I 2022-07-06 01:54:25,140]\u001b[0m Trial 17 finished with value: 70.93173673157348 and parameters: {'learning_rate': 0.07515534125345665, 'n_estimators': 3801, 'max_depth': 16, 'reg_alpha': 0.36674746391349505}. Best is trial 16 with value: 70.49486230469198.\u001b[0m\n",
      "\u001b[32m[I 2022-07-06 01:54:31,013]\u001b[0m Trial 18 finished with value: 70.8413872264719 and parameters: {'learning_rate': 0.08698156264075829, 'n_estimators': 3351, 'max_depth': 14, 'reg_alpha': 0.15335061579271736}. Best is trial 16 with value: 70.49486230469198.\u001b[0m\n",
      "\u001b[32m[I 2022-07-06 01:54:38,305]\u001b[0m Trial 19 finished with value: 70.90003181318384 and parameters: {'learning_rate': 0.06732888884584795, 'n_estimators': 4158, 'max_depth': 15, 'reg_alpha': 0.0017220482382396365}. Best is trial 16 with value: 70.49486230469198.\u001b[0m\n",
      "\u001b[32m[I 2022-07-06 01:54:42,517]\u001b[0m Trial 20 finished with value: 70.78280641029426 and parameters: {'learning_rate': 0.09990124269237799, 'n_estimators': 3186, 'max_depth': 13, 'reg_alpha': 2.40067928328976}. Best is trial 16 with value: 70.49486230469198.\u001b[0m\n",
      "\u001b[32m[I 2022-07-06 01:54:47,048]\u001b[0m Trial 21 finished with value: 70.92408976654218 and parameters: {'learning_rate': 0.08954032130001181, 'n_estimators': 3202, 'max_depth': 13, 'reg_alpha': 2.1571223861312605}. Best is trial 16 with value: 70.49486230469198.\u001b[0m\n",
      "\u001b[32m[I 2022-07-06 01:54:53,160]\u001b[0m Trial 22 finished with value: 70.24688170278586 and parameters: {'learning_rate': 0.0977783778783057, 'n_estimators': 4252, 'max_depth': 13, 'reg_alpha': 0.8569736655748753}. Best is trial 22 with value: 70.24688170278586.\u001b[0m\n",
      "\u001b[32m[I 2022-07-06 01:54:59,733]\u001b[0m Trial 23 finished with value: 70.6290676184728 and parameters: {'learning_rate': 0.0761084812905837, 'n_estimators': 4267, 'max_depth': 15, 'reg_alpha': 0.5442187096090207}. Best is trial 22 with value: 70.24688170278586.\u001b[0m\n",
      "\u001b[32m[I 2022-07-06 01:55:06,518]\u001b[0m Trial 24 finished with value: 70.70621880789997 and parameters: {'learning_rate': 0.07545302534211609, 'n_estimators': 4244, 'max_depth': 15, 'reg_alpha': 0.3638664613494936}. Best is trial 22 with value: 70.24688170278586.\u001b[0m\n",
      "\u001b[32m[I 2022-07-06 01:55:14,031]\u001b[0m Trial 25 finished with value: 70.27138340876039 and parameters: {'learning_rate': 0.08949440365727968, 'n_estimators': 4413, 'max_depth': 15, 'reg_alpha': 0.05561492873922898}. Best is trial 22 with value: 70.24688170278586.\u001b[0m\n",
      "\u001b[32m[I 2022-07-06 01:55:21,581]\u001b[0m Trial 26 finished with value: 70.17148312708453 and parameters: {'learning_rate': 0.08991312504664074, 'n_estimators': 4562, 'max_depth': 14, 'reg_alpha': 0.0610831941443709}. Best is trial 26 with value: 70.17148312708453.\u001b[0m\n",
      "\u001b[32m[I 2022-07-06 01:55:29,396]\u001b[0m Trial 27 finished with value: 70.14369944599827 and parameters: {'learning_rate': 0.08957442205305868, 'n_estimators': 4838, 'max_depth': 15, 'reg_alpha': 0.05087378373701461}. Best is trial 27 with value: 70.14369944599827.\u001b[0m\n",
      "\u001b[32m[I 2022-07-06 01:55:37,608]\u001b[0m Trial 28 finished with value: 71.28578941752268 and parameters: {'learning_rate': 0.04917184914664134, 'n_estimators': 4830, 'max_depth': 16, 'reg_alpha': 0.016899379138938235}. Best is trial 27 with value: 70.14369944599827.\u001b[0m\n",
      "\u001b[32m[I 2022-07-06 01:55:45,769]\u001b[0m Trial 29 finished with value: 70.51381926362323 and parameters: {'learning_rate': 0.07022725542227025, 'n_estimators': 4943, 'max_depth': 13, 'reg_alpha': 0.04746048977115518}. Best is trial 27 with value: 70.14369944599827.\u001b[0m\n",
      "\u001b[32m[I 2022-07-06 01:55:52,905]\u001b[0m Trial 30 finished with value: 70.23257300414846 and parameters: {'learning_rate': 0.09051305294328493, 'n_estimators': 4538, 'max_depth': 14, 'reg_alpha': 0.17229876220467247}. Best is trial 27 with value: 70.14369944599827.\u001b[0m\n"
     ]
    },
    {
     "name": "stderr",
     "output_type": "stream",
     "text": [
      "\u001b[32m[I 2022-07-06 01:55:59,946]\u001b[0m Trial 31 finished with value: 70.22571172728206 and parameters: {'learning_rate': 0.0908887950426344, 'n_estimators': 4545, 'max_depth': 14, 'reg_alpha': 0.1693009408358799}. Best is trial 27 with value: 70.14369944599827.\u001b[0m\n",
      "\u001b[32m[I 2022-07-06 01:56:07,371]\u001b[0m Trial 32 finished with value: 70.2096710683453 and parameters: {'learning_rate': 0.08929286501465403, 'n_estimators': 4627, 'max_depth': 14, 'reg_alpha': 0.16442811821490919}. Best is trial 27 with value: 70.14369944599827.\u001b[0m\n",
      "\u001b[32m[I 2022-07-06 01:56:14,958]\u001b[0m Trial 33 finished with value: 70.23997491748493 and parameters: {'learning_rate': 0.08547217258711996, 'n_estimators': 4684, 'max_depth': 15, 'reg_alpha': 0.09844831596765403}. Best is trial 27 with value: 70.14369944599827.\u001b[0m\n",
      "\u001b[32m[I 2022-07-06 01:56:23,192]\u001b[0m Trial 34 finished with value: 70.53487417268954 and parameters: {'learning_rate': 0.06829378581935742, 'n_estimators': 4964, 'max_depth': 14, 'reg_alpha': 0.02737334387978021}. Best is trial 27 with value: 70.14369944599827.\u001b[0m\n",
      "\u001b[32m[I 2022-07-06 01:56:29,518]\u001b[0m Trial 35 finished with value: 70.63675875317561 and parameters: {'learning_rate': 0.08179550639211958, 'n_estimators': 3986, 'max_depth': 15, 'reg_alpha': 0.2169215544161566}. Best is trial 27 with value: 70.14369944599827.\u001b[0m\n",
      "\u001b[32m[I 2022-07-06 01:56:37,028]\u001b[0m Trial 36 finished with value: 70.16733249833455 and parameters: {'learning_rate': 0.09126570058952474, 'n_estimators': 4527, 'max_depth': 14, 'reg_alpha': 0.08202361647707887}. Best is trial 27 with value: 70.14369944599827.\u001b[0m\n",
      "\u001b[32m[I 2022-07-06 01:56:43,410]\u001b[0m Trial 37 finished with value: 71.18674343202314 and parameters: {'learning_rate': 0.062265791862399014, 'n_estimators': 3957, 'max_depth': 16, 'reg_alpha': 0.07736405565861998}. Best is trial 27 with value: 70.14369944599827.\u001b[0m\n",
      "\u001b[32m[I 2022-07-06 01:56:45,643]\u001b[0m Trial 38 finished with value: 73.45943233793025 and parameters: {'learning_rate': 0.05565259603777747, 'n_estimators': 1322, 'max_depth': 14, 'reg_alpha': 0.011536737173670776}. Best is trial 27 with value: 70.14369944599827.\u001b[0m\n",
      "\u001b[32m[I 2022-07-06 01:56:53,245]\u001b[0m Trial 39 finished with value: 71.97289330724112 and parameters: {'learning_rate': 0.03653354264477058, 'n_estimators': 4612, 'max_depth': 13, 'reg_alpha': 0.032601805886839974}. Best is trial 27 with value: 70.14369944599827.\u001b[0m\n",
      "\u001b[32m[I 2022-07-06 01:56:59,222]\u001b[0m Trial 40 finished with value: 70.72468426892426 and parameters: {'learning_rate': 0.08493252617263103, 'n_estimators': 3569, 'max_depth': 15, 'reg_alpha': 0.018775419711851187}. Best is trial 27 with value: 70.14369944599827.\u001b[0m\n",
      "\u001b[32m[I 2022-07-06 01:57:06,395]\u001b[0m Trial 41 finished with value: 70.23040165745468 and parameters: {'learning_rate': 0.09058841362649987, 'n_estimators': 4449, 'max_depth': 14, 'reg_alpha': 0.11156802938506628}. Best is trial 27 with value: 70.14369944599827.\u001b[0m\n",
      "\u001b[32m[I 2022-07-06 01:57:14,526]\u001b[0m Trial 42 finished with value: 69.9933375424832 and parameters: {'learning_rate': 0.09336476735419795, 'n_estimators': 4981, 'max_depth': 14, 'reg_alpha': 0.07535648859758312}. Best is trial 42 with value: 69.9933375424832.\u001b[0m\n",
      "\u001b[32m[I 2022-07-06 01:57:23,061]\u001b[0m Trial 43 finished with value: 69.9590492663436 and parameters: {'learning_rate': 0.09219137310728222, 'n_estimators': 4984, 'max_depth': 13, 'reg_alpha': 0.00715270668266135}. Best is trial 43 with value: 69.9590492663436.\u001b[0m\n",
      "\u001b[32m[I 2022-07-06 01:57:31,501]\u001b[0m Trial 44 finished with value: 70.0020918686156 and parameters: {'learning_rate': 0.09395989464340314, 'n_estimators': 4944, 'max_depth': 13, 'reg_alpha': 0.008150744231908948}. Best is trial 43 with value: 69.9590492663436.\u001b[0m\n",
      "\u001b[32m[I 2022-07-06 01:57:40,172]\u001b[0m Trial 45 finished with value: 69.94227081390027 and parameters: {'learning_rate': 0.09409185256453527, 'n_estimators': 4966, 'max_depth': 13, 'reg_alpha': 0.007793663772671272}. Best is trial 45 with value: 69.94227081390027.\u001b[0m\n",
      "\u001b[32m[I 2022-07-06 01:57:48,492]\u001b[0m Trial 46 finished with value: 73.91147731534068 and parameters: {'learning_rate': 0.011132082049437941, 'n_estimators': 4936, 'max_depth': 12, 'reg_alpha': 0.005136256418896998}. Best is trial 45 with value: 69.94227081390027.\u001b[0m\n",
      "\u001b[32m[I 2022-07-06 01:57:56,285]\u001b[0m Trial 47 finished with value: 72.8260514591825 and parameters: {'learning_rate': 0.022706207528703205, 'n_estimators': 4801, 'max_depth': 10, 'reg_alpha': 0.002522415110807168}. Best is trial 45 with value: 69.94227081390027.\u001b[0m\n",
      "\u001b[32m[I 2022-07-06 01:58:04,652]\u001b[0m Trial 48 finished with value: 70.27854163232088 and parameters: {'learning_rate': 0.0796520787137915, 'n_estimators': 4989, 'max_depth': 13, 'reg_alpha': 0.007925247098836989}. Best is trial 45 with value: 69.94227081390027.\u001b[0m\n",
      "\u001b[32m[I 2022-07-06 01:58:04,908]\u001b[0m Trial 49 finished with value: 75.24053365523605 and parameters: {'learning_rate': 0.09510146394032376, 'n_estimators': 144, 'max_depth': 12, 'reg_alpha': 0.008002426910786368}. Best is trial 45 with value: 69.94227081390027.\u001b[0m\n"
     ]
    },
    {
     "name": "stdout",
     "output_type": "stream",
     "text": [
      "석식 Best trial: score 69.94227081390027, \n",
      "params {'learning_rate': 0.09409185256453527, 'n_estimators': 4966, 'max_depth': 13, 'reg_alpha': 0.007793663772671272}\n"
     ]
    }
   ],
   "source": [
    "import optuna\n",
    "# from optuna.integration.lightgbm import LightGBMTuner as LGBMTuner\n",
    "from optuna import Trial, visualization\n",
    "from optuna.samplers import TPESampler\n",
    "from sklearn.metrics import mean_absolute_error as MAE\n",
    "\n",
    "def optuna_LGBM(trial: Trial, X_train_, y_train_, X_test_):\n",
    "    parameters = {'objective': 'regression',\n",
    "                  \"random_state\": 42,\n",
    "                  'verbose': -1,\n",
    "                  'metric': 'mae',\n",
    "                  \"silent\": -1,\n",
    "                  'learning_rate': trial.suggest_float('learning_rate', 1e-3, 1e-1),\n",
    "                  'n_estimators': trial.suggest_int('n_estimators', 100, 1000),\n",
    "                 'max_depth': trial.suggest_int('max_depth', 8, 16),\n",
    "                 'reg_alpha': trial.suggest_loguniform('reg_alpha', 1e-3, 10.0)}\n",
    "\n",
    "#     parameters = {\n",
    "#         'objective': 'regression',\n",
    "#         'verbose': -1,\n",
    "#         'metric': 'mse', \n",
    "#         'num_leaves': trial.suggest_int('num_leaves', 2, 1024, step=1, log=True), \n",
    "#         'colsample_bytree': trial.suggest_uniform('colsample_bytree', 0.7, 1.0),\n",
    "#         'reg_alpha': trial.suggest_uniform('reg_alpha', 0.0, 1.0),\n",
    "#         'reg_lambda': trial.suggest_uniform('reg_lambda', 0.0, 10.0),\n",
    "#         'max_depth': trial.suggest_int('max_depth',3, 15),\n",
    "#         'learning_rate': trial.suggest_loguniform(\"learning_rate\", 1e-8, 1e-2),\n",
    "#         'n_estimators': trial.suggest_int('n_estimators', 100, 3000),\n",
    "#         'min_child_samples': trial.suggest_int('min_child_samples', 5, 100),\n",
    "#         'subsample': trial.suggest_loguniform('subsample', 0.4, 1),\n",
    "#     }\n",
    "    user_seed = 42\n",
    "    random.seed(user_seed)\n",
    "#     LGBM = lgbm.LGBMRegressor() # 이런식으로 하면 자꾸 에러남.\n",
    "\n",
    "    optuna_model = lgbm.LGBMRegressor(**parameters)\n",
    "    lgb_model = optuna_model.fit(X_train_, y_train_)\n",
    "    score = MAE(y_train_, lgb_model.predict(X_train_))\n",
    "    \n",
    "    return score\n",
    "\n",
    "\n",
    "X_train_중식 = train[['요일', '현본사소속재택근무자수', '중식메뉴']]\n",
    "X_train_석식 = train[['요일', '현본사소속재택근무자수', '석식메뉴']]\n",
    "\n",
    "y_train_중식 = train[['중식계']]\n",
    "y_train_석식 = train[['석식계']]\n",
    "\n",
    "X_test_중식 = test[['요일', '현본사소속재택근무자수', '중식메뉴']]\n",
    "X_test_석식 = test[['요일', '현본사소속재택근무자수', '석식메뉴']]\n",
    "\n",
    "\n",
    "study_중식 = optuna.create_study(direction = 'minimize', sampler = TPESampler(seed = 42))\n",
    "study_석식 = optuna.create_study(direction = 'minimize', sampler = TPESampler(seed = 42))\n",
    "\n",
    "\n",
    "study_중식.optimize(lambda trial : optuna_LGBM(trial, X_train_중식, y_train_중식, X_test_중식), n_trials = 50)\n",
    "best_parameters_중식 = study_중식.best_trial.params\n",
    "print(f'중식 Best trial: score {study_중식.best_trial.value}, \\nparams {best_parameters_중식}')\n",
    "\n",
    "study_석식.optimize(lambda trial : optuna_LGBM(trial, X_train_석식, y_train_석식, X_test_석식), n_trials = 50)\n",
    "best_parameters_석식 = study_석식.best_trial.params\n",
    "print(f'석식 Best trial: score {study_석식.best_trial.value}, \\nparams {best_parameters_석식}')\n",
    "\n",
    "# [scoring method name](https://scikit-learn.org/stable/modules/model_evaluation.html#scoring-parameter)"
   ]
  },
  {
   "cell_type": "markdown",
   "id": "a183aee3",
   "metadata": {},
   "source": [
    "# model fitting with tuned hyperparameters\n",
    "중식 Best trial: score 84.53402057120758, <br>\n",
    "params {'learning_rate': 0.09399761729133053, 'n_estimators': 4943, 'max_depth': 15, 'reg_alpha': 0.034521570434257846} <br>\n",
    "\n",
    "석식 Best trial: score 69.94227081390027, <br>\n",
    "params {'learning_rate': 0.09409185256453527, 'n_estimators': 4966, 'max_depth': 13, 'reg_alpha': 0.007793663772671272} <br>"
   ]
  },
  {
   "cell_type": "code",
   "execution_count": 13,
   "id": "8570ccd3",
   "metadata": {},
   "outputs": [],
   "source": [
    "X_train_중식 = train[['요일', '현본사소속재택근무자수', '중식메뉴']]\n",
    "X_train_석식 = train[['요일', '현본사소속재택근무자수', '석식메뉴']]\n",
    "y_train_중식 = train[['중식계']]\n",
    "y_train_석식 = train[['석식계']]\n",
    "\n",
    "X_test_중식 = test[['요일', '현본사소속재택근무자수', '중식메뉴']]\n",
    "X_test_석식 = test[['요일', '현본사소속재택근무자수', '석식메뉴']]\n",
    "\n",
    "user_seed = 42\n",
    "random.seed(user_seed)\n",
    "LGBM_중식 = lgbm.LGBMRegressor(random_state = user_seed, learning_rate= 0.09399761729133053, n_estimators= 4943, max_depth= 15, reg_alpha= 0.034521570434257846)\n",
    "LGBM_석식 = lgbm.LGBMRegressor(random_state = user_seed, learning_rate= 0.09409185256453527, n_estimators= 4966, max_depth= 13, reg_alpha= 0.007793663772671272)\n",
    "\n",
    "model_중식 = LGBM_중식.fit(X_train_중식, y_train_중식) # fit에는 하이퍼파리미터 따로 적용 못하나봄. 계속 여기다 hp 집어넣을 때마다 에러남.\n",
    "y_pred_test_중식 = model_중식.predict(X_test_중식, num_iteration = LGBM_중식.best_iteration_)\n",
    "\n",
    "model_석식 = LGBM_석식.fit(X_train_석식, y_train_석식)\n",
    "y_pred_test_석식 = model_석식.predict(X_test_석식, num_iteration = LGBM_석식.best_iteration_)\n"
   ]
  },
  {
   "cell_type": "code",
   "execution_count": 14,
   "id": "bbbaf326",
   "metadata": {},
   "outputs": [
    {
     "data": {
      "text/html": [
       "<div>\n",
       "<style scoped>\n",
       "    .dataframe tbody tr th:only-of-type {\n",
       "        vertical-align: middle;\n",
       "    }\n",
       "\n",
       "    .dataframe tbody tr th {\n",
       "        vertical-align: top;\n",
       "    }\n",
       "\n",
       "    .dataframe thead th {\n",
       "        text-align: right;\n",
       "    }\n",
       "</style>\n",
       "<table border=\"1\" class=\"dataframe\">\n",
       "  <thead>\n",
       "    <tr style=\"text-align: right;\">\n",
       "      <th></th>\n",
       "      <th>0</th>\n",
       "    </tr>\n",
       "  </thead>\n",
       "  <tbody>\n",
       "    <tr>\n",
       "      <th>0</th>\n",
       "      <td>1141.521689</td>\n",
       "    </tr>\n",
       "    <tr>\n",
       "      <th>1</th>\n",
       "      <td>927.314850</td>\n",
       "    </tr>\n",
       "    <tr>\n",
       "      <th>2</th>\n",
       "      <td>735.726085</td>\n",
       "    </tr>\n",
       "    <tr>\n",
       "      <th>3</th>\n",
       "      <td>1143.970130</td>\n",
       "    </tr>\n",
       "    <tr>\n",
       "      <th>4</th>\n",
       "      <td>882.964365</td>\n",
       "    </tr>\n",
       "  </tbody>\n",
       "</table>\n",
       "</div>"
      ],
      "text/plain": [
       "             0\n",
       "0  1141.521689\n",
       "1   927.314850\n",
       "2   735.726085\n",
       "3  1143.970130\n",
       "4   882.964365"
      ]
     },
     "execution_count": 14,
     "metadata": {},
     "output_type": "execute_result"
    }
   ],
   "source": [
    "중식계 = pd.DataFrame(y_pred_test_중식)\n",
    "중식계.head()"
   ]
  },
  {
   "cell_type": "code",
   "execution_count": 15,
   "id": "ddbdc518",
   "metadata": {},
   "outputs": [
    {
     "data": {
      "text/html": [
       "<div>\n",
       "<style scoped>\n",
       "    .dataframe tbody tr th:only-of-type {\n",
       "        vertical-align: middle;\n",
       "    }\n",
       "\n",
       "    .dataframe tbody tr th {\n",
       "        vertical-align: top;\n",
       "    }\n",
       "\n",
       "    .dataframe thead th {\n",
       "        text-align: right;\n",
       "    }\n",
       "</style>\n",
       "<table border=\"1\" class=\"dataframe\">\n",
       "  <thead>\n",
       "    <tr style=\"text-align: right;\">\n",
       "      <th></th>\n",
       "      <th>0</th>\n",
       "    </tr>\n",
       "  </thead>\n",
       "  <tbody>\n",
       "    <tr>\n",
       "      <th>0</th>\n",
       "      <td>509.911800</td>\n",
       "    </tr>\n",
       "    <tr>\n",
       "      <th>1</th>\n",
       "      <td>455.554914</td>\n",
       "    </tr>\n",
       "    <tr>\n",
       "      <th>2</th>\n",
       "      <td>263.620759</td>\n",
       "    </tr>\n",
       "    <tr>\n",
       "      <th>3</th>\n",
       "      <td>525.557363</td>\n",
       "    </tr>\n",
       "    <tr>\n",
       "      <th>4</th>\n",
       "      <td>538.073286</td>\n",
       "    </tr>\n",
       "  </tbody>\n",
       "</table>\n",
       "</div>"
      ],
      "text/plain": [
       "            0\n",
       "0  509.911800\n",
       "1  455.554914\n",
       "2  263.620759\n",
       "3  525.557363\n",
       "4  538.073286"
      ]
     },
     "execution_count": 15,
     "metadata": {},
     "output_type": "execute_result"
    }
   ],
   "source": [
    "석식계 = pd.DataFrame(y_pred_test_석식)\n",
    "석식계.head()"
   ]
  },
  {
   "cell_type": "code",
   "execution_count": 16,
   "id": "750cc1cf",
   "metadata": {},
   "outputs": [
    {
     "data": {
      "text/html": [
       "<div>\n",
       "<style scoped>\n",
       "    .dataframe tbody tr th:only-of-type {\n",
       "        vertical-align: middle;\n",
       "    }\n",
       "\n",
       "    .dataframe tbody tr th {\n",
       "        vertical-align: top;\n",
       "    }\n",
       "\n",
       "    .dataframe thead th {\n",
       "        text-align: right;\n",
       "    }\n",
       "</style>\n",
       "<table border=\"1\" class=\"dataframe\">\n",
       "  <thead>\n",
       "    <tr style=\"text-align: right;\">\n",
       "      <th></th>\n",
       "      <th>일자</th>\n",
       "      <th>0</th>\n",
       "      <th>0</th>\n",
       "    </tr>\n",
       "  </thead>\n",
       "  <tbody>\n",
       "    <tr>\n",
       "      <th>0</th>\n",
       "      <td>2021-01-27</td>\n",
       "      <td>1141.521689</td>\n",
       "      <td>509.911800</td>\n",
       "    </tr>\n",
       "    <tr>\n",
       "      <th>1</th>\n",
       "      <td>2021-01-28</td>\n",
       "      <td>927.314850</td>\n",
       "      <td>455.554914</td>\n",
       "    </tr>\n",
       "    <tr>\n",
       "      <th>2</th>\n",
       "      <td>2021-01-29</td>\n",
       "      <td>735.726085</td>\n",
       "      <td>263.620759</td>\n",
       "    </tr>\n",
       "    <tr>\n",
       "      <th>3</th>\n",
       "      <td>2021-02-01</td>\n",
       "      <td>1143.970130</td>\n",
       "      <td>525.557363</td>\n",
       "    </tr>\n",
       "    <tr>\n",
       "      <th>4</th>\n",
       "      <td>2021-02-02</td>\n",
       "      <td>882.964365</td>\n",
       "      <td>538.073286</td>\n",
       "    </tr>\n",
       "  </tbody>\n",
       "</table>\n",
       "</div>"
      ],
      "text/plain": [
       "           일자            0           0\n",
       "0  2021-01-27  1141.521689  509.911800\n",
       "1  2021-01-28   927.314850  455.554914\n",
       "2  2021-01-29   735.726085  263.620759\n",
       "3  2021-02-01  1143.970130  525.557363\n",
       "4  2021-02-02   882.964365  538.073286"
      ]
     },
     "execution_count": 16,
     "metadata": {},
     "output_type": "execute_result"
    }
   ],
   "source": [
    "findata = pd.concat([test['일자'], 중식계, 석식계], axis = 1)\n",
    "findata.head()"
   ]
  },
  {
   "cell_type": "code",
   "execution_count": 17,
   "id": "c77d04b4",
   "metadata": {},
   "outputs": [
    {
     "data": {
      "text/html": [
       "<div>\n",
       "<style scoped>\n",
       "    .dataframe tbody tr th:only-of-type {\n",
       "        vertical-align: middle;\n",
       "    }\n",
       "\n",
       "    .dataframe tbody tr th {\n",
       "        vertical-align: top;\n",
       "    }\n",
       "\n",
       "    .dataframe thead th {\n",
       "        text-align: right;\n",
       "    }\n",
       "</style>\n",
       "<table border=\"1\" class=\"dataframe\">\n",
       "  <thead>\n",
       "    <tr style=\"text-align: right;\">\n",
       "      <th></th>\n",
       "      <th>일자</th>\n",
       "      <th>중식계</th>\n",
       "      <th>석식계</th>\n",
       "    </tr>\n",
       "  </thead>\n",
       "  <tbody>\n",
       "    <tr>\n",
       "      <th>0</th>\n",
       "      <td>2021-01-27</td>\n",
       "      <td>1141.521689</td>\n",
       "      <td>509.911800</td>\n",
       "    </tr>\n",
       "    <tr>\n",
       "      <th>1</th>\n",
       "      <td>2021-01-28</td>\n",
       "      <td>927.314850</td>\n",
       "      <td>455.554914</td>\n",
       "    </tr>\n",
       "    <tr>\n",
       "      <th>2</th>\n",
       "      <td>2021-01-29</td>\n",
       "      <td>735.726085</td>\n",
       "      <td>263.620759</td>\n",
       "    </tr>\n",
       "    <tr>\n",
       "      <th>3</th>\n",
       "      <td>2021-02-01</td>\n",
       "      <td>1143.970130</td>\n",
       "      <td>525.557363</td>\n",
       "    </tr>\n",
       "    <tr>\n",
       "      <th>4</th>\n",
       "      <td>2021-02-02</td>\n",
       "      <td>882.964365</td>\n",
       "      <td>538.073286</td>\n",
       "    </tr>\n",
       "  </tbody>\n",
       "</table>\n",
       "</div>"
      ],
      "text/plain": [
       "           일자          중식계         석식계\n",
       "0  2021-01-27  1141.521689  509.911800\n",
       "1  2021-01-28   927.314850  455.554914\n",
       "2  2021-01-29   735.726085  263.620759\n",
       "3  2021-02-01  1143.970130  525.557363\n",
       "4  2021-02-02   882.964365  538.073286"
      ]
     },
     "execution_count": 17,
     "metadata": {},
     "output_type": "execute_result"
    }
   ],
   "source": [
    "findata.columns = ['일자', '중식계', '석식계']\n",
    "findata.head()"
   ]
  },
  {
   "cell_type": "code",
   "execution_count": 18,
   "id": "54f2055b",
   "metadata": {},
   "outputs": [],
   "source": [
    "findata.to_csv('8th optuna hp 조정 수 줄임 요일, 재택자수, 중식메뉴, 석식메뉴.csv', index=False)"
   ]
  }
 ],
 "metadata": {
  "kernelspec": {
   "display_name": "Python 3",
   "language": "python",
   "name": "python3"
  },
  "language_info": {
   "codemirror_mode": {
    "name": "ipython",
    "version": 3
   },
   "file_extension": ".py",
   "mimetype": "text/x-python",
   "name": "python",
   "nbconvert_exporter": "python",
   "pygments_lexer": "ipython3",
   "version": "3.8.5"
  },
  "latex_envs": {
   "LaTeX_envs_menu_present": true,
   "autoclose": false,
   "autocomplete": true,
   "bibliofile": "biblio.bib",
   "cite_by": "apalike",
   "current_citInitial": 1,
   "eqLabelWithNumbers": true,
   "eqNumInitial": 1,
   "hotkeys": {
    "equation": "Ctrl-E",
    "itemize": "Ctrl-I"
   },
   "labels_anchors": false,
   "latex_user_defs": false,
   "report_style_numbering": false,
   "user_envs_cfg": false
  },
  "toc": {
   "base_numbering": 1,
   "nav_menu": {},
   "number_sections": true,
   "sideBar": true,
   "skip_h1_title": false,
   "title_cell": "Table of Contents",
   "title_sidebar": "Contents",
   "toc_cell": true,
   "toc_position": {
    "height": "calc(100% - 180px)",
    "left": "10px",
    "top": "150px",
    "width": "191.797px"
   },
   "toc_section_display": true,
   "toc_window_display": true
  }
 },
 "nbformat": 4,
 "nbformat_minor": 5
}

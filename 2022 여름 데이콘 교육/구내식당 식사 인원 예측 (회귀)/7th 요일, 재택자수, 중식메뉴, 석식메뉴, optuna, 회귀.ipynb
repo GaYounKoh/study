{
 "cells": [
  {
   "cell_type": "markdown",
   "id": "a07ec2da",
   "metadata": {
    "toc": true
   },
   "source": [
    "<h1>Table of Contents<span class=\"tocSkip\"></span></h1>\n",
    "<div class=\"toc\"><ul class=\"toc-item\"><li><span><a href=\"#평가방식-MAE\" data-toc-modified-id=\"평가방식-MAE-1\"><span class=\"toc-item-num\">1&nbsp;&nbsp;</span>평가방식 MAE</a></span></li><li><span><a href=\"#library-import\" data-toc-modified-id=\"library-import-2\"><span class=\"toc-item-num\">2&nbsp;&nbsp;</span>library import</a></span></li><li><span><a href=\"#data-load\" data-toc-modified-id=\"data-load-3\"><span class=\"toc-item-num\">3&nbsp;&nbsp;</span>data load</a></span></li><li><span><a href=\"#전처리\" data-toc-modified-id=\"전처리-4\"><span class=\"toc-item-num\">4&nbsp;&nbsp;</span>전처리</a></span></li><li><span><a href=\"#optuna\" data-toc-modified-id=\"optuna-5\"><span class=\"toc-item-num\">5&nbsp;&nbsp;</span>optuna</a></span></li><li><span><a href=\"#model-fitting-with-tuned-hyperparameters\" data-toc-modified-id=\"model-fitting-with-tuned-hyperparameters-6\"><span class=\"toc-item-num\">6&nbsp;&nbsp;</span>model fitting with tuned hyperparameters</a></span></li></ul></div>"
   ]
  },
  {
   "cell_type": "markdown",
   "id": "865a7daf",
   "metadata": {},
   "source": [
    "# 평가방식 MAE\n",
    "... 회귀.... <br>\n",
    "회귀도 input은 수치여야함."
   ]
  },
  {
   "cell_type": "markdown",
   "id": "b4fbde62",
   "metadata": {},
   "source": [
    "# library import"
   ]
  },
  {
   "cell_type": "code",
   "execution_count": 1,
   "id": "50bcf1d3",
   "metadata": {},
   "outputs": [],
   "source": [
    "import pandas as pd\n",
    "from IPython.core.interactiveshell import InteractiveShell\n",
    "InteractiveShell.ast_node_interactivity = 'all'\n",
    "from tqdm import tqdm\n",
    "import warnings\n",
    "warnings.filterwarnings('ignore')"
   ]
  },
  {
   "cell_type": "markdown",
   "id": "32676427",
   "metadata": {},
   "source": [
    "# data load"
   ]
  },
  {
   "cell_type": "code",
   "execution_count": 2,
   "id": "8ca62715",
   "metadata": {},
   "outputs": [],
   "source": [
    "train = pd.read_csv('../235743_구내식당 식사 인원 예측 AI 경진대회_data/train.csv')\n",
    "test = pd.read_csv('../235743_구내식당 식사 인원 예측 AI 경진대회_data/test.csv')"
   ]
  },
  {
   "cell_type": "code",
   "execution_count": 3,
   "id": "d4f60bfb",
   "metadata": {},
   "outputs": [
    {
     "data": {
      "text/html": [
       "<div>\n",
       "<style scoped>\n",
       "    .dataframe tbody tr th:only-of-type {\n",
       "        vertical-align: middle;\n",
       "    }\n",
       "\n",
       "    .dataframe tbody tr th {\n",
       "        vertical-align: top;\n",
       "    }\n",
       "\n",
       "    .dataframe thead th {\n",
       "        text-align: right;\n",
       "    }\n",
       "</style>\n",
       "<table border=\"1\" class=\"dataframe\">\n",
       "  <thead>\n",
       "    <tr style=\"text-align: right;\">\n",
       "      <th></th>\n",
       "      <th>일자</th>\n",
       "      <th>요일</th>\n",
       "      <th>본사정원수</th>\n",
       "      <th>본사휴가자수</th>\n",
       "      <th>본사출장자수</th>\n",
       "      <th>본사시간외근무명령서승인건수</th>\n",
       "      <th>현본사소속재택근무자수</th>\n",
       "      <th>조식메뉴</th>\n",
       "      <th>중식메뉴</th>\n",
       "      <th>석식메뉴</th>\n",
       "      <th>중식계</th>\n",
       "      <th>석식계</th>\n",
       "    </tr>\n",
       "  </thead>\n",
       "  <tbody>\n",
       "    <tr>\n",
       "      <th>0</th>\n",
       "      <td>2016-02-01</td>\n",
       "      <td>월</td>\n",
       "      <td>2601</td>\n",
       "      <td>50</td>\n",
       "      <td>150</td>\n",
       "      <td>238</td>\n",
       "      <td>0.0</td>\n",
       "      <td>모닝롤/찐빵  우유/두유/주스 계란후라이  호두죽/쌀밥 (쌀:국내산) 된장찌개  쥐...</td>\n",
       "      <td>쌀밥/잡곡밥 (쌀,현미흑미:국내산) 오징어찌개  쇠불고기 (쇠고기:호주산) 계란찜 ...</td>\n",
       "      <td>쌀밥/잡곡밥 (쌀,현미흑미:국내산) 육개장  자반고등어구이  두부조림  건파래무침 ...</td>\n",
       "      <td>1039.0</td>\n",
       "      <td>331.0</td>\n",
       "    </tr>\n",
       "    <tr>\n",
       "      <th>1</th>\n",
       "      <td>2016-02-02</td>\n",
       "      <td>화</td>\n",
       "      <td>2601</td>\n",
       "      <td>50</td>\n",
       "      <td>173</td>\n",
       "      <td>319</td>\n",
       "      <td>0.0</td>\n",
       "      <td>모닝롤/단호박샌드  우유/두유/주스 계란후라이  팥죽/쌀밥 (쌀:국내산) 호박젓국찌...</td>\n",
       "      <td>쌀밥/잡곡밥 (쌀,현미흑미:국내산) 김치찌개  가자미튀김  모둠소세지구이  마늘쫑무...</td>\n",
       "      <td>콩나물밥*양념장 (쌀,현미흑미:국내산) 어묵국  유산슬 (쇠고기:호주산) 아삭고추무...</td>\n",
       "      <td>867.0</td>\n",
       "      <td>560.0</td>\n",
       "    </tr>\n",
       "    <tr>\n",
       "      <th>2</th>\n",
       "      <td>2016-02-03</td>\n",
       "      <td>수</td>\n",
       "      <td>2601</td>\n",
       "      <td>56</td>\n",
       "      <td>180</td>\n",
       "      <td>111</td>\n",
       "      <td>0.0</td>\n",
       "      <td>모닝롤/베이글  우유/두유/주스 계란후라이  표고버섯죽/쌀밥 (쌀:국내산) 콩나물국...</td>\n",
       "      <td>카레덮밥 (쌀,현미흑미:국내산) 팽이장국  치킨핑거 (닭고기:국내산) 쫄면야채무침 ...</td>\n",
       "      <td>쌀밥/잡곡밥 (쌀,현미흑미:국내산) 청국장찌개  황태양념구이 (황태:러시아산) 고기...</td>\n",
       "      <td>1017.0</td>\n",
       "      <td>573.0</td>\n",
       "    </tr>\n",
       "    <tr>\n",
       "      <th>3</th>\n",
       "      <td>2016-02-04</td>\n",
       "      <td>목</td>\n",
       "      <td>2601</td>\n",
       "      <td>104</td>\n",
       "      <td>220</td>\n",
       "      <td>355</td>\n",
       "      <td>0.0</td>\n",
       "      <td>모닝롤/토마토샌드  우유/두유/주스 계란후라이  닭죽/쌀밥 (쌀,닭:국내산) 근대국...</td>\n",
       "      <td>쌀밥/잡곡밥 (쌀,현미흑미:국내산) 쇠고기무국  주꾸미볶음  부추전  시금치나물  ...</td>\n",
       "      <td>미니김밥*겨자장 (쌀,현미흑미:국내산) 우동  멕시칸샐러드  군고구마  무피클  포...</td>\n",
       "      <td>978.0</td>\n",
       "      <td>525.0</td>\n",
       "    </tr>\n",
       "    <tr>\n",
       "      <th>4</th>\n",
       "      <td>2016-02-05</td>\n",
       "      <td>금</td>\n",
       "      <td>2601</td>\n",
       "      <td>278</td>\n",
       "      <td>181</td>\n",
       "      <td>34</td>\n",
       "      <td>0.0</td>\n",
       "      <td>모닝롤/와플  우유/두유/주스 계란후라이  쇠고기죽/쌀밥 (쌀:국내산) 재첩국  방...</td>\n",
       "      <td>쌀밥/잡곡밥 (쌀,현미흑미:국내산) 떡국  돈육씨앗강정 (돼지고기:국내산) 우엉잡채...</td>\n",
       "      <td>쌀밥/잡곡밥 (쌀,현미흑미:국내산) 차돌박이찌개 (쇠고기:호주산) 닭갈비 (닭고기:...</td>\n",
       "      <td>925.0</td>\n",
       "      <td>330.0</td>\n",
       "    </tr>\n",
       "    <tr>\n",
       "      <th>5</th>\n",
       "      <td>2016-02-11</td>\n",
       "      <td>목</td>\n",
       "      <td>2601</td>\n",
       "      <td>383</td>\n",
       "      <td>143</td>\n",
       "      <td>417</td>\n",
       "      <td>0.0</td>\n",
       "      <td>팬케익/찐빵  우유/두유/주스  계란후라이  견과류죽/쌀밥 (쌀:국내산) 감자찌개 ...</td>\n",
       "      <td>쌀밥/잡곡밥 (쌀,현미흑미:국내산) 시래기국  훈제오리구이  도토리묵무침  쌈무/양...</td>\n",
       "      <td>참치회덮밥 (쌀,현미흑미:국내산) 맑은국  군만두  과일샐러드  락교  포기김치 (...</td>\n",
       "      <td>1045.0</td>\n",
       "      <td>550.0</td>\n",
       "    </tr>\n",
       "  </tbody>\n",
       "</table>\n",
       "</div>"
      ],
      "text/plain": [
       "           일자 요일  본사정원수  본사휴가자수  본사출장자수  본사시간외근무명령서승인건수  현본사소속재택근무자수  \\\n",
       "0  2016-02-01  월   2601      50     150             238          0.0   \n",
       "1  2016-02-02  화   2601      50     173             319          0.0   \n",
       "2  2016-02-03  수   2601      56     180             111          0.0   \n",
       "3  2016-02-04  목   2601     104     220             355          0.0   \n",
       "4  2016-02-05  금   2601     278     181              34          0.0   \n",
       "5  2016-02-11  목   2601     383     143             417          0.0   \n",
       "\n",
       "                                                조식메뉴  \\\n",
       "0  모닝롤/찐빵  우유/두유/주스 계란후라이  호두죽/쌀밥 (쌀:국내산) 된장찌개  쥐...   \n",
       "1  모닝롤/단호박샌드  우유/두유/주스 계란후라이  팥죽/쌀밥 (쌀:국내산) 호박젓국찌...   \n",
       "2  모닝롤/베이글  우유/두유/주스 계란후라이  표고버섯죽/쌀밥 (쌀:국내산) 콩나물국...   \n",
       "3  모닝롤/토마토샌드  우유/두유/주스 계란후라이  닭죽/쌀밥 (쌀,닭:국내산) 근대국...   \n",
       "4  모닝롤/와플  우유/두유/주스 계란후라이  쇠고기죽/쌀밥 (쌀:국내산) 재첩국  방...   \n",
       "5  팬케익/찐빵  우유/두유/주스  계란후라이  견과류죽/쌀밥 (쌀:국내산) 감자찌개 ...   \n",
       "\n",
       "                                                중식메뉴  \\\n",
       "0  쌀밥/잡곡밥 (쌀,현미흑미:국내산) 오징어찌개  쇠불고기 (쇠고기:호주산) 계란찜 ...   \n",
       "1  쌀밥/잡곡밥 (쌀,현미흑미:국내산) 김치찌개  가자미튀김  모둠소세지구이  마늘쫑무...   \n",
       "2  카레덮밥 (쌀,현미흑미:국내산) 팽이장국  치킨핑거 (닭고기:국내산) 쫄면야채무침 ...   \n",
       "3  쌀밥/잡곡밥 (쌀,현미흑미:국내산) 쇠고기무국  주꾸미볶음  부추전  시금치나물  ...   \n",
       "4  쌀밥/잡곡밥 (쌀,현미흑미:국내산) 떡국  돈육씨앗강정 (돼지고기:국내산) 우엉잡채...   \n",
       "5  쌀밥/잡곡밥 (쌀,현미흑미:국내산) 시래기국  훈제오리구이  도토리묵무침  쌈무/양...   \n",
       "\n",
       "                                                석식메뉴     중식계    석식계  \n",
       "0  쌀밥/잡곡밥 (쌀,현미흑미:국내산) 육개장  자반고등어구이  두부조림  건파래무침 ...  1039.0  331.0  \n",
       "1  콩나물밥*양념장 (쌀,현미흑미:국내산) 어묵국  유산슬 (쇠고기:호주산) 아삭고추무...   867.0  560.0  \n",
       "2  쌀밥/잡곡밥 (쌀,현미흑미:국내산) 청국장찌개  황태양념구이 (황태:러시아산) 고기...  1017.0  573.0  \n",
       "3  미니김밥*겨자장 (쌀,현미흑미:국내산) 우동  멕시칸샐러드  군고구마  무피클  포...   978.0  525.0  \n",
       "4  쌀밥/잡곡밥 (쌀,현미흑미:국내산) 차돌박이찌개 (쇠고기:호주산) 닭갈비 (닭고기:...   925.0  330.0  \n",
       "5  참치회덮밥 (쌀,현미흑미:국내산) 맑은국  군만두  과일샐러드  락교  포기김치 (...  1045.0  550.0  "
      ]
     },
     "execution_count": 3,
     "metadata": {},
     "output_type": "execute_result"
    }
   ],
   "source": [
    "train.head(6)\n",
    "# 일자\n",
    "# 요일 ###\n",
    "# 본사 정원수\n",
    "# 본사휴가자수\n",
    "# 본사출장자수\n",
    "# 본사시간외근무명령서승인건수\n",
    "# 현본사소속재택근무자수 ###\n",
    "# 조식메뉴\n",
    "# 중식메뉴 ###\n",
    "# 석식메뉴 ###\n",
    "\n",
    "# 중식계\n",
    "# 석식계\n",
    "\n",
    "# 중식계, 석식계는 합계인듯. 예측해야 하는 것."
   ]
  },
  {
   "cell_type": "markdown",
   "id": "998eee09",
   "metadata": {},
   "source": [
    "# 전처리"
   ]
  },
  {
   "cell_type": "code",
   "execution_count": 4,
   "id": "3a0f864b",
   "metadata": {},
   "outputs": [
    {
     "name": "stdout",
     "output_type": "stream",
     "text": [
      "<class 'pandas.core.frame.DataFrame'>\n",
      "RangeIndex: 1205 entries, 0 to 1204\n",
      "Data columns (total 12 columns):\n",
      " #   Column          Non-Null Count  Dtype  \n",
      "---  ------          --------------  -----  \n",
      " 0   일자              1205 non-null   object \n",
      " 1   요일              1205 non-null   object \n",
      " 2   본사정원수           1205 non-null   int64  \n",
      " 3   본사휴가자수          1205 non-null   int64  \n",
      " 4   본사출장자수          1205 non-null   int64  \n",
      " 5   본사시간외근무명령서승인건수  1205 non-null   int64  \n",
      " 6   현본사소속재택근무자수     1205 non-null   float64\n",
      " 7   조식메뉴            1205 non-null   object \n",
      " 8   중식메뉴            1205 non-null   object \n",
      " 9   석식메뉴            1205 non-null   object \n",
      " 10  중식계             1205 non-null   float64\n",
      " 11  석식계             1205 non-null   float64\n",
      "dtypes: float64(3), int64(4), object(5)\n",
      "memory usage: 113.1+ KB\n"
     ]
    }
   ],
   "source": [
    "# train['조식메뉴'].value_counts()\n",
    "train.info()"
   ]
  },
  {
   "cell_type": "code",
   "execution_count": 5,
   "id": "471d7ea2",
   "metadata": {},
   "outputs": [],
   "source": [
    "train.loc[(train['조식메뉴'].str.contains('쇠'))|(train['조식메뉴'].str.contains('소'))|(train['조식메뉴'].str.contains('고기'))|\n",
    "          (train['조식메뉴'].str.contains('돼지'))|(train['조식메뉴'].str.contains('돈육'))|\n",
    "          (train['조식메뉴'].str.contains('닭'))|(train['조식메뉴'].str.contains('치킨'))|\n",
    "          (train['조식메뉴'].str.contains('오리')), '조식메뉴'] = 1\n",
    "train.loc[train['조식메뉴']!=1, '조식메뉴'] = 0\n",
    "test.loc[(test['조식메뉴'].str.contains('쇠'))|(test['조식메뉴'].str.contains('소'))|(test['조식메뉴'].str.contains('고기'))|\n",
    "          (test['조식메뉴'].str.contains('돼지'))|(test['조식메뉴'].str.contains('돈육'))|\n",
    "          (test['조식메뉴'].str.contains('닭'))|(test['조식메뉴'].str.contains('치킨'))|\n",
    "          (test['조식메뉴'].str.contains('오리')), '조식메뉴'] = 1\n",
    "test.loc[test['조식메뉴']!=1, '조식메뉴'] = 0\n",
    "\n",
    "# int 형으로 바꾸기\n",
    "train['조식메뉴'] = train['조식메뉴'].map(int)\n",
    "test['조식메뉴'] = test['조식메뉴'].map(int)"
   ]
  },
  {
   "cell_type": "code",
   "execution_count": 6,
   "id": "03833051",
   "metadata": {},
   "outputs": [
    {
     "data": {
      "text/plain": [
       "(1205, 12)"
      ]
     },
     "execution_count": 6,
     "metadata": {},
     "output_type": "execute_result"
    }
   ],
   "source": [
    "# train[train['중식메뉴'].contains('고기')]\n",
    "# (train.loc[train['중식메뉴'].str.contains('고기'), '중식메뉴']).count()\n",
    "train.shape\n",
    "# train.loc[train['중식메뉴'].str.contains('고기'), '중식메뉴']\n",
    "train.loc[(train['중식메뉴'].str.contains('쇠'))|(train['중식메뉴'].str.contains('소'))|(train['중식메뉴'].str.contains('고기'))|\n",
    "          (train['중식메뉴'].str.contains('돼지'))|(train['중식메뉴'].str.contains('돈육'))|\n",
    "          (train['중식메뉴'].str.contains('닭'))|(train['중식메뉴'].str.contains('치킨'))|\n",
    "          (train['중식메뉴'].str.contains('오리')), '중식메뉴'] = 1\n",
    "train.loc[train['중식메뉴']!=1, '중식메뉴'] = 0\n",
    "# train.loc[(train['중식메뉴'].str.contains('돼지'))|(train['중식메뉴'].str.contains('돈육')), '중식메뉴']\n",
    "# train.loc[(train['중식메뉴'].str.contains('닭'))|(train['중식메뉴'].str.contains('치킨')), '중식메뉴']\n",
    "# train.loc[(train['중식메뉴'].str.contains('오리')), '중식메뉴']\n",
    "\n",
    "test.loc[(test['중식메뉴'].str.contains('쇠'))|(test['중식메뉴'].str.contains('소'))|(test['중식메뉴'].str.contains('고기'))|\n",
    "          (test['중식메뉴'].str.contains('돼지'))|(test['중식메뉴'].str.contains('돈육'))|\n",
    "          (test['중식메뉴'].str.contains('닭'))|(test['중식메뉴'].str.contains('치킨'))|\n",
    "          (test['중식메뉴'].str.contains('오리')), '중식메뉴'] = 1\n",
    "test.loc[test['중식메뉴']!=1, '중식메뉴'] = 0\n",
    "\n",
    "# int 형으로 바꾸기\n",
    "train['중식메뉴'] = train['중식메뉴'].map(int)\n",
    "test['중식메뉴'] = test['중식메뉴'].map(int)"
   ]
  },
  {
   "cell_type": "code",
   "execution_count": 7,
   "id": "3de3d6a8",
   "metadata": {},
   "outputs": [],
   "source": [
    "train.loc[(train['석식메뉴'].str.contains('쇠'))|(train['석식메뉴'].str.contains('소'))|(train['석식메뉴'].str.contains('고기'))|\n",
    "          (train['석식메뉴'].str.contains('돼지'))|(train['석식메뉴'].str.contains('돈육'))|\n",
    "          (train['석식메뉴'].str.contains('닭'))|(train['석식메뉴'].str.contains('치킨'))|\n",
    "          (train['석식메뉴'].str.contains('오리')), '석식메뉴'] = 1\n",
    "train.loc[train['석식메뉴']!=1, '석식메뉴'] = 0\n",
    "\n",
    "test.loc[(test['석식메뉴'].str.contains('쇠'))|(test['석식메뉴'].str.contains('소'))|(test['석식메뉴'].str.contains('고기'))|\n",
    "          (test['석식메뉴'].str.contains('돼지'))|(test['석식메뉴'].str.contains('돈육'))|\n",
    "          (test['석식메뉴'].str.contains('닭'))|(test['석식메뉴'].str.contains('치킨'))|\n",
    "          (test['석식메뉴'].str.contains('오리')), '석식메뉴'] = 1\n",
    "test.loc[test['석식메뉴']!=1, '석식메뉴'] = 0\n",
    "\n",
    "# int 형으로 바꾸기\n",
    "train['석식메뉴'] = train['석식메뉴'].map(int)\n",
    "test['석식메뉴'] = test['석식메뉴'].map(int)"
   ]
  },
  {
   "cell_type": "code",
   "execution_count": 8,
   "id": "ef22d7b0",
   "metadata": {},
   "outputs": [
    {
     "data": {
      "text/plain": [
       "array(['월', '화', '수', ..., '금', '월', '화'], dtype=object)"
      ]
     },
     "execution_count": 8,
     "metadata": {},
     "output_type": "execute_result"
    },
    {
     "data": {
      "text/plain": [
       "0       1\n",
       "1       2\n",
       "2       3\n",
       "3       4\n",
       "4       5\n",
       "       ..\n",
       "1200    3\n",
       "1201    4\n",
       "1202    5\n",
       "1203    1\n",
       "1204    2\n",
       "Name: 요일, Length: 1205, dtype: int64"
      ]
     },
     "execution_count": 8,
     "metadata": {},
     "output_type": "execute_result"
    }
   ],
   "source": [
    "train['요일'].values\n",
    "\n",
    "train['요일'] = train['요일'].map({'월':1, '화':2, '수':3, '목':4, '금':5})\n",
    "test['요일'] = test['요일'].map({'월':1, '화':2, '수':3, '목':4, '금':5})\n",
    "\n",
    "train['요일']"
   ]
  },
  {
   "cell_type": "code",
   "execution_count": 9,
   "id": "b941c6a0",
   "metadata": {
    "scrolled": true
   },
   "outputs": [
    {
     "name": "stdout",
     "output_type": "stream",
     "text": [
      "<class 'pandas.core.frame.DataFrame'>\n",
      "RangeIndex: 1205 entries, 0 to 1204\n",
      "Data columns (total 12 columns):\n",
      " #   Column          Non-Null Count  Dtype  \n",
      "---  ------          --------------  -----  \n",
      " 0   일자              1205 non-null   object \n",
      " 1   요일              1205 non-null   int64  \n",
      " 2   본사정원수           1205 non-null   int64  \n",
      " 3   본사휴가자수          1205 non-null   int64  \n",
      " 4   본사출장자수          1205 non-null   int64  \n",
      " 5   본사시간외근무명령서승인건수  1205 non-null   int64  \n",
      " 6   현본사소속재택근무자수     1205 non-null   float64\n",
      " 7   조식메뉴            1205 non-null   int64  \n",
      " 8   중식메뉴            1205 non-null   int64  \n",
      " 9   석식메뉴            1205 non-null   int64  \n",
      " 10  중식계             1205 non-null   float64\n",
      " 11  석식계             1205 non-null   float64\n",
      "dtypes: float64(3), int64(8), object(1)\n",
      "memory usage: 113.1+ KB\n"
     ]
    }
   ],
   "source": [
    "train.info()"
   ]
  },
  {
   "cell_type": "code",
   "execution_count": 11,
   "id": "bd6b361b",
   "metadata": {},
   "outputs": [],
   "source": [
    "import lightgbm as lgbm\n",
    "import random"
   ]
  },
  {
   "cell_type": "markdown",
   "id": "3f97d66a",
   "metadata": {},
   "source": [
    "# optuna\n",
    "[공식 docs](https://optuna.readthedocs.io/_/downloads/en/latest/pdf/) <br>\n",
    "[맨 처음 참고](https://ssoonidev.tistory.com/107) <br>\n",
    "[dacon, 다수 알고리즘에 대한 optuna 코드 보유](https://dacon.io/codeshare/2876) <br>\n",
    "[저장 안하려다 다른 포스팅 참고하라고 저장](https://velog.io/@dohy426/LGBM-Regressor-Optuna) <br>"
   ]
  },
  {
   "cell_type": "code",
   "execution_count": 12,
   "id": "d05c66cc",
   "metadata": {},
   "outputs": [
    {
     "data": {
      "text/plain": [
       "{'boosting_type': 'gbdt',\n",
       " 'class_weight': None,\n",
       " 'colsample_bytree': 1.0,\n",
       " 'importance_type': 'split',\n",
       " 'learning_rate': 0.1,\n",
       " 'max_depth': -1,\n",
       " 'min_child_samples': 20,\n",
       " 'min_child_weight': 0.001,\n",
       " 'min_split_gain': 0.0,\n",
       " 'n_estimators': 100,\n",
       " 'n_jobs': -1,\n",
       " 'num_leaves': 31,\n",
       " 'objective': None,\n",
       " 'random_state': None,\n",
       " 'reg_alpha': 0.0,\n",
       " 'reg_lambda': 0.0,\n",
       " 'silent': 'warn',\n",
       " 'subsample': 1.0,\n",
       " 'subsample_for_bin': 200000,\n",
       " 'subsample_freq': 0}"
      ]
     },
     "execution_count": 12,
     "metadata": {},
     "output_type": "execute_result"
    }
   ],
   "source": [
    "lgbm.LGBMRegressor().get_params()"
   ]
  },
  {
   "cell_type": "code",
   "execution_count": 25,
   "id": "d0748a6b",
   "metadata": {},
   "outputs": [],
   "source": [
    "# ! pip install optuna"
   ]
  },
  {
   "cell_type": "code",
   "execution_count": 14,
   "id": "69cf46f6",
   "metadata": {},
   "outputs": [
    {
     "name": "stderr",
     "output_type": "stream",
     "text": [
      "\u001b[32m[I 2022-07-06 01:28:28,143]\u001b[0m A new study created in memory with name: no-name-9201e154-b87b-489a-97db-6242059b5620\u001b[0m\n",
      "\u001b[32m[I 2022-07-06 01:28:28,144]\u001b[0m A new study created in memory with name: no-name-1d67ea3b-91bd-42de-9db0-968f27316d73\u001b[0m\n",
      "\u001b[32m[I 2022-07-06 01:28:31,545]\u001b[0m Trial 0 finished with value: 106.26033547194069 and parameters: {'learning_rate': 0.00031489116479568613, 'n_estimators': 4759, 'max_depth': 14, 'min_child_weight': 180, 'reg_alpha': 0.004207988669606638, 'reg_lambda': 0.004207053950287938}. Best is trial 0 with value: 106.26033547194069.\u001b[0m\n",
      "\u001b[32m[I 2022-07-06 01:28:34,693]\u001b[0m Trial 1 finished with value: 161.05804331124884 and parameters: {'learning_rate': 1.7073967431528103e-05, 'n_estimators': 4345, 'max_depth': 13, 'min_child_weight': 213, 'reg_alpha': 0.0012087541473056963, 'reg_lambda': 7.579479953348009}. Best is trial 0 with value: 106.26033547194069.\u001b[0m\n",
      "\u001b[32m[I 2022-07-06 01:28:36,362]\u001b[0m Trial 2 finished with value: 92.09418111155519 and parameters: {'learning_rate': 0.021368329072358756, 'n_estimators': 1140, 'max_depth': 9, 'min_child_weight': 56, 'reg_alpha': 0.016480446427978974, 'reg_lambda': 0.12561043700013558}. Best is trial 2 with value: 92.09418111155519.\u001b[0m\n",
      "\u001b[32m[I 2022-07-06 01:28:38,806]\u001b[0m Trial 3 finished with value: 117.89989869128623 and parameters: {'learning_rate': 0.0005342937261279777, 'n_estimators': 1527, 'max_depth': 13, 'min_child_weight': 42, 'reg_alpha': 0.01474275315991467, 'reg_lambda': 0.029204338471814112}. Best is trial 2 with value: 92.09418111155519.\u001b[0m\n",
      "\u001b[32m[I 2022-07-06 01:28:41,959]\u001b[0m Trial 4 finished with value: 100.36261848437039 and parameters: {'learning_rate': 0.0006672367170464204, 'n_estimators': 3948, 'max_depth': 9, 'min_child_weight': 155, 'reg_alpha': 0.23423849847112907, 'reg_lambda': 0.0015339162591163618}. Best is trial 2 with value: 92.09418111155519.\u001b[0m\n",
      "\u001b[32m[I 2022-07-06 01:28:42,322]\u001b[0m Trial 5 finished with value: 130.1922721121313 and parameters: {'learning_rate': 0.0026926469100861782, 'n_estimators': 935, 'max_depth': 8, 'min_child_weight': 285, 'reg_alpha': 7.2866537374910445, 'reg_lambda': 1.7123375973163988}. Best is trial 2 with value: 92.09418111155519.\u001b[0m\n",
      "\u001b[32m[I 2022-07-06 01:28:42,745]\u001b[0m Trial 6 finished with value: 158.9915054675979 and parameters: {'learning_rate': 0.00016536937182824412, 'n_estimators': 578, 'max_depth': 14, 'min_child_weight': 133, 'reg_alpha': 0.003077180271250686, 'reg_lambda': 0.09565499215943825}. Best is trial 2 with value: 92.09418111155519.\u001b[0m\n",
      "\u001b[32m[I 2022-07-06 01:28:46,053]\u001b[0m Trial 7 finished with value: 161.89669699237504 and parameters: {'learning_rate': 1.3726318898045866e-05, 'n_estimators': 4556, 'max_depth': 10, 'min_child_weight': 199, 'reg_alpha': 0.017654048052495083, 'reg_lambda': 0.12030178871154672}. Best is trial 2 with value: 92.09418111155519.\u001b[0m\n",
      "\u001b[32m[I 2022-07-06 01:28:46,802]\u001b[0m Trial 8 finished with value: 106.01217066968456 and parameters: {'learning_rate': 0.0015375920235481753, 'n_estimators': 1005, 'max_depth': 16, 'min_child_weight': 233, 'reg_alpha': 5.727904470799623, 'reg_lambda': 3.7958531426706403}. Best is trial 2 with value: 92.09418111155519.\u001b[0m\n",
      "\u001b[32m[I 2022-07-06 01:28:52,820]\u001b[0m Trial 9 finished with value: 92.8449218054644 and parameters: {'learning_rate': 0.002463768595899745, 'n_estimators': 4618, 'max_depth': 8, 'min_child_weight': 59, 'reg_alpha': 0.0015167330688076208, 'reg_lambda': 0.02001342062287998}. Best is trial 2 with value: 92.09418111155519.\u001b[0m\n",
      "\u001b[32m[I 2022-07-06 01:28:57,568]\u001b[0m Trial 10 finished with value: 86.41045878769278 and parameters: {'learning_rate': 0.0816552845050913, 'n_estimators': 2419, 'max_depth': 11, 'min_child_weight': 6, 'reg_alpha': 0.2651471074919484, 'reg_lambda': 0.5767509177705773}. Best is trial 10 with value: 86.41045878769278.\u001b[0m\n",
      "\u001b[32m[I 2022-07-06 01:29:02,426]\u001b[0m Trial 11 finished with value: 86.22319136792808 and parameters: {'learning_rate': 0.08908472316730853, 'n_estimators': 2477, 'max_depth': 11, 'min_child_weight': 2, 'reg_alpha': 0.38226021752753925, 'reg_lambda': 0.6146439247862426}. Best is trial 11 with value: 86.22319136792808.\u001b[0m\n",
      "\u001b[32m[I 2022-07-06 01:29:07,792]\u001b[0m Trial 12 finished with value: 86.33679830017674 and parameters: {'learning_rate': 0.07885330200396344, 'n_estimators': 2725, 'max_depth': 11, 'min_child_weight': 4, 'reg_alpha': 0.4368193151568317, 'reg_lambda': 0.6226279276154982}. Best is trial 11 with value: 86.22319136792808.\u001b[0m\n",
      "\u001b[32m[I 2022-07-06 01:29:10,899]\u001b[0m Trial 13 finished with value: 92.02566364132704 and parameters: {'learning_rate': 0.0647820688681974, 'n_estimators': 3195, 'max_depth': 11, 'min_child_weight': 104, 'reg_alpha': 1.2208338797645115, 'reg_lambda': 0.7233530985991307}. Best is trial 11 with value: 86.22319136792808.\u001b[0m\n",
      "\u001b[32m[I 2022-07-06 01:29:15,007]\u001b[0m Trial 14 finished with value: 89.56352171395781 and parameters: {'learning_rate': 0.012237594247191326, 'n_estimators': 2309, 'max_depth': 11, 'min_child_weight': 6, 'reg_alpha': 1.5324057329595444, 'reg_lambda': 0.4666405141301829}. Best is trial 11 with value: 86.22319136792808.\u001b[0m\n",
      "\u001b[32m[I 2022-07-06 01:29:18,422]\u001b[0m Trial 15 finished with value: 92.45275202830149 and parameters: {'learning_rate': 0.013476132278927883, 'n_estimators': 3361, 'max_depth': 12, 'min_child_weight': 89, 'reg_alpha': 0.09735125945191658, 'reg_lambda': 1.9805459526005416}. Best is trial 11 with value: 86.22319136792808.\u001b[0m\n",
      "\u001b[32m[I 2022-07-06 01:29:21,537]\u001b[0m Trial 16 finished with value: 88.36236654389454 and parameters: {'learning_rate': 0.03342969774224923, 'n_estimators': 1759, 'max_depth': 10, 'min_child_weight': 1, 'reg_alpha': 0.7296800174548433, 'reg_lambda': 0.279785918221123}. Best is trial 11 with value: 86.22319136792808.\u001b[0m\n",
      "\u001b[32m[I 2022-07-06 01:29:26,591]\u001b[0m Trial 17 finished with value: 91.18865283722597 and parameters: {'learning_rate': 0.007276659337528992, 'n_estimators': 3185, 'max_depth': 12, 'min_child_weight': 36, 'reg_alpha': 0.06688931104139441, 'reg_lambda': 1.508625542422029}. Best is trial 11 with value: 86.22319136792808.\u001b[0m\n",
      "\u001b[32m[I 2022-07-06 01:29:28,045]\u001b[0m Trial 18 finished with value: 154.82942348918192 and parameters: {'learning_rate': 7.506433978397403e-05, 'n_estimators': 1939, 'max_depth': 16, 'min_child_weight': 92, 'reg_alpha': 0.4810393128035834, 'reg_lambda': 0.037499966167649695}. Best is trial 11 with value: 86.22319136792808.\u001b[0m\n",
      "\u001b[32m[I 2022-07-06 01:29:30,377]\u001b[0m Trial 19 finished with value: 94.45786135833538 and parameters: {'learning_rate': 0.09030786162553335, 'n_estimators': 2807, 'max_depth': 10, 'min_child_weight': 131, 'reg_alpha': 2.30223030783784, 'reg_lambda': 6.126602526262587}. Best is trial 11 with value: 86.22319136792808.\u001b[0m\n",
      "\u001b[32m[I 2022-07-06 01:29:36,674]\u001b[0m Trial 20 finished with value: 90.79231229573334 and parameters: {'learning_rate': 0.005727799089312466, 'n_estimators': 3713, 'max_depth': 13, 'min_child_weight': 30, 'reg_alpha': 0.05556392706432142, 'reg_lambda': 0.2211321372379942}. Best is trial 11 with value: 86.22319136792808.\u001b[0m\n",
      "\u001b[32m[I 2022-07-06 01:29:41,464]\u001b[0m Trial 21 finished with value: 87.57400584540123 and parameters: {'learning_rate': 0.04390566597643961, 'n_estimators': 2504, 'max_depth': 11, 'min_child_weight': 7, 'reg_alpha': 0.19713233678624403, 'reg_lambda': 0.8047799122008109}. Best is trial 11 with value: 86.22319136792808.\u001b[0m\n",
      "\u001b[32m[I 2022-07-06 01:29:44,185]\u001b[0m Trial 22 finished with value: 90.80286222254827 and parameters: {'learning_rate': 0.09933141398742572, 'n_estimators': 2387, 'max_depth': 11, 'min_child_weight': 73, 'reg_alpha': 0.2809342989545408, 'reg_lambda': 0.41941681147583615}. Best is trial 11 with value: 86.22319136792808.\u001b[0m\n",
      "\u001b[32m[I 2022-07-06 01:29:47,664]\u001b[0m Trial 23 finished with value: 89.48657705286583 and parameters: {'learning_rate': 0.024773218035716565, 'n_estimators': 2085, 'max_depth': 12, 'min_child_weight': 28, 'reg_alpha': 0.5077408028610422, 'reg_lambda': 0.9314598923823918}. Best is trial 11 with value: 86.22319136792808.\u001b[0m\n",
      "\u001b[32m[I 2022-07-06 01:29:52,386]\u001b[0m Trial 24 finished with value: 87.54717633739004 and parameters: {'learning_rate': 0.044636145969051896, 'n_estimators': 2834, 'max_depth': 9, 'min_child_weight': 19, 'reg_alpha': 3.2092601977965898, 'reg_lambda': 2.9710367033299216}. Best is trial 11 with value: 86.22319136792808.\u001b[0m\n"
     ]
    },
    {
     "name": "stderr",
     "output_type": "stream",
     "text": [
      "\u001b[32m[I 2022-07-06 01:29:55,795]\u001b[0m Trial 25 finished with value: 92.41481227070834 and parameters: {'learning_rate': 0.007746245538301296, 'n_estimators': 2786, 'max_depth': 10, 'min_child_weight': 69, 'reg_alpha': 0.04136899942732345, 'reg_lambda': 0.06807412558779614}. Best is trial 11 with value: 86.22319136792808.\u001b[0m\n",
      "\u001b[32m[I 2022-07-06 01:29:56,013]\u001b[0m Trial 26 finished with value: 95.29357611530146 and parameters: {'learning_rate': 0.018308588617871217, 'n_estimators': 156, 'max_depth': 12, 'min_child_weight': 47, 'reg_alpha': 0.14312833192746546, 'reg_lambda': 0.2286862657227274}. Best is trial 11 with value: 86.22319136792808.\u001b[0m\n",
      "\u001b[32m[I 2022-07-06 01:29:58,776]\u001b[0m Trial 27 finished with value: 87.96918358067396 and parameters: {'learning_rate': 0.052598230323601745, 'n_estimators': 1445, 'max_depth': 11, 'min_child_weight': 1, 'reg_alpha': 0.8653055264440151, 'reg_lambda': 0.014089463646131955}. Best is trial 11 with value: 86.22319136792808.\u001b[0m\n",
      "\u001b[32m[I 2022-07-06 01:30:00,369]\u001b[0m Trial 28 finished with value: 127.77996225598243 and parameters: {'learning_rate': 0.004316771866635478, 'n_estimators': 3618, 'max_depth': 14, 'min_child_weight': 297, 'reg_alpha': 0.37914903969895764, 'reg_lambda': 0.5146530724904312}. Best is trial 11 with value: 86.22319136792808.\u001b[0m\n",
      "\u001b[32m[I 2022-07-06 01:30:05,446]\u001b[0m Trial 29 finished with value: 92.95565840399469 and parameters: {'learning_rate': 0.03268692730049259, 'n_estimators': 4988, 'max_depth': 15, 'min_child_weight': 113, 'reg_alpha': 0.12825624191428592, 'reg_lambda': 1.214062314871481}. Best is trial 11 with value: 86.22319136792808.\u001b[0m\n",
      "\u001b[32m[I 2022-07-06 01:30:06,268]\u001b[0m Trial 30 finished with value: 127.65092773450154 and parameters: {'learning_rate': 0.09935138101942616, 'n_estimators': 2111, 'max_depth': 12, 'min_child_weight': 263, 'reg_alpha': 1.816807700751957, 'reg_lambda': 0.009419764524068463}. Best is trial 11 with value: 86.22319136792808.\u001b[0m\n",
      "\u001b[32m[I 2022-07-06 01:30:10,649]\u001b[0m Trial 31 finished with value: 87.26268260812506 and parameters: {'learning_rate': 0.0548300407915934, 'n_estimators': 2764, 'max_depth': 9, 'min_child_weight': 19, 'reg_alpha': 2.5840715070158016, 'reg_lambda': 4.438566958330814}. Best is trial 11 with value: 86.22319136792808.\u001b[0m\n",
      "\u001b[32m[I 2022-07-06 01:30:15,457]\u001b[0m Trial 32 finished with value: 87.29541023252182 and parameters: {'learning_rate': 0.05748800338994204, 'n_estimators': 2956, 'max_depth': 9, 'min_child_weight': 17, 'reg_alpha': 4.1152293469584444, 'reg_lambda': 8.025639931932464}. Best is trial 11 with value: 86.22319136792808.\u001b[0m\n",
      "\u001b[32m[I 2022-07-06 01:30:19,826]\u001b[0m Trial 33 finished with value: 90.13571177794583 and parameters: {'learning_rate': 0.014441682160403056, 'n_estimators': 2570, 'max_depth': 10, 'min_child_weight': 29, 'reg_alpha': 0.6965240657644645, 'reg_lambda': 3.6594955905869986}. Best is trial 11 with value: 86.22319136792808.\u001b[0m\n",
      "\u001b[32m[I 2022-07-06 01:30:21,881]\u001b[0m Trial 34 finished with value: 91.50827299672332 and parameters: {'learning_rate': 0.027552652666663065, 'n_estimators': 1660, 'max_depth': 13, 'min_child_weight': 54, 'reg_alpha': 1.2601734392482093, 'reg_lambda': 2.5819155231182456}. Best is trial 11 with value: 86.22319136792808.\u001b[0m\n",
      "\u001b[32m[I 2022-07-06 01:30:23,523]\u001b[0m Trial 35 finished with value: 161.26836614237413 and parameters: {'learning_rate': 3.206939430527022e-05, 'n_estimators': 2221, 'max_depth': 8, 'min_child_weight': 168, 'reg_alpha': 0.2683417712151296, 'reg_lambda': 5.799474547474086}. Best is trial 11 with value: 86.22319136792808.\u001b[0m\n",
      "\u001b[32m[I 2022-07-06 01:30:28,065]\u001b[0m Trial 36 finished with value: 89.57033501838612 and parameters: {'learning_rate': 0.06927101156060918, 'n_estimators': 3879, 'max_depth': 9, 'min_child_weight': 43, 'reg_alpha': 9.361178891453482, 'reg_lambda': 0.1755119960218703}. Best is trial 11 with value: 86.22319136792808.\u001b[0m\n",
      "\u001b[32m[I 2022-07-06 01:30:32,676]\u001b[0m Trial 37 finished with value: 110.6268537300748 and parameters: {'learning_rate': 0.00027494376052367023, 'n_estimators': 4175, 'max_depth': 11, 'min_child_weight': 70, 'reg_alpha': 0.03826916480572862, 'reg_lambda': 0.06699742255362617}. Best is trial 11 with value: 86.22319136792808.\u001b[0m\n",
      "\u001b[32m[I 2022-07-06 01:30:38,548]\u001b[0m Trial 38 finished with value: 87.84395219203648 and parameters: {'learning_rate': 0.024304245972240898, 'n_estimators': 3430, 'max_depth': 9, 'min_child_weight': 15, 'reg_alpha': 0.010580672083803382, 'reg_lambda': 0.0016279713228651595}. Best is trial 11 with value: 86.22319136792808.\u001b[0m\n",
      "\u001b[32m[I 2022-07-06 01:30:40,785]\u001b[0m Trial 39 finished with value: 91.09308537957762 and parameters: {'learning_rate': 0.010626348574692343, 'n_estimators': 1347, 'max_depth': 10, 'min_child_weight': 25, 'reg_alpha': 2.906058482341779, 'reg_lambda': 9.529029928425576}. Best is trial 11 with value: 86.22319136792808.\u001b[0m\n",
      "\u001b[32m[I 2022-07-06 01:30:42,626]\u001b[0m Trial 40 finished with value: 98.23275684693967 and parameters: {'learning_rate': 0.039924630869479664, 'n_estimators': 2668, 'max_depth': 13, 'min_child_weight': 195, 'reg_alpha': 0.1785944065166416, 'reg_lambda': 0.392518801658749}. Best is trial 11 with value: 86.22319136792808.\u001b[0m\n",
      "\u001b[32m[I 2022-07-06 01:30:47,215]\u001b[0m Trial 41 finished with value: 87.2107551221578 and parameters: {'learning_rate': 0.0527138150218115, 'n_estimators': 3050, 'max_depth': 9, 'min_child_weight': 17, 'reg_alpha': 4.043714246090263, 'reg_lambda': 5.1013118646780855}. Best is trial 11 with value: 86.22319136792808.\u001b[0m\n",
      "\u001b[32m[I 2022-07-06 01:30:51,456]\u001b[0m Trial 42 finished with value: 89.68924233303866 and parameters: {'learning_rate': 0.06478407974169618, 'n_estimators': 3134, 'max_depth': 8, 'min_child_weight': 42, 'reg_alpha': 4.728262450610083, 'reg_lambda': 4.558229134232727}. Best is trial 11 with value: 86.22319136792808.\u001b[0m\n",
      "\u001b[32m[I 2022-07-06 01:30:56,455]\u001b[0m Trial 43 finished with value: 88.26836535656655 and parameters: {'learning_rate': 0.0212146446018543, 'n_estimators': 3019, 'max_depth': 9, 'min_child_weight': 17, 'reg_alpha': 0.9892015275943385, 'reg_lambda': 2.092495272420612}. Best is trial 11 with value: 86.22319136792808.\u001b[0m\n",
      "\u001b[32m[I 2022-07-06 01:30:59,208]\u001b[0m Trial 44 finished with value: 98.926433738989 and parameters: {'learning_rate': 0.0008620207224484243, 'n_estimators': 2453, 'max_depth': 10, 'min_child_weight': 60, 'reg_alpha': 6.349427318817972, 'reg_lambda': 1.1726370286662429}. Best is trial 11 with value: 86.22319136792808.\u001b[0m\n",
      "\u001b[32m[I 2022-07-06 01:31:02,766]\u001b[0m Trial 45 finished with value: 87.10777642533137 and parameters: {'learning_rate': 0.07481379086286231, 'n_estimators': 1918, 'max_depth': 11, 'min_child_weight': 1, 'reg_alpha': 0.35169301267387076, 'reg_lambda': 0.6397385447714474}. Best is trial 11 with value: 86.22319136792808.\u001b[0m\n",
      "\u001b[32m[I 2022-07-06 01:31:06,728]\u001b[0m Trial 46 finished with value: 86.68236256327178 and parameters: {'learning_rate': 0.09479974734520187, 'n_estimators': 1880, 'max_depth': 11, 'min_child_weight': 6, 'reg_alpha': 0.08426777833034811, 'reg_lambda': 0.6837765676571914}. Best is trial 11 with value: 86.22319136792808.\u001b[0m\n",
      "\u001b[32m[I 2022-07-06 01:31:10,358]\u001b[0m Trial 47 finished with value: 86.53387306822414 and parameters: {'learning_rate': 0.09687254191164085, 'n_estimators': 1861, 'max_depth': 11, 'min_child_weight': 2, 'reg_alpha': 0.0909757948979645, 'reg_lambda': 0.3255798717582416}. Best is trial 11 with value: 86.22319136792808.\u001b[0m\n",
      "\u001b[32m[I 2022-07-06 01:31:11,691]\u001b[0m Trial 48 finished with value: 98.69180371671668 and parameters: {'learning_rate': 0.0018467261911894119, 'n_estimators': 1166, 'max_depth': 11, 'min_child_weight': 81, 'reg_alpha': 0.021083476699559175, 'reg_lambda': 0.1387275114860214}. Best is trial 11 with value: 86.22319136792808.\u001b[0m\n",
      "\u001b[32m[I 2022-07-06 01:31:12,691]\u001b[0m Trial 49 finished with value: 98.84994091919671 and parameters: {'learning_rate': 0.034359161660392636, 'n_estimators': 1784, 'max_depth': 12, 'min_child_weight': 234, 'reg_alpha': 0.08820427592634827, 'reg_lambda': 0.32856587636738965}. Best is trial 11 with value: 86.22319136792808.\u001b[0m\n"
     ]
    },
    {
     "name": "stdout",
     "output_type": "stream",
     "text": [
      "Best trial: score 86.22319136792808, \n",
      "params {'learning_rate': 0.08908472316730853, 'n_estimators': 2477, 'max_depth': 11, 'min_child_weight': 2, 'reg_alpha': 0.38226021752753925, 'reg_lambda': 0.6146439247862426}\n"
     ]
    },
    {
     "name": "stderr",
     "output_type": "stream",
     "text": [
      "\u001b[32m[I 2022-07-06 01:31:15,592]\u001b[0m Trial 0 finished with value: 85.04259711812013 and parameters: {'learning_rate': 0.00031489116479568613, 'n_estimators': 4759, 'max_depth': 14, 'min_child_weight': 180, 'reg_alpha': 0.004207988669606638, 'reg_lambda': 0.004207053950287938}. Best is trial 0 with value: 85.04259711812013.\u001b[0m\n",
      "\u001b[32m[I 2022-07-06 01:31:18,337]\u001b[0m Trial 1 finished with value: 97.82490614145108 and parameters: {'learning_rate': 1.7073967431528103e-05, 'n_estimators': 4345, 'max_depth': 13, 'min_child_weight': 213, 'reg_alpha': 0.0012087541473056963, 'reg_lambda': 7.579479953348009}. Best is trial 0 with value: 85.04259711812013.\u001b[0m\n",
      "\u001b[32m[I 2022-07-06 01:31:19,828]\u001b[0m Trial 2 finished with value: 76.48226178730314 and parameters: {'learning_rate': 0.021368329072358756, 'n_estimators': 1140, 'max_depth': 9, 'min_child_weight': 56, 'reg_alpha': 0.016480446427978974, 'reg_lambda': 0.12561043700013558}. Best is trial 2 with value: 76.48226178730314.\u001b[0m\n",
      "\u001b[32m[I 2022-07-06 01:31:21,948]\u001b[0m Trial 3 finished with value: 84.01922275995715 and parameters: {'learning_rate': 0.0005342937261279777, 'n_estimators': 1527, 'max_depth': 13, 'min_child_weight': 42, 'reg_alpha': 0.01474275315991467, 'reg_lambda': 0.029204338471814112}. Best is trial 2 with value: 76.48226178730314.\u001b[0m\n",
      "\u001b[32m[I 2022-07-06 01:31:24,527]\u001b[0m Trial 4 finished with value: 82.30273006071093 and parameters: {'learning_rate': 0.0006672367170464204, 'n_estimators': 3948, 'max_depth': 9, 'min_child_weight': 155, 'reg_alpha': 0.23423849847112907, 'reg_lambda': 0.0015339162591163618}. Best is trial 2 with value: 76.48226178730314.\u001b[0m\n",
      "\u001b[32m[I 2022-07-06 01:31:24,913]\u001b[0m Trial 5 finished with value: 90.11885688084064 and parameters: {'learning_rate': 0.0026926469100861782, 'n_estimators': 935, 'max_depth': 8, 'min_child_weight': 285, 'reg_alpha': 7.2866537374910445, 'reg_lambda': 1.7123375973163988}. Best is trial 2 with value: 76.48226178730314.\u001b[0m\n",
      "\u001b[32m[I 2022-07-06 01:31:25,288]\u001b[0m Trial 6 finished with value: 97.22119782388629 and parameters: {'learning_rate': 0.00016536937182824412, 'n_estimators': 578, 'max_depth': 14, 'min_child_weight': 133, 'reg_alpha': 0.003077180271250686, 'reg_lambda': 0.09565499215943825}. Best is trial 2 with value: 76.48226178730314.\u001b[0m\n",
      "\u001b[32m[I 2022-07-06 01:31:28,388]\u001b[0m Trial 7 finished with value: 98.0709306394016 and parameters: {'learning_rate': 1.3726318898045866e-05, 'n_estimators': 4556, 'max_depth': 10, 'min_child_weight': 199, 'reg_alpha': 0.017654048052495083, 'reg_lambda': 0.12030178871154672}. Best is trial 2 with value: 76.48226178730314.\u001b[0m\n",
      "\u001b[32m[I 2022-07-06 01:31:28,979]\u001b[0m Trial 8 finished with value: 85.97889088026727 and parameters: {'learning_rate': 0.0015375920235481753, 'n_estimators': 1005, 'max_depth': 16, 'min_child_weight': 233, 'reg_alpha': 5.727904470799623, 'reg_lambda': 3.7958531426706403}. Best is trial 2 with value: 76.48226178730314.\u001b[0m\n",
      "\u001b[32m[I 2022-07-06 01:31:34,621]\u001b[0m Trial 9 finished with value: 77.70981576160871 and parameters: {'learning_rate': 0.002463768595899745, 'n_estimators': 4618, 'max_depth': 8, 'min_child_weight': 59, 'reg_alpha': 0.0015167330688076208, 'reg_lambda': 0.02001342062287998}. Best is trial 2 with value: 76.48226178730314.\u001b[0m\n",
      "\u001b[32m[I 2022-07-06 01:31:38,361]\u001b[0m Trial 10 finished with value: 71.65877557970182 and parameters: {'learning_rate': 0.0816552845050913, 'n_estimators': 2419, 'max_depth': 11, 'min_child_weight': 6, 'reg_alpha': 0.2651471074919484, 'reg_lambda': 0.5767509177705773}. Best is trial 10 with value: 71.65877557970182.\u001b[0m\n",
      "\u001b[32m[I 2022-07-06 01:31:42,074]\u001b[0m Trial 11 finished with value: 71.4076828159998 and parameters: {'learning_rate': 0.08908472316730853, 'n_estimators': 2477, 'max_depth': 11, 'min_child_weight': 2, 'reg_alpha': 0.38226021752753925, 'reg_lambda': 0.6146439247862426}. Best is trial 11 with value: 71.4076828159998.\u001b[0m\n",
      "\u001b[32m[I 2022-07-06 01:31:46,233]\u001b[0m Trial 12 finished with value: 71.45090158382001 and parameters: {'learning_rate': 0.07885330200396344, 'n_estimators': 2725, 'max_depth': 11, 'min_child_weight': 4, 'reg_alpha': 0.4368193151568317, 'reg_lambda': 0.6226279276154982}. Best is trial 11 with value: 71.4076828159998.\u001b[0m\n",
      "\u001b[32m[I 2022-07-06 01:31:48,557]\u001b[0m Trial 13 finished with value: 75.9062649231823 and parameters: {'learning_rate': 0.0647820688681974, 'n_estimators': 3195, 'max_depth': 11, 'min_child_weight': 104, 'reg_alpha': 1.2208338797645115, 'reg_lambda': 0.7233530985991307}. Best is trial 11 with value: 71.4076828159998.\u001b[0m\n",
      "\u001b[32m[I 2022-07-06 01:31:51,851]\u001b[0m Trial 14 finished with value: 74.73207983230415 and parameters: {'learning_rate': 0.012237594247191326, 'n_estimators': 2309, 'max_depth': 11, 'min_child_weight': 6, 'reg_alpha': 1.5324057329595444, 'reg_lambda': 0.4666405141301829}. Best is trial 11 with value: 71.4076828159998.\u001b[0m\n",
      "\u001b[32m[I 2022-07-06 01:31:54,691]\u001b[0m Trial 15 finished with value: 76.87243434097788 and parameters: {'learning_rate': 0.013476132278927883, 'n_estimators': 3361, 'max_depth': 12, 'min_child_weight': 89, 'reg_alpha': 0.09735125945191658, 'reg_lambda': 1.9805459526005416}. Best is trial 11 with value: 71.4076828159998.\u001b[0m\n",
      "\u001b[32m[I 2022-07-06 01:31:57,294]\u001b[0m Trial 16 finished with value: 73.80885156604403 and parameters: {'learning_rate': 0.03342969774224923, 'n_estimators': 1759, 'max_depth': 10, 'min_child_weight': 1, 'reg_alpha': 0.7296800174548433, 'reg_lambda': 0.279785918221123}. Best is trial 11 with value: 71.4076828159998.\u001b[0m\n",
      "\u001b[32m[I 2022-07-06 01:32:01,892]\u001b[0m Trial 17 finished with value: 75.88184379141862 and parameters: {'learning_rate': 0.007276659337528992, 'n_estimators': 3185, 'max_depth': 12, 'min_child_weight': 36, 'reg_alpha': 0.06688931104139441, 'reg_lambda': 1.508625542422029}. Best is trial 11 with value: 71.4076828159998.\u001b[0m\n",
      "\u001b[32m[I 2022-07-06 01:32:03,483]\u001b[0m Trial 18 finished with value: 96.00912151603022 and parameters: {'learning_rate': 7.506433978397403e-05, 'n_estimators': 1939, 'max_depth': 16, 'min_child_weight': 92, 'reg_alpha': 0.4810393128035834, 'reg_lambda': 0.037499966167649695}. Best is trial 11 with value: 71.4076828159998.\u001b[0m\n",
      "\u001b[32m[I 2022-07-06 01:32:05,363]\u001b[0m Trial 19 finished with value: 76.77103271511292 and parameters: {'learning_rate': 0.09030786162553335, 'n_estimators': 2807, 'max_depth': 10, 'min_child_weight': 131, 'reg_alpha': 2.30223030783784, 'reg_lambda': 6.126602526262587}. Best is trial 11 with value: 71.4076828159998.\u001b[0m\n",
      "\u001b[32m[I 2022-07-06 01:32:10,949]\u001b[0m Trial 20 finished with value: 75.48268404349969 and parameters: {'learning_rate': 0.005727799089312466, 'n_estimators': 3713, 'max_depth': 13, 'min_child_weight': 30, 'reg_alpha': 0.05556392706432142, 'reg_lambda': 0.2211321372379942}. Best is trial 11 with value: 71.4076828159998.\u001b[0m\n",
      "\u001b[32m[I 2022-07-06 01:32:14,831]\u001b[0m Trial 21 finished with value: 72.79583762252544 and parameters: {'learning_rate': 0.04390566597643961, 'n_estimators': 2504, 'max_depth': 11, 'min_child_weight': 7, 'reg_alpha': 0.19713233678624403, 'reg_lambda': 0.8047799122008109}. Best is trial 11 with value: 71.4076828159998.\u001b[0m\n",
      "\u001b[32m[I 2022-07-06 01:32:17,411]\u001b[0m Trial 22 finished with value: 74.67870550139745 and parameters: {'learning_rate': 0.09933141398742572, 'n_estimators': 2387, 'max_depth': 11, 'min_child_weight': 73, 'reg_alpha': 0.2809342989545408, 'reg_lambda': 0.41941681147583615}. Best is trial 11 with value: 71.4076828159998.\u001b[0m\n",
      "\u001b[32m[I 2022-07-06 01:32:20,404]\u001b[0m Trial 23 finished with value: 74.87687181009986 and parameters: {'learning_rate': 0.024773218035716565, 'n_estimators': 2085, 'max_depth': 12, 'min_child_weight': 28, 'reg_alpha': 0.5077408028610422, 'reg_lambda': 0.9314598923823918}. Best is trial 11 with value: 71.4076828159998.\u001b[0m\n",
      "\u001b[32m[I 2022-07-06 01:32:24,031]\u001b[0m Trial 24 finished with value: 72.7685509055281 and parameters: {'learning_rate': 0.044636145969051896, 'n_estimators': 2834, 'max_depth': 9, 'min_child_weight': 19, 'reg_alpha': 3.2092601977965898, 'reg_lambda': 2.9710367033299216}. Best is trial 11 with value: 71.4076828159998.\u001b[0m\n",
      "\u001b[32m[I 2022-07-06 01:32:27,249]\u001b[0m Trial 25 finished with value: 76.92446357661666 and parameters: {'learning_rate': 0.007746245538301296, 'n_estimators': 2786, 'max_depth': 10, 'min_child_weight': 69, 'reg_alpha': 0.04136899942732345, 'reg_lambda': 0.06807412558779614}. Best is trial 11 with value: 71.4076828159998.\u001b[0m\n"
     ]
    },
    {
     "name": "stderr",
     "output_type": "stream",
     "text": [
      "\u001b[32m[I 2022-07-06 01:32:27,456]\u001b[0m Trial 26 finished with value: 79.77226580202606 and parameters: {'learning_rate': 0.018308588617871217, 'n_estimators': 156, 'max_depth': 12, 'min_child_weight': 47, 'reg_alpha': 0.14312833192746546, 'reg_lambda': 0.2286862657227274}. Best is trial 11 with value: 71.4076828159998.\u001b[0m\n",
      "\u001b[32m[I 2022-07-06 01:32:29,624]\u001b[0m Trial 27 finished with value: 73.39658552286414 and parameters: {'learning_rate': 0.052598230323601745, 'n_estimators': 1445, 'max_depth': 11, 'min_child_weight': 1, 'reg_alpha': 0.8653055264440151, 'reg_lambda': 0.014089463646131955}. Best is trial 11 with value: 71.4076828159998.\u001b[0m\n",
      "\u001b[32m[I 2022-07-06 01:32:30,974]\u001b[0m Trial 28 finished with value: 89.99631315043085 and parameters: {'learning_rate': 0.004316771866635478, 'n_estimators': 3618, 'max_depth': 14, 'min_child_weight': 297, 'reg_alpha': 0.37914903969895764, 'reg_lambda': 0.5146530724904312}. Best is trial 11 with value: 71.4076828159998.\u001b[0m\n",
      "\u001b[32m[I 2022-07-06 01:32:34,500]\u001b[0m Trial 29 finished with value: 76.46537721477276 and parameters: {'learning_rate': 0.03268692730049259, 'n_estimators': 4988, 'max_depth': 15, 'min_child_weight': 113, 'reg_alpha': 0.12825624191428592, 'reg_lambda': 1.214062314871481}. Best is trial 11 with value: 71.4076828159998.\u001b[0m\n",
      "\u001b[32m[I 2022-07-06 01:32:35,405]\u001b[0m Trial 30 finished with value: 86.69712325587315 and parameters: {'learning_rate': 0.09935138101942616, 'n_estimators': 2111, 'max_depth': 12, 'min_child_weight': 263, 'reg_alpha': 1.816807700751957, 'reg_lambda': 0.009419764524068463}. Best is trial 11 with value: 71.4076828159998.\u001b[0m\n",
      "\u001b[32m[I 2022-07-06 01:32:39,043]\u001b[0m Trial 31 finished with value: 72.50285217948924 and parameters: {'learning_rate': 0.0548300407915934, 'n_estimators': 2764, 'max_depth': 9, 'min_child_weight': 19, 'reg_alpha': 2.5840715070158016, 'reg_lambda': 4.438566958330814}. Best is trial 11 with value: 71.4076828159998.\u001b[0m\n",
      "\u001b[32m[I 2022-07-06 01:32:42,762]\u001b[0m Trial 32 finished with value: 72.52183696827863 and parameters: {'learning_rate': 0.05748800338994204, 'n_estimators': 2956, 'max_depth': 9, 'min_child_weight': 17, 'reg_alpha': 4.1152293469584444, 'reg_lambda': 8.025639931932464}. Best is trial 11 with value: 71.4076828159998.\u001b[0m\n",
      "\u001b[32m[I 2022-07-06 01:32:46,620]\u001b[0m Trial 33 finished with value: 75.21230098699648 and parameters: {'learning_rate': 0.014441682160403056, 'n_estimators': 2570, 'max_depth': 10, 'min_child_weight': 29, 'reg_alpha': 0.6965240657644645, 'reg_lambda': 3.6594955905869986}. Best is trial 11 with value: 71.4076828159998.\u001b[0m\n",
      "\u001b[32m[I 2022-07-06 01:32:48,652]\u001b[0m Trial 34 finished with value: 75.77486189886238 and parameters: {'learning_rate': 0.027552652666663065, 'n_estimators': 1660, 'max_depth': 13, 'min_child_weight': 54, 'reg_alpha': 1.2601734392482093, 'reg_lambda': 2.5819155231182456}. Best is trial 11 with value: 71.4076828159998.\u001b[0m\n",
      "\u001b[32m[I 2022-07-06 01:32:50,064]\u001b[0m Trial 35 finished with value: 97.88648507997073 and parameters: {'learning_rate': 3.206939430527022e-05, 'n_estimators': 2221, 'max_depth': 8, 'min_child_weight': 168, 'reg_alpha': 0.2683417712151296, 'reg_lambda': 5.799474547474086}. Best is trial 11 with value: 71.4076828159998.\u001b[0m\n",
      "\u001b[32m[I 2022-07-06 01:32:54,049]\u001b[0m Trial 36 finished with value: 74.07816076398751 and parameters: {'learning_rate': 0.06927101156060918, 'n_estimators': 3879, 'max_depth': 9, 'min_child_weight': 43, 'reg_alpha': 9.361178891453482, 'reg_lambda': 0.1755119960218703}. Best is trial 11 with value: 71.4076828159998.\u001b[0m\n",
      "\u001b[32m[I 2022-07-06 01:32:58,891]\u001b[0m Trial 37 finished with value: 83.60846783205076 and parameters: {'learning_rate': 0.00027494376052367023, 'n_estimators': 4175, 'max_depth': 11, 'min_child_weight': 70, 'reg_alpha': 0.03826916480572862, 'reg_lambda': 0.06699742255362617}. Best is trial 11 with value: 71.4076828159998.\u001b[0m\n",
      "\u001b[32m[I 2022-07-06 01:33:03,950]\u001b[0m Trial 38 finished with value: 73.21069211553481 and parameters: {'learning_rate': 0.024304245972240898, 'n_estimators': 3430, 'max_depth': 9, 'min_child_weight': 15, 'reg_alpha': 0.010580672083803382, 'reg_lambda': 0.0016279713228651595}. Best is trial 11 with value: 71.4076828159998.\u001b[0m\n",
      "\u001b[32m[I 2022-07-06 01:33:05,791]\u001b[0m Trial 39 finished with value: 75.64768288128799 and parameters: {'learning_rate': 0.010626348574692343, 'n_estimators': 1347, 'max_depth': 10, 'min_child_weight': 25, 'reg_alpha': 2.906058482341779, 'reg_lambda': 9.529029928425576}. Best is trial 11 with value: 71.4076828159998.\u001b[0m\n",
      "\u001b[32m[I 2022-07-06 01:33:07,372]\u001b[0m Trial 40 finished with value: 78.3692865256029 and parameters: {'learning_rate': 0.039924630869479664, 'n_estimators': 2668, 'max_depth': 13, 'min_child_weight': 195, 'reg_alpha': 0.1785944065166416, 'reg_lambda': 0.392518801658749}. Best is trial 11 with value: 71.4076828159998.\u001b[0m\n",
      "\u001b[32m[I 2022-07-06 01:33:11,259]\u001b[0m Trial 41 finished with value: 72.40848571979814 and parameters: {'learning_rate': 0.0527138150218115, 'n_estimators': 3050, 'max_depth': 9, 'min_child_weight': 17, 'reg_alpha': 4.043714246090263, 'reg_lambda': 5.1013118646780855}. Best is trial 11 with value: 71.4076828159998.\u001b[0m\n",
      "\u001b[32m[I 2022-07-06 01:33:14,783]\u001b[0m Trial 42 finished with value: 74.2816627285657 and parameters: {'learning_rate': 0.06478407974169618, 'n_estimators': 3134, 'max_depth': 8, 'min_child_weight': 42, 'reg_alpha': 4.728262450610083, 'reg_lambda': 4.558229134232727}. Best is trial 11 with value: 71.4076828159998.\u001b[0m\n",
      "\u001b[32m[I 2022-07-06 01:33:18,780]\u001b[0m Trial 43 finished with value: 73.71429388006611 and parameters: {'learning_rate': 0.0212146446018543, 'n_estimators': 3019, 'max_depth': 9, 'min_child_weight': 17, 'reg_alpha': 0.9892015275943385, 'reg_lambda': 2.092495272420612}. Best is trial 11 with value: 71.4076828159998.\u001b[0m\n",
      "\u001b[32m[I 2022-07-06 01:33:21,373]\u001b[0m Trial 44 finished with value: 80.98777556682329 and parameters: {'learning_rate': 0.0008620207224484243, 'n_estimators': 2453, 'max_depth': 10, 'min_child_weight': 60, 'reg_alpha': 6.349427318817972, 'reg_lambda': 1.1726370286662429}. Best is trial 11 with value: 71.4076828159998.\u001b[0m\n",
      "\u001b[32m[I 2022-07-06 01:33:24,321]\u001b[0m Trial 45 finished with value: 72.28423707312274 and parameters: {'learning_rate': 0.07481379086286231, 'n_estimators': 1918, 'max_depth': 11, 'min_child_weight': 1, 'reg_alpha': 0.35169301267387076, 'reg_lambda': 0.6397385447714474}. Best is trial 11 with value: 71.4076828159998.\u001b[0m\n",
      "\u001b[32m[I 2022-07-06 01:33:27,362]\u001b[0m Trial 46 finished with value: 71.79233248155273 and parameters: {'learning_rate': 0.09479974734520187, 'n_estimators': 1880, 'max_depth': 11, 'min_child_weight': 6, 'reg_alpha': 0.08426777833034811, 'reg_lambda': 0.6837765676571914}. Best is trial 11 with value: 71.4076828159998.\u001b[0m\n",
      "\u001b[32m[I 2022-07-06 01:33:30,322]\u001b[0m Trial 47 finished with value: 71.77809508582763 and parameters: {'learning_rate': 0.09687254191164085, 'n_estimators': 1861, 'max_depth': 11, 'min_child_weight': 2, 'reg_alpha': 0.0909757948979645, 'reg_lambda': 0.3255798717582416}. Best is trial 11 with value: 71.4076828159998.\u001b[0m\n",
      "\u001b[32m[I 2022-07-06 01:33:31,514]\u001b[0m Trial 48 finished with value: 80.95566850746235 and parameters: {'learning_rate': 0.0018467261911894119, 'n_estimators': 1166, 'max_depth': 11, 'min_child_weight': 81, 'reg_alpha': 0.021083476699559175, 'reg_lambda': 0.1387275114860214}. Best is trial 11 with value: 71.4076828159998.\u001b[0m\n",
      "\u001b[32m[I 2022-07-06 01:33:32,383]\u001b[0m Trial 49 finished with value: 83.73596420301863 and parameters: {'learning_rate': 0.034359161660392636, 'n_estimators': 1784, 'max_depth': 12, 'min_child_weight': 234, 'reg_alpha': 0.08820427592634827, 'reg_lambda': 0.32856587636738965}. Best is trial 11 with value: 71.4076828159998.\u001b[0m\n"
     ]
    },
    {
     "name": "stdout",
     "output_type": "stream",
     "text": [
      "Best trial: score 71.4076828159998, \n",
      "params {'learning_rate': 0.08908472316730853, 'n_estimators': 2477, 'max_depth': 11, 'min_child_weight': 2, 'reg_alpha': 0.38226021752753925, 'reg_lambda': 0.6146439247862426}\n"
     ]
    }
   ],
   "source": [
    "import optuna\n",
    "# from optuna.integration.lightgbm import LightGBMTuner as LGBMTuner\n",
    "from optuna import Trial, visualization\n",
    "from optuna.samplers import TPESampler\n",
    "from sklearn.metrics import mean_absolute_error as MAE\n",
    "\n",
    "def optuna_LGBM(trial: Trial, X_train_, y_train_, X_test_):\n",
    "    parameters = {'objective': 'regression',\n",
    "                  \"random_state\": 42,\n",
    "                  'verbose': -1,\n",
    "                  'metric': 'mae',\n",
    "                  \"silent\": -1,\n",
    "                  'learning_rate': trial.suggest_float('learning_rate', 1e-5, 1e-1, log = True),\n",
    "                  'n_estimators': trial.suggest_int('n_estimators', 100, 5000),\n",
    "                 'max_depth': trial.suggest_int('max_depth', 8, 16),\n",
    "                 'min_child_weight': trial.suggest_int('min_child_weight', 1, 300),\n",
    "                 'reg_alpha': trial.suggest_loguniform('reg_alpha', 1e-3, 10.0),\n",
    "                 'reg_lambda': trial.suggest_loguniform('reg_lambda', 1e-3, 10.0)}\n",
    "\n",
    "#     parameters = {\n",
    "#         'objective': 'regression',\n",
    "#         'verbose': -1,\n",
    "#         'metric': 'mse', \n",
    "#         'num_leaves': trial.suggest_int('num_leaves', 2, 1024, step=1, log=True), \n",
    "#         'colsample_bytree': trial.suggest_uniform('colsample_bytree', 0.7, 1.0),\n",
    "#         'reg_alpha': trial.suggest_uniform('reg_alpha', 0.0, 1.0),\n",
    "#         'reg_lambda': trial.suggest_uniform('reg_lambda', 0.0, 10.0),\n",
    "#         'max_depth': trial.suggest_int('max_depth',3, 15),\n",
    "#         'learning_rate': trial.suggest_loguniform(\"learning_rate\", 1e-8, 1e-2),\n",
    "#         'n_estimators': trial.suggest_int('n_estimators', 100, 3000),\n",
    "#         'min_child_samples': trial.suggest_int('min_child_samples', 5, 100),\n",
    "#         'subsample': trial.suggest_loguniform('subsample', 0.4, 1),\n",
    "#     }\n",
    "    user_seed = 42\n",
    "    random.seed(user_seed)\n",
    "#     LGBM = lgbm.LGBMRegressor() # 이런식으로 하면 자꾸 에러남.\n",
    "\n",
    "    optuna_model = lgbm.LGBMRegressor(**parameters)\n",
    "    lgb_model = optuna_model.fit(X_train_, y_train_)\n",
    "    score = MAE(y_train_, lgb_model.predict(X_train_))\n",
    "    \n",
    "    return score\n",
    "\n",
    "\n",
    "X_train_중식 = train[['요일', '현본사소속재택근무자수', '중식메뉴']]\n",
    "X_train_석식 = train[['요일', '현본사소속재택근무자수', '석식메뉴']]\n",
    "\n",
    "y_train_중식 = train[['중식계']]\n",
    "y_train_석식 = train[['석식계']]\n",
    "\n",
    "X_test_중식 = test[['요일', '현본사소속재택근무자수', '중식메뉴']]\n",
    "X_test_석식 = test[['요일', '현본사소속재택근무자수', '석식메뉴']]\n",
    "\n",
    "\n",
    "study_중식 = optuna.create_study(direction = 'minimize', sampler = TPESampler(seed = 42))\n",
    "study_석식 = optuna.create_study(direction = 'minimize', sampler = TPESampler(seed = 42))\n",
    "\n",
    "\n",
    "study_중식.optimize(lambda trial : optuna_LGBM(trial, X_train_중식, y_train_중식, X_test_중식), n_trials = 50)\n",
    "best_parameters_중식 = study_중식.best_trial.params\n",
    "print(f'중식 Best trial: score {study_중식.best_trial.value}, \\nparams {best_parameters_중식}')\n",
    "\n",
    "study_석식.optimize(lambda trial : optuna_LGBM(trial, X_train_석식, y_train_석식, X_test_석식), n_trials = 50)\n",
    "best_parameters_석식 = study_석식.best_trial.params\n",
    "print(f'석식 Best trial: score {study_석식.best_trial.value}, \\nparams {best_parameters_석식}')\n",
    "\n",
    "# [scoring method name](https://scikit-learn.org/stable/modules/model_evaluation.html#scoring-parameter)"
   ]
  },
  {
   "cell_type": "markdown",
   "id": "a183aee3",
   "metadata": {},
   "source": [
    "# model fitting with tuned hyperparameters\n",
    "중식 Best trial: score 86.22319136792808, <br>\n",
    "params {'learning_rate': 0.08908472316730853, 'n_estimators': 2477, 'max_depth': 11, 'min_child_weight': 2, 'reg_alpha': 0.38226021752753925, 'reg_lambda': 0.6146439247862426} <br>\n",
    "\n",
    "석식 Best trial: score 71.4076828159998, <br>\n",
    "params {'learning_rate': 0.08908472316730853, 'n_estimators': 2477, 'max_depth': 11, 'min_child_weight': 2, 'reg_alpha': 0.38226021752753925, 'reg_lambda': 0.6146439247862426} <br>"
   ]
  },
  {
   "cell_type": "code",
   "execution_count": 17,
   "id": "8570ccd3",
   "metadata": {},
   "outputs": [],
   "source": [
    "X_train_중식 = train[['요일', '현본사소속재택근무자수', '중식메뉴']]\n",
    "X_train_석식 = train[['요일', '현본사소속재택근무자수', '석식메뉴']]\n",
    "y_train_중식 = train[['중식계']]\n",
    "y_train_석식 = train[['석식계']]\n",
    "\n",
    "X_test_중식 = test[['요일', '현본사소속재택근무자수', '중식메뉴']]\n",
    "X_test_석식 = test[['요일', '현본사소속재택근무자수', '석식메뉴']]\n",
    "\n",
    "user_seed = 42\n",
    "random.seed(user_seed)\n",
    "LGBM = lgbm.LGBMRegressor(random_state = user_seed, learning_rate= 0.08908472316730853, n_estimators= 2477, max_depth= 11, min_child_weight= 2, reg_alpha= 0.38226021752753925, reg_lambda= 0.6146439247862426)\n",
    "\n",
    "model_중식 = LGBM.fit(X_train_중식, y_train_중식) # fit에는 하이퍼파리미터 따로 적용 못하나봄. 계속 여기다 hp 집어넣을 때마다 에러남.\n",
    "y_pred_test_중식 = model_중식.predict(X_test_중식, num_iteration = LGBM.best_iteration_)\n",
    "\n",
    "model_석식 = LGBM.fit(X_train_석식, y_train_석식)\n",
    "y_pred_test_석식 = model_석식.predict(X_test_석식, num_iteration = LGBM.best_iteration_)\n"
   ]
  },
  {
   "cell_type": "code",
   "execution_count": 18,
   "id": "bbbaf326",
   "metadata": {},
   "outputs": [
    {
     "data": {
      "text/html": [
       "<div>\n",
       "<style scoped>\n",
       "    .dataframe tbody tr th:only-of-type {\n",
       "        vertical-align: middle;\n",
       "    }\n",
       "\n",
       "    .dataframe tbody tr th {\n",
       "        vertical-align: top;\n",
       "    }\n",
       "\n",
       "    .dataframe thead th {\n",
       "        text-align: right;\n",
       "    }\n",
       "</style>\n",
       "<table border=\"1\" class=\"dataframe\">\n",
       "  <thead>\n",
       "    <tr style=\"text-align: right;\">\n",
       "      <th></th>\n",
       "      <th>0</th>\n",
       "    </tr>\n",
       "  </thead>\n",
       "  <tbody>\n",
       "    <tr>\n",
       "      <th>0</th>\n",
       "      <td>1115.206060</td>\n",
       "    </tr>\n",
       "    <tr>\n",
       "      <th>1</th>\n",
       "      <td>892.774826</td>\n",
       "    </tr>\n",
       "    <tr>\n",
       "      <th>2</th>\n",
       "      <td>736.846166</td>\n",
       "    </tr>\n",
       "    <tr>\n",
       "      <th>3</th>\n",
       "      <td>1136.199742</td>\n",
       "    </tr>\n",
       "    <tr>\n",
       "      <th>4</th>\n",
       "      <td>913.609199</td>\n",
       "    </tr>\n",
       "  </tbody>\n",
       "</table>\n",
       "</div>"
      ],
      "text/plain": [
       "             0\n",
       "0  1115.206060\n",
       "1   892.774826\n",
       "2   736.846166\n",
       "3  1136.199742\n",
       "4   913.609199"
      ]
     },
     "execution_count": 18,
     "metadata": {},
     "output_type": "execute_result"
    }
   ],
   "source": [
    "중식계 = pd.DataFrame(y_pred_test_중식)\n",
    "중식계.head()"
   ]
  },
  {
   "cell_type": "code",
   "execution_count": 19,
   "id": "ddbdc518",
   "metadata": {},
   "outputs": [
    {
     "data": {
      "text/html": [
       "<div>\n",
       "<style scoped>\n",
       "    .dataframe tbody tr th:only-of-type {\n",
       "        vertical-align: middle;\n",
       "    }\n",
       "\n",
       "    .dataframe tbody tr th {\n",
       "        vertical-align: top;\n",
       "    }\n",
       "\n",
       "    .dataframe thead th {\n",
       "        text-align: right;\n",
       "    }\n",
       "</style>\n",
       "<table border=\"1\" class=\"dataframe\">\n",
       "  <thead>\n",
       "    <tr style=\"text-align: right;\">\n",
       "      <th></th>\n",
       "      <th>0</th>\n",
       "    </tr>\n",
       "  </thead>\n",
       "  <tbody>\n",
       "    <tr>\n",
       "      <th>0</th>\n",
       "      <td>483.365236</td>\n",
       "    </tr>\n",
       "    <tr>\n",
       "      <th>1</th>\n",
       "      <td>460.136951</td>\n",
       "    </tr>\n",
       "    <tr>\n",
       "      <th>2</th>\n",
       "      <td>293.099286</td>\n",
       "    </tr>\n",
       "    <tr>\n",
       "      <th>3</th>\n",
       "      <td>530.538064</td>\n",
       "    </tr>\n",
       "    <tr>\n",
       "      <th>4</th>\n",
       "      <td>554.303601</td>\n",
       "    </tr>\n",
       "  </tbody>\n",
       "</table>\n",
       "</div>"
      ],
      "text/plain": [
       "            0\n",
       "0  483.365236\n",
       "1  460.136951\n",
       "2  293.099286\n",
       "3  530.538064\n",
       "4  554.303601"
      ]
     },
     "execution_count": 19,
     "metadata": {},
     "output_type": "execute_result"
    }
   ],
   "source": [
    "석식계 = pd.DataFrame(y_pred_test_석식)\n",
    "석식계.head()"
   ]
  },
  {
   "cell_type": "code",
   "execution_count": 20,
   "id": "750cc1cf",
   "metadata": {},
   "outputs": [
    {
     "data": {
      "text/html": [
       "<div>\n",
       "<style scoped>\n",
       "    .dataframe tbody tr th:only-of-type {\n",
       "        vertical-align: middle;\n",
       "    }\n",
       "\n",
       "    .dataframe tbody tr th {\n",
       "        vertical-align: top;\n",
       "    }\n",
       "\n",
       "    .dataframe thead th {\n",
       "        text-align: right;\n",
       "    }\n",
       "</style>\n",
       "<table border=\"1\" class=\"dataframe\">\n",
       "  <thead>\n",
       "    <tr style=\"text-align: right;\">\n",
       "      <th></th>\n",
       "      <th>일자</th>\n",
       "      <th>0</th>\n",
       "      <th>0</th>\n",
       "    </tr>\n",
       "  </thead>\n",
       "  <tbody>\n",
       "    <tr>\n",
       "      <th>0</th>\n",
       "      <td>2021-01-27</td>\n",
       "      <td>1115.206060</td>\n",
       "      <td>483.365236</td>\n",
       "    </tr>\n",
       "    <tr>\n",
       "      <th>1</th>\n",
       "      <td>2021-01-28</td>\n",
       "      <td>892.774826</td>\n",
       "      <td>460.136951</td>\n",
       "    </tr>\n",
       "    <tr>\n",
       "      <th>2</th>\n",
       "      <td>2021-01-29</td>\n",
       "      <td>736.846166</td>\n",
       "      <td>293.099286</td>\n",
       "    </tr>\n",
       "    <tr>\n",
       "      <th>3</th>\n",
       "      <td>2021-02-01</td>\n",
       "      <td>1136.199742</td>\n",
       "      <td>530.538064</td>\n",
       "    </tr>\n",
       "    <tr>\n",
       "      <th>4</th>\n",
       "      <td>2021-02-02</td>\n",
       "      <td>913.609199</td>\n",
       "      <td>554.303601</td>\n",
       "    </tr>\n",
       "  </tbody>\n",
       "</table>\n",
       "</div>"
      ],
      "text/plain": [
       "           일자            0           0\n",
       "0  2021-01-27  1115.206060  483.365236\n",
       "1  2021-01-28   892.774826  460.136951\n",
       "2  2021-01-29   736.846166  293.099286\n",
       "3  2021-02-01  1136.199742  530.538064\n",
       "4  2021-02-02   913.609199  554.303601"
      ]
     },
     "execution_count": 20,
     "metadata": {},
     "output_type": "execute_result"
    }
   ],
   "source": [
    "findata = pd.concat([test['일자'], 중식계, 석식계], axis = 1)\n",
    "findata.head()"
   ]
  },
  {
   "cell_type": "code",
   "execution_count": 21,
   "id": "c77d04b4",
   "metadata": {},
   "outputs": [
    {
     "data": {
      "text/html": [
       "<div>\n",
       "<style scoped>\n",
       "    .dataframe tbody tr th:only-of-type {\n",
       "        vertical-align: middle;\n",
       "    }\n",
       "\n",
       "    .dataframe tbody tr th {\n",
       "        vertical-align: top;\n",
       "    }\n",
       "\n",
       "    .dataframe thead th {\n",
       "        text-align: right;\n",
       "    }\n",
       "</style>\n",
       "<table border=\"1\" class=\"dataframe\">\n",
       "  <thead>\n",
       "    <tr style=\"text-align: right;\">\n",
       "      <th></th>\n",
       "      <th>일자</th>\n",
       "      <th>중식계</th>\n",
       "      <th>석식계</th>\n",
       "    </tr>\n",
       "  </thead>\n",
       "  <tbody>\n",
       "    <tr>\n",
       "      <th>0</th>\n",
       "      <td>2021-01-27</td>\n",
       "      <td>1115.206060</td>\n",
       "      <td>483.365236</td>\n",
       "    </tr>\n",
       "    <tr>\n",
       "      <th>1</th>\n",
       "      <td>2021-01-28</td>\n",
       "      <td>892.774826</td>\n",
       "      <td>460.136951</td>\n",
       "    </tr>\n",
       "    <tr>\n",
       "      <th>2</th>\n",
       "      <td>2021-01-29</td>\n",
       "      <td>736.846166</td>\n",
       "      <td>293.099286</td>\n",
       "    </tr>\n",
       "    <tr>\n",
       "      <th>3</th>\n",
       "      <td>2021-02-01</td>\n",
       "      <td>1136.199742</td>\n",
       "      <td>530.538064</td>\n",
       "    </tr>\n",
       "    <tr>\n",
       "      <th>4</th>\n",
       "      <td>2021-02-02</td>\n",
       "      <td>913.609199</td>\n",
       "      <td>554.303601</td>\n",
       "    </tr>\n",
       "  </tbody>\n",
       "</table>\n",
       "</div>"
      ],
      "text/plain": [
       "           일자          중식계         석식계\n",
       "0  2021-01-27  1115.206060  483.365236\n",
       "1  2021-01-28   892.774826  460.136951\n",
       "2  2021-01-29   736.846166  293.099286\n",
       "3  2021-02-01  1136.199742  530.538064\n",
       "4  2021-02-02   913.609199  554.303601"
      ]
     },
     "execution_count": 21,
     "metadata": {},
     "output_type": "execute_result"
    }
   ],
   "source": [
    "findata.columns = ['일자', '중식계', '석식계']\n",
    "findata.head()"
   ]
  },
  {
   "cell_type": "code",
   "execution_count": 22,
   "id": "54f2055b",
   "metadata": {},
   "outputs": [],
   "source": [
    "findata.to_csv('7th optuna 요일, 재택자수, 중식메뉴, 석식메뉴.csv', index=False)"
   ]
  }
 ],
 "metadata": {
  "kernelspec": {
   "display_name": "Python 3",
   "language": "python",
   "name": "python3"
  },
  "language_info": {
   "codemirror_mode": {
    "name": "ipython",
    "version": 3
   },
   "file_extension": ".py",
   "mimetype": "text/x-python",
   "name": "python",
   "nbconvert_exporter": "python",
   "pygments_lexer": "ipython3",
   "version": "3.8.5"
  },
  "latex_envs": {
   "LaTeX_envs_menu_present": true,
   "autoclose": false,
   "autocomplete": true,
   "bibliofile": "biblio.bib",
   "cite_by": "apalike",
   "current_citInitial": 1,
   "eqLabelWithNumbers": true,
   "eqNumInitial": 1,
   "hotkeys": {
    "equation": "Ctrl-E",
    "itemize": "Ctrl-I"
   },
   "labels_anchors": false,
   "latex_user_defs": false,
   "report_style_numbering": false,
   "user_envs_cfg": false
  },
  "toc": {
   "base_numbering": 1,
   "nav_menu": {},
   "number_sections": true,
   "sideBar": true,
   "skip_h1_title": false,
   "title_cell": "Table of Contents",
   "title_sidebar": "Contents",
   "toc_cell": true,
   "toc_position": {
    "height": "calc(100% - 180px)",
    "left": "10px",
    "top": "150px",
    "width": "191.797px"
   },
   "toc_section_display": true,
   "toc_window_display": true
  }
 },
 "nbformat": 4,
 "nbformat_minor": 5
}

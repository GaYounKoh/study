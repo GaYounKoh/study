{
 "cells": [
  {
   "cell_type": "markdown",
   "metadata": {},
   "source": [
    "# 1️⃣  <span style = 'background-color: lightgreen ; color:black'>**library 및 data load**</span>"
   ]
  },
  {
   "cell_type": "code",
   "execution_count": 1,
   "metadata": {},
   "outputs": [],
   "source": [
    "# library load\n",
    "\n",
    "## 분석 툴\n",
    "import pandas as pd\n",
    "\n",
    "from IPython.core.interactiveshell import InteractiveShell\n",
    "InteractiveShell.ast_node_interactivity = 'all'\n",
    "\n",
    "## 시각화 툴\n",
    "import matplotlib as mpl\n",
    "import matplotlib.pyplot as plt\n",
    "\n",
    "import seaborn as sns\n",
    "\n",
    "##한글설정\n",
    "# [참고](https://itisik.tistory.com/114)\n",
    "import matplotlib.font_manager as fm\n",
    "\n",
    "font_dirs = ['/nanum', ]\n",
    "font_files = fm.findSystemFonts(fontpaths=font_dirs)\n",
    "\n",
    "for font_file in font_files:\n",
    "    fm.fontManager.addfont(font_file)\n",
    "    \n",
    "# 한글 출력을 위해서 폰트 옵션을 설정합니다.\n",
    "# \"axes.unicode_minus\" : 마이너스가 깨질 것을 방지\n",
    "\n",
    "sns.set(font=\"NanumBarunGothic\", \n",
    "        rc={\"axes.unicode_minus\":False},\n",
    "        style='darkgrid')\n",
    "\n",
    "import warnings\n",
    "warnings.filterwarnings(action='ignore')"
   ]
  },
  {
   "cell_type": "code",
   "execution_count": 2,
   "metadata": {},
   "outputs": [],
   "source": [
    "# data load\n",
    "train = pd.read_csv('data/train.csv') # 모델 학습 파일\n",
    "test = pd.read_csv('data/test.csv') # 모델 시험지 파일\n",
    "submission = pd.read_csv('data/submission.csv') #답안지 파일 ; 제출 파일 형식"
   ]
  },
  {
   "cell_type": "code",
   "execution_count": 5,
   "metadata": {},
   "outputs": [
    {
     "data": {
      "text/plain": [
       "'train cols 길이: 11'"
      ]
     },
     "execution_count": 5,
     "metadata": {},
     "output_type": "execute_result"
    },
    {
     "data": {
      "text/plain": [
       "'test cols 길이: 10'"
      ]
     },
     "execution_count": 5,
     "metadata": {},
     "output_type": "execute_result"
    },
    {
     "data": {
      "text/plain": [
       "'submission cols 길이: 2'"
      ]
     },
     "execution_count": 5,
     "metadata": {},
     "output_type": "execute_result"
    },
    {
     "data": {
      "text/plain": [
       "\"train data에는 있고 test data에는 없는 col: {'count'}\""
      ]
     },
     "execution_count": 5,
     "metadata": {},
     "output_type": "execute_result"
    }
   ],
   "source": [
    "tr_cols = train.columns.values\n",
    "te_cols = test.columns.values\n",
    "sub_cols = submission.columns.values\n",
    "\n",
    "f'train cols 길이: {len(tr_cols)}'\n",
    "f'test cols 길이: {len(te_cols)}'\n",
    "f'submission cols 길이: {len(sub_cols)}'\n",
    "\n",
    "f'train data에는 있고 test data에는 없는 col: {set(tr_cols) - set(te_cols)}'"
   ]
  },
  {
   "cell_type": "code",
   "execution_count": null,
   "metadata": {},
   "outputs": [],
   "source": []
  },
  {
   "cell_type": "markdown",
   "metadata": {},
   "source": [
    "# NaN 처리"
   ]
  },
  {
   "cell_type": "code",
   "execution_count": null,
   "metadata": {},
   "outputs": [
    {
     "data": {
      "text/plain": [
       "id                          0\n",
       "hour                        0\n",
       "hour_bef_temperature        2\n",
       "hour_bef_precipitation      2\n",
       "hour_bef_windspeed          9\n",
       "hour_bef_humidity           2\n",
       "hour_bef_visibility         2\n",
       "hour_bef_ozone             76\n",
       "hour_bef_pm10              90\n",
       "hour_bef_pm2.5            117\n",
       "count                       0\n",
       "dtype: int64"
      ]
     },
     "metadata": {},
     "output_type": "display_data"
    }
   ],
   "source": [
    "train.isnull().sum()"
   ]
  },
  {
   "cell_type": "code",
   "execution_count": 11,
   "metadata": {},
   "outputs": [
    {
     "data": {
      "text/html": [
       "<div>\n",
       "<style scoped>\n",
       "    .dataframe tbody tr th:only-of-type {\n",
       "        vertical-align: middle;\n",
       "    }\n",
       "\n",
       "    .dataframe tbody tr th {\n",
       "        vertical-align: top;\n",
       "    }\n",
       "\n",
       "    .dataframe thead th {\n",
       "        text-align: right;\n",
       "    }\n",
       "</style>\n",
       "<table border=\"1\" class=\"dataframe\">\n",
       "  <thead>\n",
       "    <tr style=\"text-align: right;\">\n",
       "      <th></th>\n",
       "      <th>id</th>\n",
       "      <th>hour</th>\n",
       "      <th>hour_bef_temperature</th>\n",
       "      <th>hour_bef_precipitation</th>\n",
       "      <th>hour_bef_windspeed</th>\n",
       "      <th>hour_bef_humidity</th>\n",
       "      <th>hour_bef_visibility</th>\n",
       "      <th>hour_bef_ozone</th>\n",
       "      <th>hour_bef_pm10</th>\n",
       "      <th>hour_bef_pm2.5</th>\n",
       "      <th>count</th>\n",
       "    </tr>\n",
       "  </thead>\n",
       "  <tbody>\n",
       "    <tr>\n",
       "      <th>934</th>\n",
       "      <td>1420</td>\n",
       "      <td>0</td>\n",
       "      <td>NaN</td>\n",
       "      <td>NaN</td>\n",
       "      <td>NaN</td>\n",
       "      <td>NaN</td>\n",
       "      <td>NaN</td>\n",
       "      <td>NaN</td>\n",
       "      <td>NaN</td>\n",
       "      <td>NaN</td>\n",
       "      <td>39.0</td>\n",
       "    </tr>\n",
       "    <tr>\n",
       "      <th>1035</th>\n",
       "      <td>1553</td>\n",
       "      <td>18</td>\n",
       "      <td>NaN</td>\n",
       "      <td>NaN</td>\n",
       "      <td>NaN</td>\n",
       "      <td>NaN</td>\n",
       "      <td>NaN</td>\n",
       "      <td>NaN</td>\n",
       "      <td>NaN</td>\n",
       "      <td>NaN</td>\n",
       "      <td>1.0</td>\n",
       "    </tr>\n",
       "  </tbody>\n",
       "</table>\n",
       "</div>"
      ],
      "text/plain": [
       "        id  hour  hour_bef_temperature  hour_bef_precipitation  \\\n",
       "934   1420     0                   NaN                     NaN   \n",
       "1035  1553    18                   NaN                     NaN   \n",
       "\n",
       "      hour_bef_windspeed  hour_bef_humidity  hour_bef_visibility  \\\n",
       "934                  NaN                NaN                  NaN   \n",
       "1035                 NaN                NaN                  NaN   \n",
       "\n",
       "      hour_bef_ozone  hour_bef_pm10  hour_bef_pm2.5  count  \n",
       "934              NaN            NaN             NaN   39.0  \n",
       "1035             NaN            NaN             NaN    1.0  "
      ]
     },
     "execution_count": 11,
     "metadata": {},
     "output_type": "execute_result"
    }
   ],
   "source": [
    "train[train['hour_bef_temperature'].isna()] # 사용할 열에 대한 na 있는 행 data확인"
   ]
  },
  {
   "cell_type": "code",
   "execution_count": 12,
   "metadata": {},
   "outputs": [
    {
     "data": {
      "text/plain": [
       "hour\n",
       "0     14.788136\n",
       "1     14.155738\n",
       "2     13.747541\n",
       "3     13.357377\n",
       "4     13.001639\n",
       "5     12.673770\n",
       "6     12.377049\n",
       "7     12.191803\n",
       "8     12.600000\n",
       "9     14.318033\n",
       "10    16.242623\n",
       "11    18.019672\n",
       "12    19.457377\n",
       "13    20.648333\n",
       "14    21.234426\n",
       "15    21.744262\n",
       "16    22.015000\n",
       "17    21.603333\n",
       "18    20.926667\n",
       "19    19.704918\n",
       "20    18.191803\n",
       "21    16.978333\n",
       "22    16.063934\n",
       "23    15.418033\n",
       "Name: hour_bef_temperature, dtype: float64"
      ]
     },
     "execution_count": 12,
     "metadata": {},
     "output_type": "execute_result"
    },
    {
     "data": {
      "text/plain": [
       "<AxesSubplot:xlabel='hour'>"
      ]
     },
     "execution_count": 12,
     "metadata": {},
     "output_type": "execute_result"
    },
    {
     "name": "stderr",
     "output_type": "stream",
     "text": [
      "findfont: Font family ['NanumBarunGothic'] not found. Falling back to DejaVu Sans.\n",
      "findfont: Font family ['NanumBarunGothic'] not found. Falling back to DejaVu Sans.\n"
     ]
    },
    {
     "data": {
      "image/png": "[encoded data removed]",
      "text/plain": [
       "<Figure size 432x288 with 1 Axes>"
      ]
     },
     "metadata": {},
     "output_type": "display_data"
    }
   ],
   "source": [
    "train.groupby('hour')['hour_bef_temperature'].mean()\n",
    "train.groupby('hour')['hour_bef_temperature'].mean().plot()"
   ]
  },
  {
   "cell_type": "code",
   "execution_count": 13,
   "metadata": {},
   "outputs": [],
   "source": [
    "train['hour_bef_temperature'].fillna({934: 14.788136, 1035: 20.926667}, inplace = True) # {index: 해당 위치에 넣어주고 싶은 값}\n",
    "# .fillna()덮어쓰기 안됨., 무조건 0으로 채울게 아니라 각 피쳐별 특징에 따라 채워넣기"
   ]
  },
  {
   "cell_type": "code",
   "execution_count": 14,
   "metadata": {},
   "outputs": [
    {
     "data": {
      "text/plain": [
       "<AxesSubplot:xlabel='hour'>"
      ]
     },
     "execution_count": 14,
     "metadata": {},
     "output_type": "execute_result"
    },
    {
     "data": {
      "image/png": "[encoded data removed]",
      "text/plain": [
       "<Figure size 432x288 with 1 Axes>"
      ]
     },
     "metadata": {},
     "output_type": "display_data"
    }
   ],
   "source": [
    "# train.head()\n",
    "train.groupby('hour')['hour_bef_windspeed'].mean().plot()\n",
    "win_gb = train.groupby('hour')['hour_bef_windspeed'].mean()"
   ]
  },
  {
   "cell_type": "code",
   "execution_count": 15,
   "metadata": {},
   "outputs": [
    {
     "data": {
      "text/html": [
       "<div>\n",
       "<style scoped>\n",
       "    .dataframe tbody tr th:only-of-type {\n",
       "        vertical-align: middle;\n",
       "    }\n",
       "\n",
       "    .dataframe tbody tr th {\n",
       "        vertical-align: top;\n",
       "    }\n",
       "\n",
       "    .dataframe thead th {\n",
       "        text-align: right;\n",
       "    }\n",
       "</style>\n",
       "<table border=\"1\" class=\"dataframe\">\n",
       "  <thead>\n",
       "    <tr style=\"text-align: right;\">\n",
       "      <th></th>\n",
       "      <th>id</th>\n",
       "      <th>hour</th>\n",
       "      <th>hour_bef_temperature</th>\n",
       "      <th>hour_bef_precipitation</th>\n",
       "      <th>hour_bef_windspeed</th>\n",
       "      <th>hour_bef_humidity</th>\n",
       "      <th>hour_bef_visibility</th>\n",
       "      <th>hour_bef_ozone</th>\n",
       "      <th>hour_bef_pm10</th>\n",
       "      <th>hour_bef_pm2.5</th>\n",
       "      <th>count</th>\n",
       "    </tr>\n",
       "  </thead>\n",
       "  <tbody>\n",
       "    <tr>\n",
       "      <th>18</th>\n",
       "      <td>33</td>\n",
       "      <td>13</td>\n",
       "      <td>22.600000</td>\n",
       "      <td>0.0</td>\n",
       "      <td>NaN</td>\n",
       "      <td>41.0</td>\n",
       "      <td>987.0</td>\n",
       "      <td>0.046</td>\n",
       "      <td>64.0</td>\n",
       "      <td>39.0</td>\n",
       "      <td>208.0</td>\n",
       "    </tr>\n",
       "    <tr>\n",
       "      <th>244</th>\n",
       "      <td>381</td>\n",
       "      <td>1</td>\n",
       "      <td>14.100000</td>\n",
       "      <td>0.0</td>\n",
       "      <td>NaN</td>\n",
       "      <td>55.0</td>\n",
       "      <td>1992.0</td>\n",
       "      <td>NaN</td>\n",
       "      <td>NaN</td>\n",
       "      <td>NaN</td>\n",
       "      <td>38.0</td>\n",
       "    </tr>\n",
       "    <tr>\n",
       "      <th>260</th>\n",
       "      <td>404</td>\n",
       "      <td>3</td>\n",
       "      <td>14.000000</td>\n",
       "      <td>0.0</td>\n",
       "      <td>NaN</td>\n",
       "      <td>50.0</td>\n",
       "      <td>2000.0</td>\n",
       "      <td>0.049</td>\n",
       "      <td>35.0</td>\n",
       "      <td>22.0</td>\n",
       "      <td>17.0</td>\n",
       "    </tr>\n",
       "    <tr>\n",
       "      <th>376</th>\n",
       "      <td>570</td>\n",
       "      <td>0</td>\n",
       "      <td>14.300000</td>\n",
       "      <td>0.0</td>\n",
       "      <td>NaN</td>\n",
       "      <td>49.0</td>\n",
       "      <td>2000.0</td>\n",
       "      <td>0.044</td>\n",
       "      <td>37.0</td>\n",
       "      <td>20.0</td>\n",
       "      <td>58.0</td>\n",
       "    </tr>\n",
       "    <tr>\n",
       "      <th>780</th>\n",
       "      <td>1196</td>\n",
       "      <td>20</td>\n",
       "      <td>16.500000</td>\n",
       "      <td>0.0</td>\n",
       "      <td>NaN</td>\n",
       "      <td>31.0</td>\n",
       "      <td>2000.0</td>\n",
       "      <td>0.058</td>\n",
       "      <td>39.0</td>\n",
       "      <td>18.0</td>\n",
       "      <td>181.0</td>\n",
       "    </tr>\n",
       "    <tr>\n",
       "      <th>934</th>\n",
       "      <td>1420</td>\n",
       "      <td>0</td>\n",
       "      <td>14.788136</td>\n",
       "      <td>NaN</td>\n",
       "      <td>NaN</td>\n",
       "      <td>NaN</td>\n",
       "      <td>NaN</td>\n",
       "      <td>NaN</td>\n",
       "      <td>NaN</td>\n",
       "      <td>NaN</td>\n",
       "      <td>39.0</td>\n",
       "    </tr>\n",
       "    <tr>\n",
       "      <th>1035</th>\n",
       "      <td>1553</td>\n",
       "      <td>18</td>\n",
       "      <td>20.926667</td>\n",
       "      <td>NaN</td>\n",
       "      <td>NaN</td>\n",
       "      <td>NaN</td>\n",
       "      <td>NaN</td>\n",
       "      <td>NaN</td>\n",
       "      <td>NaN</td>\n",
       "      <td>NaN</td>\n",
       "      <td>1.0</td>\n",
       "    </tr>\n",
       "    <tr>\n",
       "      <th>1138</th>\n",
       "      <td>1717</td>\n",
       "      <td>12</td>\n",
       "      <td>21.400000</td>\n",
       "      <td>0.0</td>\n",
       "      <td>NaN</td>\n",
       "      <td>44.0</td>\n",
       "      <td>1375.0</td>\n",
       "      <td>0.044</td>\n",
       "      <td>61.0</td>\n",
       "      <td>37.0</td>\n",
       "      <td>116.0</td>\n",
       "    </tr>\n",
       "    <tr>\n",
       "      <th>1229</th>\n",
       "      <td>1855</td>\n",
       "      <td>2</td>\n",
       "      <td>14.000000</td>\n",
       "      <td>0.0</td>\n",
       "      <td>NaN</td>\n",
       "      <td>52.0</td>\n",
       "      <td>2000.0</td>\n",
       "      <td>0.044</td>\n",
       "      <td>37.0</td>\n",
       "      <td>20.0</td>\n",
       "      <td>20.0</td>\n",
       "    </tr>\n",
       "  </tbody>\n",
       "</table>\n",
       "</div>"
      ],
      "text/plain": [
       "        id  hour  hour_bef_temperature  hour_bef_precipitation  \\\n",
       "18      33    13             22.600000                     0.0   \n",
       "244    381     1             14.100000                     0.0   \n",
       "260    404     3             14.000000                     0.0   \n",
       "376    570     0             14.300000                     0.0   \n",
       "780   1196    20             16.500000                     0.0   \n",
       "934   1420     0             14.788136                     NaN   \n",
       "1035  1553    18             20.926667                     NaN   \n",
       "1138  1717    12             21.400000                     0.0   \n",
       "1229  1855     2             14.000000                     0.0   \n",
       "\n",
       "      hour_bef_windspeed  hour_bef_humidity  hour_bef_visibility  \\\n",
       "18                   NaN               41.0                987.0   \n",
       "244                  NaN               55.0               1992.0   \n",
       "260                  NaN               50.0               2000.0   \n",
       "376                  NaN               49.0               2000.0   \n",
       "780                  NaN               31.0               2000.0   \n",
       "934                  NaN                NaN                  NaN   \n",
       "1035                 NaN                NaN                  NaN   \n",
       "1138                 NaN               44.0               1375.0   \n",
       "1229                 NaN               52.0               2000.0   \n",
       "\n",
       "      hour_bef_ozone  hour_bef_pm10  hour_bef_pm2.5  count  \n",
       "18             0.046           64.0            39.0  208.0  \n",
       "244              NaN            NaN             NaN   38.0  \n",
       "260            0.049           35.0            22.0   17.0  \n",
       "376            0.044           37.0            20.0   58.0  \n",
       "780            0.058           39.0            18.0  181.0  \n",
       "934              NaN            NaN             NaN   39.0  \n",
       "1035             NaN            NaN             NaN    1.0  \n",
       "1138           0.044           61.0            37.0  116.0  \n",
       "1229           0.044           37.0            20.0   20.0  "
      ]
     },
     "execution_count": 15,
     "metadata": {},
     "output_type": "execute_result"
    }
   ],
   "source": [
    "train[train['hour_bef_windspeed'].isna()]\n",
    "# train[train['hour_bef_windspeed'].isna()].hour.values\n",
    "# train[train['hour_bef_windspeed'].isna()].hour\n",
    "# train[train['hour_bef_windspeed'].isna()].index\n",
    "\n",
    "dic_win_na = {} # na일 때 idx : hour\n",
    "for i in range(len(train[train['hour_bef_windspeed'].isna()])):\n",
    "    \n",
    "    dic_win_na[train[train['hour_bef_windspeed'].isna()].index[i]] = train[train['hour_bef_windspeed'].isna()].hour.iloc[i]"
   ]
  },
  {
   "cell_type": "code",
   "execution_count": 16,
   "metadata": {},
   "outputs": [],
   "source": [
    "# win_gb"
   ]
  },
  {
   "cell_type": "code",
   "execution_count": 17,
   "metadata": {},
   "outputs": [
    {
     "data": {
      "text/plain": [
       "{18: 13, 244: 1, 260: 3, 376: 0, 780: 20, 934: 0, 1035: 18, 1138: 12, 1229: 2}"
      ]
     },
     "execution_count": 17,
     "metadata": {},
     "output_type": "execute_result"
    }
   ],
   "source": [
    "dic_win_na\n",
    "dic_m_win = {} # na일 때 idx: 그 시간의 평균 windspeed\n",
    "for i,j in dic_win_na.items():\n",
    "    dic_m_win[i] = win_gb[j]"
   ]
  },
  {
   "cell_type": "code",
   "execution_count": 18,
   "metadata": {},
   "outputs": [],
   "source": [
    "train['hour_bef_windspeed'].fillna(dic_m_win, inplace = True)"
   ]
  },
  {
   "cell_type": "code",
   "execution_count": 19,
   "metadata": {},
   "outputs": [
    {
     "data": {
      "text/plain": [
       "id                          0\n",
       "hour                        0\n",
       "hour_bef_temperature        0\n",
       "hour_bef_precipitation      2\n",
       "hour_bef_windspeed          0\n",
       "hour_bef_humidity           2\n",
       "hour_bef_visibility         2\n",
       "hour_bef_ozone             76\n",
       "hour_bef_pm10              90\n",
       "hour_bef_pm2.5            117\n",
       "count                       0\n",
       "dtype: int64"
      ]
     },
     "execution_count": 19,
     "metadata": {},
     "output_type": "execute_result"
    }
   ],
   "source": [
    "train.isnull().sum() # temp, wind만 이용할 것이므로 그것들만 결측치가 없으면 됨"
   ]
  },
  {
   "cell_type": "markdown",
   "metadata": {},
   "source": [
    "# test에 대해서도 NaN 처리"
   ]
  },
  {
   "cell_type": "code",
   "execution_count": 39,
   "metadata": {},
   "outputs": [
    {
     "data": {
      "text/html": [
       "<div>\n",
       "<style scoped>\n",
       "    .dataframe tbody tr th:only-of-type {\n",
       "        vertical-align: middle;\n",
       "    }\n",
       "\n",
       "    .dataframe tbody tr th {\n",
       "        vertical-align: top;\n",
       "    }\n",
       "\n",
       "    .dataframe thead th {\n",
       "        text-align: right;\n",
       "    }\n",
       "</style>\n",
       "<table border=\"1\" class=\"dataframe\">\n",
       "  <thead>\n",
       "    <tr style=\"text-align: right;\">\n",
       "      <th></th>\n",
       "      <th>id</th>\n",
       "      <th>hour</th>\n",
       "      <th>hour_bef_temperature</th>\n",
       "      <th>hour_bef_precipitation</th>\n",
       "      <th>hour_bef_windspeed</th>\n",
       "      <th>hour_bef_humidity</th>\n",
       "      <th>hour_bef_visibility</th>\n",
       "      <th>hour_bef_ozone</th>\n",
       "      <th>hour_bef_pm10</th>\n",
       "      <th>hour_bef_pm2.5</th>\n",
       "    </tr>\n",
       "  </thead>\n",
       "  <tbody>\n",
       "    <tr>\n",
       "      <th>653</th>\n",
       "      <td>1943</td>\n",
       "      <td>19</td>\n",
       "      <td>NaN</td>\n",
       "      <td>NaN</td>\n",
       "      <td>NaN</td>\n",
       "      <td>NaN</td>\n",
       "      <td>NaN</td>\n",
       "      <td>NaN</td>\n",
       "      <td>NaN</td>\n",
       "      <td>NaN</td>\n",
       "    </tr>\n",
       "  </tbody>\n",
       "</table>\n",
       "</div>"
      ],
      "text/plain": [
       "       id  hour  hour_bef_temperature  hour_bef_precipitation  \\\n",
       "653  1943    19                   NaN                     NaN   \n",
       "\n",
       "     hour_bef_windspeed  hour_bef_humidity  hour_bef_visibility  \\\n",
       "653                 NaN                NaN                  NaN   \n",
       "\n",
       "     hour_bef_ozone  hour_bef_pm10  hour_bef_pm2.5  \n",
       "653             NaN            NaN             NaN  "
      ]
     },
     "execution_count": 39,
     "metadata": {},
     "output_type": "execute_result"
    },
    {
     "data": {
      "text/plain": [
       "{653: 19}"
      ]
     },
     "execution_count": 39,
     "metadata": {},
     "output_type": "execute_result"
    }
   ],
   "source": [
    "te_tem_na = test[test['hour_bef_temperature'].isna()]\n",
    "dic_te_tem_na = {} # na일 때 idx : hour\n",
    "for i in range(len(te_tem_na.hour)):\n",
    "    dic_te_tem_na[te_tem_na.index[i]] = te_tem_na.hour.iloc[i]\n",
    "te_tem_na\n",
    "dic_te_tem_na"
   ]
  },
  {
   "cell_type": "code",
   "execution_count": 40,
   "metadata": {},
   "outputs": [
    {
     "data": {
      "text/html": [
       "<div>\n",
       "<style scoped>\n",
       "    .dataframe tbody tr th:only-of-type {\n",
       "        vertical-align: middle;\n",
       "    }\n",
       "\n",
       "    .dataframe tbody tr th {\n",
       "        vertical-align: top;\n",
       "    }\n",
       "\n",
       "    .dataframe thead th {\n",
       "        text-align: right;\n",
       "    }\n",
       "</style>\n",
       "<table border=\"1\" class=\"dataframe\">\n",
       "  <thead>\n",
       "    <tr style=\"text-align: right;\">\n",
       "      <th></th>\n",
       "      <th>id</th>\n",
       "      <th>hour</th>\n",
       "      <th>hour_bef_temperature</th>\n",
       "      <th>hour_bef_precipitation</th>\n",
       "      <th>hour_bef_windspeed</th>\n",
       "      <th>hour_bef_humidity</th>\n",
       "      <th>hour_bef_visibility</th>\n",
       "      <th>hour_bef_ozone</th>\n",
       "      <th>hour_bef_pm10</th>\n",
       "      <th>hour_bef_pm2.5</th>\n",
       "    </tr>\n",
       "  </thead>\n",
       "  <tbody>\n",
       "    <tr>\n",
       "      <th>653</th>\n",
       "      <td>1943</td>\n",
       "      <td>19</td>\n",
       "      <td>NaN</td>\n",
       "      <td>NaN</td>\n",
       "      <td>NaN</td>\n",
       "      <td>NaN</td>\n",
       "      <td>NaN</td>\n",
       "      <td>NaN</td>\n",
       "      <td>NaN</td>\n",
       "      <td>NaN</td>\n",
       "    </tr>\n",
       "  </tbody>\n",
       "</table>\n",
       "</div>"
      ],
      "text/plain": [
       "       id  hour  hour_bef_temperature  hour_bef_precipitation  \\\n",
       "653  1943    19                   NaN                     NaN   \n",
       "\n",
       "     hour_bef_windspeed  hour_bef_humidity  hour_bef_visibility  \\\n",
       "653                 NaN                NaN                  NaN   \n",
       "\n",
       "     hour_bef_ozone  hour_bef_pm10  hour_bef_pm2.5  \n",
       "653             NaN            NaN             NaN  "
      ]
     },
     "execution_count": 40,
     "metadata": {},
     "output_type": "execute_result"
    },
    {
     "data": {
      "text/plain": [
       "{653: 19}"
      ]
     },
     "execution_count": 40,
     "metadata": {},
     "output_type": "execute_result"
    }
   ],
   "source": [
    "te_win_na = test[test['hour_bef_windspeed'].isna()]\n",
    "dic_te_win_na = {} # na일 때 idx : hour\n",
    "for i in range(len(te_win_na.hour)):\n",
    "    dic_te_win_na[te_win_na.index[i]] = te_win_na.hour.iloc[i]\n",
    "te_win_na\n",
    "dic_te_win_na"
   ]
  },
  {
   "cell_type": "code",
   "execution_count": 41,
   "metadata": {},
   "outputs": [],
   "source": [
    "te_tem_gb = test.groupby('hour')['hour_bef_temperature'].mean()\n",
    "te_win_gb = test.groupby('hour')['hour_bef_windspeed'].mean()"
   ]
  },
  {
   "cell_type": "code",
   "execution_count": 42,
   "metadata": {},
   "outputs": [],
   "source": [
    "dic_m_te_tem = {} # na일 때 idx: 그 시간의 평균 windspeed\n",
    "for i,j in dic_te_tem_na.items():\n",
    "    dic_m_te_tem[i] = te_tem_gb[j]\n",
    "\n",
    "dic_m_te_win = {}\n",
    "for i,j in dic_te_win_na.items():\n",
    "    dic_m_te_win[i] = te_win_gb[j]"
   ]
  },
  {
   "cell_type": "code",
   "execution_count": 43,
   "metadata": {},
   "outputs": [],
   "source": [
    "test['hour_bef_temperature'].fillna(dic_m_te_tem, inplace = True)\n",
    "test['hour_bef_windspeed'].fillna(dic_m_te_win, inplace = True)"
   ]
  },
  {
   "cell_type": "code",
   "execution_count": 47,
   "metadata": {},
   "outputs": [
    {
     "data": {
      "text/html": [
       "<div>\n",
       "<style scoped>\n",
       "    .dataframe tbody tr th:only-of-type {\n",
       "        vertical-align: middle;\n",
       "    }\n",
       "\n",
       "    .dataframe tbody tr th {\n",
       "        vertical-align: top;\n",
       "    }\n",
       "\n",
       "    .dataframe thead th {\n",
       "        text-align: right;\n",
       "    }\n",
       "</style>\n",
       "<table border=\"1\" class=\"dataframe\">\n",
       "  <thead>\n",
       "    <tr style=\"text-align: right;\">\n",
       "      <th></th>\n",
       "      <th>id</th>\n",
       "      <th>hour</th>\n",
       "      <th>hour_bef_temperature</th>\n",
       "      <th>hour_bef_precipitation</th>\n",
       "      <th>hour_bef_windspeed</th>\n",
       "      <th>hour_bef_humidity</th>\n",
       "      <th>hour_bef_visibility</th>\n",
       "      <th>hour_bef_ozone</th>\n",
       "      <th>hour_bef_pm10</th>\n",
       "      <th>hour_bef_pm2.5</th>\n",
       "    </tr>\n",
       "  </thead>\n",
       "  <tbody>\n",
       "  </tbody>\n",
       "</table>\n",
       "</div>"
      ],
      "text/plain": [
       "Empty DataFrame\n",
       "Columns: [id, hour, hour_bef_temperature, hour_bef_precipitation, hour_bef_windspeed, hour_bef_humidity, hour_bef_visibility, hour_bef_ozone, hour_bef_pm10, hour_bef_pm2.5]\n",
       "Index: []"
      ]
     },
     "execution_count": 47,
     "metadata": {},
     "output_type": "execute_result"
    },
    {
     "data": {
      "text/html": [
       "<div>\n",
       "<style scoped>\n",
       "    .dataframe tbody tr th:only-of-type {\n",
       "        vertical-align: middle;\n",
       "    }\n",
       "\n",
       "    .dataframe tbody tr th {\n",
       "        vertical-align: top;\n",
       "    }\n",
       "\n",
       "    .dataframe thead th {\n",
       "        text-align: right;\n",
       "    }\n",
       "</style>\n",
       "<table border=\"1\" class=\"dataframe\">\n",
       "  <thead>\n",
       "    <tr style=\"text-align: right;\">\n",
       "      <th></th>\n",
       "      <th>id</th>\n",
       "      <th>hour</th>\n",
       "      <th>hour_bef_temperature</th>\n",
       "      <th>hour_bef_precipitation</th>\n",
       "      <th>hour_bef_windspeed</th>\n",
       "      <th>hour_bef_humidity</th>\n",
       "      <th>hour_bef_visibility</th>\n",
       "      <th>hour_bef_ozone</th>\n",
       "      <th>hour_bef_pm10</th>\n",
       "      <th>hour_bef_pm2.5</th>\n",
       "    </tr>\n",
       "  </thead>\n",
       "  <tbody>\n",
       "  </tbody>\n",
       "</table>\n",
       "</div>"
      ],
      "text/plain": [
       "Empty DataFrame\n",
       "Columns: [id, hour, hour_bef_temperature, hour_bef_precipitation, hour_bef_windspeed, hour_bef_humidity, hour_bef_visibility, hour_bef_ozone, hour_bef_pm10, hour_bef_pm2.5]\n",
       "Index: []"
      ]
     },
     "execution_count": 47,
     "metadata": {},
     "output_type": "execute_result"
    }
   ],
   "source": [
    "test[test['hour_bef_temperature'].isnull()]\n",
    "test[test['hour_bef_windspeed'].isnull()]"
   ]
  },
  {
   "cell_type": "code",
   "execution_count": 48,
   "metadata": {},
   "outputs": [
    {
     "name": "stdout",
     "output_type": "stream",
     "text": [
      "<class 'pandas.core.frame.DataFrame'>\n",
      "RangeIndex: 715 entries, 0 to 714\n",
      "Data columns (total 10 columns):\n",
      " #   Column                  Non-Null Count  Dtype  \n",
      "---  ------                  --------------  -----  \n",
      " 0   id                      715 non-null    int64  \n",
      " 1   hour                    715 non-null    int64  \n",
      " 2   hour_bef_temperature    715 non-null    float64\n",
      " 3   hour_bef_precipitation  714 non-null    float64\n",
      " 4   hour_bef_windspeed      715 non-null    float64\n",
      " 5   hour_bef_humidity       714 non-null    float64\n",
      " 6   hour_bef_visibility     714 non-null    float64\n",
      " 7   hour_bef_ozone          680 non-null    float64\n",
      " 8   hour_bef_pm10           678 non-null    float64\n",
      " 9   hour_bef_pm2.5          679 non-null    float64\n",
      "dtypes: float64(8), int64(2)\n",
      "memory usage: 56.0 KB\n"
     ]
    }
   ],
   "source": [
    "test.info()"
   ]
  },
  {
   "cell_type": "code",
   "execution_count": null,
   "metadata": {},
   "outputs": [],
   "source": []
  }
 ],
 "metadata": {
  "interpreter": {
   "hash": "cd65bcbc58295ddb1be3c2ed454fcbd526c999271179adb38fc6bed2214131e2"
  },
  "kernelspec": {
   "display_name": "Python 3.8.8 ('base')",
   "language": "python",
   "name": "python3"
  },
  "language_info": {
   "codemirror_mode": {
    "name": "ipython",
    "version": 3
   },
   "file_extension": ".py",
   "mimetype": "text/x-python",
   "name": "python",
   "nbconvert_exporter": "python",
   "pygments_lexer": "ipython3",
   "version": "3.8.8"
  },
  "orig_nbformat": 4
 },
 "nbformat": 4,
 "nbformat_minor": 2
}

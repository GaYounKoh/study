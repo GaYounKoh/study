{
 "cells": [
  {
   "cell_type": "code",
   "execution_count": 10,
   "metadata": {},
   "outputs": [],
   "source": [
    "#%%"
   ]
  },
  {
   "cell_type": "markdown",
   "metadata": {},
   "source": [
    "[[참고1] 코드공유 > 따릉이 데이터를 활용한 데이터 분석 (실습파일)](https://dacon.io/competitions/open/235576/codeshare/1276?page=1&dtype=recent)"
   ]
  },
  {
   "cell_type": "markdown",
   "metadata": {},
   "source": [
    "# 1️⃣  <span style = 'background-color: lightgreen ; color:black'>**library 및 data load**</span>"
   ]
  },
  {
   "cell_type": "code",
   "execution_count": 7,
   "metadata": {},
   "outputs": [],
   "source": [
    "#%%\n",
    "import pandas as pd #판다스 패키지 불러오기\n",
    "from sklearn.tree import DecisionTreeRegressor\n",
    "from sklearn.ensemble import RandomForestRegressor #랜덤 포레스트 불러오기\n",
    "\n",
    "from IPython.core.interactiveshell import InteractiveShell\n",
    "InteractiveShell.ast_node_interactivity = 'all'"
   ]
  },
  {
   "cell_type": "code",
   "execution_count": 2,
   "metadata": {},
   "outputs": [],
   "source": [
    "# 데이터 불러오기\n",
    "train = pd.read_csv('data/train.csv') # 모델 학습 파일\n",
    "test = pd.read_csv('data/test.csv') # 모델 시험지 파일\n",
    "submission = pd.read_csv('data/submission.csv') #답안지 파일 ; 제출 파일 형식"
   ]
  },
  {
   "cell_type": "markdown",
   "metadata": {},
   "source": [
    "# 2️⃣  <span style = 'background-color: lightgreen ; color:black'>**탐색적 자료분석**</span>\n",
    "Exploratory Data Analysis (EDA)"
   ]
  },
  {
   "cell_type": "markdown",
   "metadata": {},
   "source": [
    "### <span style = 'color:orange'> **df.shape** </span>\n",
    "* df의 행, 열 개수 저장돼있는 <span style = 'color:red'>속성</span>"
   ]
  },
  {
   "cell_type": "markdown",
   "metadata": {},
   "source": [
    "### <span style = 'color:orange'> **df.info()** </span>\n",
    "* df의 col별 정보를 알려주는 <span style = 'color:red'>함수</span>\n",
    "* 비어있지 않은 값 (non-null)은 몇 개인지?\n",
    "* col의 type은 무엇인지?\n",
    "    * type의 종류: int(정수), float(실수), object(문자열), ... (date, ...)"
   ]
  },
  {
   "cell_type": "markdown",
   "metadata": {},
   "source": [
    "### <span style = 'color:orange'> **df.describe()** </span>\n",
    "* 숫자형 (int, float) col들의 기술 통계량을 보여주는 <span style = 'color:red'>함수</span>\n",
    "\n",
    "    * 기술통계량이란? <br>\n",
    "        해당 col을 대표할 수 있는 통계값들을 의미 <br>\n",
    "        <br>\n",
    "    * 기술통계량 종류 <br>\n",
    "        ```\n",
    "        * count:     해당 column에서 비어있지 않은 값의 개수\n",
    "        * mean:      평균\n",
    "        * std:       표준편차\n",
    "        * min:       최솟값 (이상치 포함)\n",
    "        * 25% (Q1):  전체 데이터를 순서대로 정렬했을 때, 아래에서 부터 1/4번째 지점에 있는 값\n",
    "        * 50% (Q2):  중앙값 (전체 데이터를 순서대로 정렬했을 때, 아래에서 부터 2/4번째 지점에 있는 값)\n",
    "        * 75% (Q3):  전체 데이터를 순서대로 정렬했을 때, 아래에서 부터 3/4번째 지점에 있는 값\n",
    "        * max:       최댓값 (이상치 포함)\n",
    "        ```\n",
    "        <br>\n",
    "    * 이상치: 울타리 밖에 있는 부분을 이상치라고 정의 <br>\n",
    "        ```\n",
    "        * 아래쪽 울타리: Q_1Q1 -1.5 * IQR1.5 * IQR\n",
    "        * 위쪽 울타리:   Q_3Q3 + 1.5 * IQR1.5 * IQR\n",
    "        * IQRIQR =      Q_3 - Q_1Q3 - Q1\n",
    "        ```"
   ]
  },
  {
   "cell_type": "markdown",
   "metadata": {},
   "source": [
    "### <span style = 'color:orange'> **df.head(n)** </span>\n",
    "* df의 위에서부터 n개 행을 보여주는 <span style = 'color:red'>함수</span>\n",
    "* n default = 5"
   ]
  },
  {
   "cell_type": "markdown",
   "metadata": {},
   "source": [
    "### <span style = 'color:orange'> **df.tail(n)** </span>\n",
    "* df의 아래에서부터 n개 행을 보여주는 <span style = 'color:red'>함수</span>\n",
    "* n default = 5"
   ]
  },
  {
   "cell_type": "markdown",
   "metadata": {},
   "source": [
    "### <span style = 'color:orange'> **df.groupby()** </span>\n",
    "* 집단에 대한 통계량 확인\n",
    "\n",
    "ex) 습한 날의 count의 평균 이런 걸 볼 수 있음. (우선 습한 정도를 어느정도 기준에 따라 <<심하다/ 보통이다/ 전혀 습하지 않다>> 정도로 전처리 해야함.)"
   ]
  },
  {
   "cell_type": "markdown",
   "metadata": {},
   "source": [
    "## <span style = 'color:green'> **visualization** </span>"
   ]
  },
  {
   "cell_type": "code",
   "execution_count": 1,
   "metadata": {},
   "outputs": [],
   "source": [
    "import matplotlib.pyplot as plt"
   ]
  },
  {
   "cell_type": "code",
   "execution_count": 17,
   "metadata": {},
   "outputs": [
    {
     "data": {
      "text/plain": [
       "<Figure size 864x216 with 0 Axes>"
      ]
     },
     "execution_count": 17,
     "metadata": {},
     "output_type": "execute_result"
    },
    {
     "data": {
      "text/plain": [
       "[<matplotlib.lines.Line2D at 0x1815c68c3d0>]"
      ]
     },
     "execution_count": 17,
     "metadata": {},
     "output_type": "execute_result"
    },
    {
     "data": {
      "image/png": "[encoded data removed]",
      "text/plain": [
       "<Figure size 864x216 with 1 Axes>"
      ]
     },
     "metadata": {
      "needs_background": "light"
     },
     "output_type": "display_data"
    }
   ],
   "source": [
    "#%%\n",
    "import numpy as np\n",
    "\n",
    "x = np.linspace(0, 20, 100)\n",
    "plt.figure(figsize = (12,3))\n",
    "plt.plot(x, np.sin(x))\n",
    "\n",
    "plt.show()\n"
   ]
  },
  {
   "cell_type": "markdown",
   "metadata": {},
   "source": [
    "### <span style = 'color:orange'> **plt.title(label, fontsize)** </span>\n",
    "* 그래프 제목 생성"
   ]
  },
  {
   "cell_type": "markdown",
   "metadata": {},
   "source": [
    "### <span style = 'color:orange'> **plt.xlabel(label, fontsize)** </span>\n",
    "* x축 이름 설정"
   ]
  },
  {
   "cell_type": "markdown",
   "metadata": {},
   "source": [
    "### <span style = 'color:orange'> **plt.ylabel(label, fontsize)** </span>\n",
    "* y축 이름 설정"
   ]
  },
  {
   "cell_type": "markdown",
   "metadata": {},
   "source": [
    "### <span style = 'color:orange'> **plt.axvline(x, color)** </span>\n",
    "* 축을 가로지르는 <span style = 'color:red'>세로 선</span> 생성"
   ]
  },
  {
   "cell_type": "markdown",
   "metadata": {},
   "source": [
    "### <span style = 'color:orange'> **plt.text(x, y, s, fontsize)** </span>\n",
    "* 원하는 위치에 텍스트 생성"
   ]
  },
  {
   "cell_type": "markdown",
   "metadata": {},
   "source": [
    "### <span style = 'color:orange'> **plt.plot의 스타일** </span>\n",
    "- 색깔\n",
    "```\n",
    "문자열      약자\n",
    "blue        b\n",
    "green       g\n",
    "red         r\n",
    "cyan        c\n",
    "magenta     m\n",
    "yellow      y\n",
    "black       k\n",
    "white       w\n",
    "```\n",
    "<br>\n",
    "\n",
    "- 마커\n",
    "```\n",
    "마커        의미\n",
    ".           점\n",
    "o           원 (알파벳)\n",
    "v           역삼각형 (알파벳)\n",
    "^           삼각형\n",
    "s           사각형\n",
    "*           별\n",
    "x           엑스\n",
    "d           다이아몬드\n",
    "```\n",
    "<br>\n",
    "\n",
    "- 선\n",
    "```\n",
    "문자열      의미\n",
    "-\t    실선\n",
    "--\t    끊어진 실선\n",
    "-.\t    점+실선\n",
    ":\t    점선\n",
    "```\n",
    "<br>"
   ]
  },
  {
   "cell_type": "markdown",
   "metadata": {},
   "source": [
    "## <span style = 'color:green'> **correlation** </span>\n",
    "### <span style = 'color:orange'> **df.corr()** </span>\n",
    "* correlation coefficient의 줄임말 <br>\n",
    "<br>\n",
    "\n",
    "* 상관계수: 두 개의 변수가 같이 일어나는 강도를 나타내는 수치.\n",
    "* -1 ~ 1 사이의 값을 지님.\n",
    "* -1이나 1인 수치는 현실 세계에서 관측되기 힘든 수치.\n",
    "* 분야별로 기준을 정하는 것에 따라 달라지겠지만, <u>보통 <span style = 'color = red; font-size = 140%'>0.4 이상</span>이면 두 개의 변수 간에 상관성이 있다</u>고 얘기함.\n",
    "<br>\n",
    "<br>\n",
    "\n",
    "* 💥💥💥상관관계는 인과관계와 다름 <br>\n",
    "    ex) <br>    \n",
    "    * 선글라스 판매량이 증가***함에 따라***, 아이스크림 판매액도 ***같이 증가***하는 것을 볼 수 있음.\n",
    "    * 하지만 선글라스 판매량이 증가했기 ***때문에*** 아이스크림 판매액이 증가했다라고 해석하는 것은 타당하지 않음.\n",
    "    * 선글라스 판매량이 증가했다는 것은 여름 ***때문***이라고 볼 수 있으므로, 날씨가 더워짐***에 따라*** 선글라스 판매량과 아이스크림 판매액이 같이 증가했다고 보는 것이 타당할 것임.\n",
    "    <br>\n",
    "    \n",
    "    💥 상관관계 ; ~ 함에 따라 (반비례, 비례, ...) <br>\n",
    "    💥 인과관계 ; ~ 때문에 (야기, 초래, ...)\n"
   ]
  },
  {
   "cell_type": "markdown",
   "metadata": {},
   "source": [
    "#### seaborn"
   ]
  },
  {
   "cell_type": "code",
   "execution_count": 29,
   "metadata": {},
   "outputs": [],
   "source": [
    "import seaborn as sns"
   ]
  },
  {
   "cell_type": "markdown",
   "metadata": {},
   "source": [
    "* [sns plot 종류]\n",
    "    - Relational Plot (연속 데이터 관련성)\n",
    "        - replot\n",
    "        - scatter\n",
    "        - lineplot <br>\n",
    "        <br>\n",
    "    - Categorical Plot (카테고리 데이터 변화)\n",
    "        - catplot\n",
    "        - stripplot\n",
    "        - swarmplot\n",
    "        - boxplot\n",
    "        - violinplot\n",
    "        - pointplot\n",
    "        - barplot\n",
    "        - countplot <br>\n",
    "        <br>\n",
    "    - Distribution Plot (데이터 분포)\n",
    "        - distplot\n",
    "        - kdeplot\n",
    "        - rugplot <br>\n",
    "        <br>\n",
    "    - Regression Plot (데이터 분포 회귀선)\n",
    "        - lmplot\n",
    "        - regplot\n",
    "        - residplot <br>\n",
    "        <br>\n",
    "    - Matrix Plot (여러가지 변수 비교)\n",
    "        - heatmap\n",
    "        - clustermap <br>\n",
    "        <br>\n",
    "    - Multi-plot grid (여러 개의 그래프)\n",
    "        - Facetgrid\n",
    "        - Pairgrid\n",
    "        - Jointgrid <br>\n",
    "        <br>\n",
    "```\n",
    "데이터의 종류가 연속형 데이터인지, 카테고리 데이터인지, 내가 궁금한 내용이 데이터의 시계열적 변화인지 분포인지에 따라 적합한 그래프를 선택해서 도식화하는 방법을 익힌다면 충분합니다.\n",
    "```\n",
    "<br>\n",
    "\n",
    "[seaborn 시각화 참고자료](https://wikidocs.net/86290)"
   ]
  },
  {
   "cell_type": "markdown",
   "metadata": {},
   "source": [
    "# 3️⃣  <span style = 'background-color: lightgreen ; color:black'>**데이터 전처리**</span>\n",
    "Data Cleansing & Pre-Processing"
   ]
  },
  {
   "cell_type": "markdown",
   "metadata": {},
   "source": [
    "### <span style = 'color:orange'> **srs.isna()** </span>\n",
    "* 결측치 여부를 확인해줌.\n",
    "* 결측치면 True, 아니면 False"
   ]
  },
  {
   "cell_type": "markdown",
   "metadata": {},
   "source": [
    "### <span style = 'color:orange'> **df.fillna()** </span>\n",
    "* 결측치를 <u>채우고자 하는 column</u>과 <br>\n",
    "    결측치를 <u>대신하여 넣고자 하는 값</u>을 명시해 줘야 함."
   ]
  },
  {
   "cell_type": "markdown",
   "metadata": {},
   "source": [
    "# 4️⃣  <span style = 'background-color: lightgreen ; color:black'>**변수 선택 및 모델 구축**</span>\n",
    "Feature Engineering & Initial Modeling <br>"
   ]
  },
  {
   "cell_type": "markdown",
   "metadata": {},
   "source": [
    "### <span style = 'color:orange'> **sklearn.ensemble.RandomForestRegressor()** </span>\n",
    "* 랜덤 포레스트 모형\n"
   ]
  },
  {
   "cell_type": "markdown",
   "metadata": {},
   "source": [
    "# 5️⃣  <span style = 'background-color: lightgreen ; color:black'>**모델 학습 및 검증**</span>\n",
    "Model Tuning & Evaluation"
   ]
  },
  {
   "cell_type": "markdown",
   "metadata": {},
   "source": [
    "### <span style = 'color:orange'> **model.fit()** </span>\n",
    "* 모델 학습"
   ]
  },
  {
   "cell_type": "markdown",
   "metadata": {},
   "source": [
    "### <span style = 'color:orange'> **model.predict()** </span>\n",
    "* 모델 예측"
   ]
  },
  {
   "cell_type": "markdown",
   "metadata": {},
   "source": [
    "### <span style = 'color:orange'> **df.to_csv()** </span>\n",
    "* csv 파일 저장하는 함수"
   ]
  },
  {
   "cell_type": "markdown",
   "metadata": {},
   "source": [
    "# 6️⃣  <span style = 'background-color: lightgreen ; color:black'>**결과 및 결언**</span>\n",
    "Conclusion & Discussion"
   ]
  }
 ],
 "metadata": {
  "interpreter": {
   "hash": "cd65bcbc58295ddb1be3c2ed454fcbd526c999271179adb38fc6bed2214131e2"
  },
  "kernelspec": {
   "display_name": "Python 3.8.8 ('base')",
   "language": "python",
   "name": "python3"
  },
  "language_info": {
   "codemirror_mode": {
    "name": "ipython",
    "version": 3
   },
   "file_extension": ".py",
   "mimetype": "text/x-python",
   "name": "python",
   "nbconvert_exporter": "python",
   "pygments_lexer": "ipython3",
   "version": "3.8.8"
  },
  "orig_nbformat": 4
 },
 "nbformat": 4,
 "nbformat_minor": 2
}

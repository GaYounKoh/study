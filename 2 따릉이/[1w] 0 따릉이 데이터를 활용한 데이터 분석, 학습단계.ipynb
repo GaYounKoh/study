{
 "cells": [
  {
   "cell_type": "code",
   "execution_count": 10,
   "metadata": {},
   "outputs": [],
   "source": [
    "#%%"
   ]
  },
  {
   "cell_type": "markdown",
   "metadata": {},
   "source": [
    "[[참고1] 코드공유 > 따릉이 데이터를 활용한 데이터 분석 (실습파일)](https://dacon.io/competitions/open/235576/codeshare/1276?page=1&dtype=recent)"
   ]
  },
  {
   "cell_type": "markdown",
   "metadata": {},
   "source": [
    "# 1️⃣  <span style = 'background-color: lightgreen ; color:black'>**library 및 data load**</span>"
   ]
  },
  {
   "cell_type": "code",
   "execution_count": 7,
   "metadata": {},
   "outputs": [],
   "source": [
    "#%%\n",
    "import pandas as pd #판다스 패키지 불러오기\n",
    "from sklearn.tree import DecisionTreeRegressor\n",
    "from sklearn.ensemble import RandomForestRegressor #랜덤 포레스트 불러오기\n",
    "\n",
    "from IPython.core.interactiveshell import InteractiveShell\n",
    "InteractiveShell.ast_node_interactivity = 'all'"
   ]
  },
  {
   "cell_type": "code",
   "execution_count": 2,
   "metadata": {},
   "outputs": [],
   "source": [
    "# 데이터 불러오기\n",
    "train = pd.read_csv('data/train.csv') # 모델 학습 파일\n",
    "test = pd.read_csv('data/test.csv') # 모델 시험지 파일\n",
    "submission = pd.read_csv('data/submission.csv') #답안지 파일 ; 제출 파일 형식"
   ]
  },
  {
   "cell_type": "markdown",
   "metadata": {},
   "source": [
    "# 2️⃣  <span style = 'background-color: lightgreen ; color:black'>**탐색적 자료분석**</span>\n",
    "Exploratory Data Analysis (EDA)"
   ]
  },
  {
   "cell_type": "markdown",
   "metadata": {},
   "source": [
    "### <span style = 'color:orange'> **df.shape** </span>\n",
    "* df의 행, 열 개수 저장돼있는 <span style = 'color:red'>속성</span>"
   ]
  },
  {
   "cell_type": "markdown",
   "metadata": {},
   "source": [
    "### <span style = 'color:orange'> **df.info()** </span>\n",
    "* df의 col별 정보를 알려주는 <span style = 'color:red'>함수</span>\n",
    "* 비어있지 않은 값 (non-null)은 몇 개인지?\n",
    "* col의 type은 무엇인지?\n",
    "    * type의 종류: int(정수), float(실수), object(문자열), ... (date, ...)"
   ]
  },
  {
   "cell_type": "markdown",
   "metadata": {},
   "source": [
    "### <span style = 'color:orange'> **df.describe()** </span>\n",
    "* 숫자형 (int, float) col들의 기술 통계량을 보여주는 <span style = 'color:red'>함수</span>\n",
    "\n",
    "    * 기술통계량이란? <br>\n",
    "        해당 col을 대표할 수 있는 통계값들을 의미 <br>\n",
    "        <br>\n",
    "    * 기술통계량 종류 <br>\n",
    "        ```\n",
    "        * count:     해당 column에서 비어있지 않은 값의 개수\n",
    "        * mean:      평균\n",
    "        * std:       표준편차\n",
    "        * min:       최솟값 (이상치 포함)\n",
    "        * 25% (Q1):  전체 데이터를 순서대로 정렬했을 때, 아래에서 부터 1/4번째 지점에 있는 값\n",
    "        * 50% (Q2):  중앙값 (전체 데이터를 순서대로 정렬했을 때, 아래에서 부터 2/4번째 지점에 있는 값)\n",
    "        * 75% (Q3):  전체 데이터를 순서대로 정렬했을 때, 아래에서 부터 3/4번째 지점에 있는 값\n",
    "        * max:       최댓값 (이상치 포함)\n",
    "        ```\n",
    "        <br>\n",
    "    * 이상치: 울타리 밖에 있는 부분을 이상치라고 정의 <br>\n",
    "        ```\n",
    "        * 아래쪽 울타리: Q_1Q1 -1.5 * IQR1.5 * IQR\n",
    "        * 위쪽 울타리:   Q_3Q3 + 1.5 * IQR1.5 * IQR\n",
    "        * IQRIQR =      Q_3 - Q_1Q3 - Q1\n",
    "        ```"
   ]
  },
  {
   "cell_type": "markdown",
   "metadata": {},
   "source": [
    "### <span style = 'color:orange'> **df.head(n)** </span>\n",
    "* df의 위에서부터 n개 행을 보여주는 <span style = 'color:red'>함수</span>\n",
    "* n default = 5"
   ]
  },
  {
   "cell_type": "markdown",
   "metadata": {},
   "source": [
    "### <span style = 'color:orange'> **df.tail(n)** </span>\n",
    "* df의 아래에서부터 n개 행을 보여주는 <span style = 'color:red'>함수</span>\n",
    "* n default = 5"
   ]
  },
  {
   "cell_type": "markdown",
   "metadata": {},
   "source": [
    "### <span style = 'color:orange'> **df.groupby()** </span>\n",
    "* 집단에 대한 통계량 확인\n",
    "\n",
    "ex) 습한 날의 count의 평균 이런 걸 볼 수 있음. (우선 습한 정도를 어느정도 기준에 따라 <<심하다/ 보통이다/ 전혀 습하지 않다>> 정도로 전처리 해야함.)"
   ]
  },
  {
   "cell_type": "markdown",
   "metadata": {},
   "source": [
    "## <span style = 'color:green'> **visualization** </span>"
   ]
  },
  {
   "cell_type": "code",
   "execution_count": 1,
   "metadata": {},
   "outputs": [],
   "source": [
    "import matplotlib.pyplot as plt"
   ]
  },
  {
   "cell_type": "code",
   "execution_count": 17,
   "metadata": {},
   "outputs": [
    {
     "data": {
      "text/plain": [
       "<Figure size 864x216 with 0 Axes>"
      ]
     },
     "execution_count": 17,
     "metadata": {},
     "output_type": "execute_result"
    },
    {
     "data": {
      "text/plain": [
       "[<matplotlib.lines.Line2D at 0x1815c68c3d0>]"
      ]
     },
     "execution_count": 17,
     "metadata": {},
     "output_type": "execute_result"
    },
    {
     "data": {
      "image/png": "[encoded data removed]",
      "text/plain": [
       "<Figure size 864x216 with 1 Axes>"
      ]
     },
     "metadata": {
      "needs_background": "light"
     },
     "output_type": "display_data"
    }
   ],
   "source": [
    "#%%\n",
    "import numpy as np\n",
    "\n",
    "x = np.linspace(0, 20, 100)\n",
    "plt.figure(figsize = (12,3))\n",
    "plt.plot(x, np.sin(x))\n",
    "\n",
    "plt.show()\n"
   ]
  },
  {
   "cell_type": "markdown",
   "metadata": {},
   "source": [
    "# <span style = 'background-color: lightgreen ; color:black'>**시각화**</span>"
   ]
  },
  {
   "cell_type": "markdown",
   "metadata": {},
   "source": [
    "[그림판 크기 설정 참고](https://www.delftstack.com/ko/howto/matplotlib/how-to-change-the-figure-size-in-matplotlib/) <br>\n",
    "[plt 참고 2](https://cool24151.tistory.com/16)"
   ]
  },
  {
   "cell_type": "markdown",
   "metadata": {},
   "source": [
    "## <span> 1. Matplotlib이란? </span>\n"
   ]
  },
  {
   "cell_type": "markdown",
   "metadata": {},
   "source": [
    "#### (1) Matplotlib 기능\n",
    "파이썬에서 기본적인 시각화 기능을 제공해줌. <br>\n",
    "pyplot 객체를 사용해서 데이터를 시각화하여 표시해주는데, <br>\n",
    "<br>\n",
    "\n",
    "이 때 데이터는 ***numpy***나 ***list*** 형태 또는 ***pandas의 series 객체***를 사용해주면 됨. <br>\n",
    "pyplot 객체에 그래프들이 하나하나 쌓인 후에 plt.show()를 해주면 <u>쌓아온 그래프들이 모두 출력</u>됨. <br>\n"
   ]
  },
  {
   "cell_type": "markdown",
   "metadata": {},
   "source": [
    "#### (2) 장점\n",
    "pyplot이라고 불리는 객체 안에 있는 figure(=모판)에 그림을 그리게 됨. <br>\n",
    "따라서 ***plot***이라고 명령어를 계속 치게 되면 해당 그림판에 그림을 계속 그리고 있다가 <br>\n",
    "***show***라는 명령어를 치게 되면<br>\n",
    "지금까지 그림을 그렸던 그림판의 그림들을 모두 보여줌. <br>"
   ]
  },
  {
   "cell_type": "markdown",
   "metadata": {},
   "source": [
    "#### (3) 단점\n",
    "matplotlib 모듈의 최대 단점은 arguments들을 kwargs로 받는 것. <br>\n",
    "<br>\n",
    "즉, ***고정된 argument가 없기에*** <br>\n",
    "Shift + Tab을 눌러도 어떻게 사용해야하는지에 대한 도움을 받기 힘들다. <br>\n",
    "일반적으로 matplotlib 사이트에 들어가서 매뉴얼을 통해 확인하고 사용한다.\n",
    "\n",
    "[kwargs](https://brunch.co.kr/@princox/180) : keyword arguments, 키워드를 제공함."
   ]
  },
  {
   "cell_type": "markdown",
   "metadata": {},
   "source": [
    "## <span style = 'color:green'> **2. 시각화 보조 기능** </span>"
   ]
  },
  {
   "cell_type": "markdown",
   "metadata": {},
   "source": [
    "### <span style = 'color:lightgreen'> **(1) 여러개의 그림판 만들기** </span>"
   ]
  },
  {
   "cell_type": "markdown",
   "metadata": {},
   "source": [
    "#### **그림판 크기** 설정"
   ]
  },
  {
   "cell_type": "code",
   "execution_count": null,
   "metadata": {},
   "outputs": [
    {
     "data": {
      "text/plain": [
       "<Figure size 864x216 with 0 Axes>"
      ]
     },
     "metadata": {},
     "output_type": "display_data"
    }
   ],
   "source": [
    "_ = plt.figure(figsize = (12,3))"
   ]
  },
  {
   "cell_type": "code",
   "execution_count": null,
   "metadata": {},
   "outputs": [
    {
     "data": {
      "image/png": "[encoded data removed]",
      "text/plain": [
       "<Figure size 288x288 with 1 Axes>"
      ]
     },
     "metadata": {},
     "output_type": "display_data"
    }
   ],
   "source": [
    "_ = plt.rcParams['figure.figsize'] = (4,4) # plt.rcParams는 plt.plot 앞 뒤에 배치될 수 있다.\n",
    "                                           # 동일한 스크립트에서 작성된 그림은 할당된 것과 동일한 그림크기를 공유한다.\n",
    "                                           # 동일한 스크립트에서 figure.figsize를 여러 번 할당할 수 있지만\n",
    "                                           # 생성된 그림에는 첫 번째 설정만 적용된다.\n",
    "_ = plt.plot([[1,2],[3,4]])\n",
    "_ = plt.show()\n",
    "# import numpy as np\n",
    "# # fig, ax = plt.subplots()\n",
    "# ax.plot(range(100), [np.sin(value) for value in range(100)])\n",
    "# ax.show()"
   ]
  },
  {
   "cell_type": "markdown",
   "metadata": {},
   "source": [
    "#### <span style = 'color:orange'> **plt.figure()** </span>\n",
    ": figure를 반환하는 함수"
   ]
  },
  {
   "cell_type": "code",
   "execution_count": null,
   "metadata": {},
   "outputs": [
    {
     "data": {
      "text/plain": [
       "<Figure size 288x288 with 0 Axes>"
      ]
     },
     "metadata": {},
     "output_type": "display_data"
    }
   ],
   "source": [
    "fig = plt.figure()"
   ]
  },
  {
   "cell_type": "markdown",
   "metadata": {},
   "source": [
    "#### <span style = 'color:orange'> **fig.set_size_inches()** </span>\n",
    ": figure의 크기를 조정하는 함수\n",
    "* 그림을 생성한 후 matplotlib에서 그림 크기를 변경하려고 할 때 주로 사용 <br>\n",
    "(figure를 이미 생성한 경우의 방법) <br>\n",
    "\n",
    "set_size_inches에는 디폴트값이 True인 forward 옵션이 있고, <br>\n",
    "이는 새 크기가 주어진 후 캔버스 크기가 ***자동으로 업데이트*** 됨을 의미한다.\n"
   ]
  },
  {
   "cell_type": "code",
   "execution_count": null,
   "metadata": {},
   "outputs": [
    {
     "data": {
      "image/png": "[encoded data removed]",
      "text/plain": [
       "<Figure size 216x216 with 1 Axes>"
      ]
     },
     "metadata": {},
     "output_type": "display_data"
    },
    {
     "data": {
      "image/png": "[encoded data removed]",
      "text/plain": [
       "<Figure size 288x288 with 1 Axes>"
      ]
     },
     "metadata": {},
     "output_type": "display_data"
    }
   ],
   "source": [
    "fig1 = plt.figure(1)\n",
    "_ = plt.plot([[1,2],[3,4]])\n",
    "fig2 = plt.figure(2)\n",
    "_ = plt.plot([[1,2],[3,4]])\n",
    "\n",
    "fig1.set_size_inches(3,3)\n",
    "fig2.set_size_inches(4,4)\n",
    "\n",
    "_ = plt.show()\n",
    "\n",
    "# fig1, fig2는 생성된 두 그림에 대한 참조\n"
   ]
  },
  {
   "cell_type": "markdown",
   "metadata": {},
   "source": [
    "#### <span style = 'color:orange'> **fig.add_subplot()** </span>\n",
    ": 하위 그림판을 생성해주는 함수"
   ]
  },
  {
   "cell_type": "code",
   "execution_count": null,
   "metadata": {},
   "outputs": [
    {
     "data": {
      "image/png": "[encoded data removed]",
      "text/plain": [
       "<Figure size 288x288 with 2 Axes>"
      ]
     },
     "metadata": {},
     "output_type": "display_data"
    }
   ],
   "source": [
    "fig = plt.figure()\n",
    "ax_1 = fig.add_subplot(1,2,1) # 가로, 세로, n번째 열; n은 1이상\n",
    "ax_2 = fig.add_subplot(1,2,2)\n",
    "\n",
    "_ = ax_1.plot([[1,2],[3,4]], c = 'r') # c는 color 옵션\n",
    "_ = ax_2.plot([[2,1],[4,3]], c = 'g')\n",
    "\n",
    "_ = plt.show()"
   ]
  },
  {
   "cell_type": "markdown",
   "metadata": {},
   "source": [
    "### <span style = 'color:lightgreen'> **(2) 색 설정** </span>\n",
    "**color** 또는 **c** 인자를 사용하여 직접 색을 지정."
   ]
  },
  {
   "cell_type": "code",
   "execution_count": null,
   "metadata": {},
   "outputs": [
    {
     "data": {
      "image/png": "[encoded data removed]",
      "text/plain": [
       "<Figure size 288x288 with 1 Axes>"
      ]
     },
     "metadata": {},
     "output_type": "display_data"
    }
   ],
   "source": [
    "_ = plt.plot([[1,2], [3,4]], color='r')"
   ]
  },
  {
   "cell_type": "markdown",
   "metadata": {},
   "source": [
    "### <span style = 'color:lightgreen'> **(3) 선 스타일 설정** </span>\n",
    "**linestyle** 혹은 **ls** 인자를 사용하여 직접 라인스타일을 지정한다.\n"
   ]
  },
  {
   "cell_type": "code",
   "execution_count": null,
   "metadata": {},
   "outputs": [
    {
     "data": {
      "image/png": "[encoded data removed]",
      "text/plain": [
       "<Figure size 288x288 with 1 Axes>"
      ]
     },
     "metadata": {},
     "output_type": "display_data"
    }
   ],
   "source": [
    "_ = plt.plot([[1,2],[4,5]], ls = '-.')"
   ]
  },
  {
   "cell_type": "markdown",
   "metadata": {},
   "source": [
    "### <span style = 'color:lightgreen'> **(4) 제목, 범례 설정** </span>\n",
    "\n",
    "#### <span style = 'color:orange'> **plt.title('title of plot')** </span>\n",
    ": plot의 제목을 만들어 줌.\n",
    "<br>\n",
    "\n",
    "#### <span style = 'color:orange'> **plt.legend(...)** </span>\n",
    ": plot의 범례를 만들어줌 <br>\n",
    "<br>\n",
    "[범례 자세히 보기](https://codetorial.net/matplotlib/set_legend.html)"
   ]
  },
  {
   "cell_type": "code",
   "execution_count": null,
   "metadata": {},
   "outputs": [
    {
     "data": {
      "image/png": "[encoded data removed]",
      "text/plain": [
       "<Figure size 288x288 with 1 Axes>"
      ]
     },
     "metadata": {},
     "output_type": "display_data"
    }
   ],
   "source": [
    "_ = plt.plot([1,4], label = 'test1')\n",
    "_ = plt.plot([2,5], label = 'test2')\n",
    "_ = plt.title('title test')\n",
    "_ = plt.legend()"
   ]
  },
  {
   "cell_type": "markdown",
   "metadata": {},
   "source": [
    "## <span style = 'color:green'> **3. 다양한 시각화 plot** </span>"
   ]
  },
  {
   "cell_type": "markdown",
   "metadata": {},
   "source": [
    "### <span style = 'color:orange'> **plt.bar(x,y, color = 'r', width = 0.25, ...)** </span>\n",
    "* 반복\n",
    "* stack"
   ]
  },
  {
   "cell_type": "markdown",
   "metadata": {},
   "source": [
    "##### * 반복"
   ]
  },
  {
   "cell_type": "code",
   "execution_count": null,
   "metadata": {},
   "outputs": [
    {
     "data": {
      "image/png": "[encoded data removed]",
      "text/plain": [
       "<Figure size 288x288 with 1 Axes>"
      ]
     },
     "metadata": {},
     "output_type": "display_data"
    }
   ],
   "source": [
    "data = [[5,10,15,20], [4,8,12,16], [6,12,18,24]]\n",
    "x = np.arange(4)\n",
    "\n",
    "_ = plt.bar(x+0,data[0],color = 'b', width = 0.25) # x에 간격주기\n",
    "_ = plt.bar(x+0.25,data[1],color = 'g', width = 0.25)\n",
    "_ = plt.bar(x+0.5,data[2],color = 'r', width = 0.25)"
   ]
  },
  {
   "cell_type": "markdown",
   "metadata": {},
   "source": [
    "##### * 스택"
   ]
  },
  {
   "cell_type": "code",
   "execution_count": null,
   "metadata": {},
   "outputs": [
    {
     "data": {
      "image/png": "[encoded data removed]",
      "text/plain": [
       "<Figure size 288x288 with 1 Axes>"
      ]
     },
     "metadata": {},
     "output_type": "display_data"
    }
   ],
   "source": [
    "data = np.array([[5,10,15,20], [4,8,12,16], [6,12,18,24]])\n",
    "col_list = ['b','g','r']\n",
    "lab_list = ['A', \"B\", 'C']\n",
    "\n",
    "x = np.arange(data.shape[1])\n",
    "for i in range(data.shape[0]):\n",
    "    _ = plt.bar(x, data[i], bottom = np.sum(data[:i], axis = 0),\n",
    "    color = col_list[i], label = lab_list[i])\n",
    "_ = plt.legend()\n",
    "_ = plt.show()"
   ]
  },
  {
   "cell_type": "markdown",
   "metadata": {},
   "source": [
    "### <span style = 'color:orange'> **plt.hist(x, bins = 100)** </span>"
   ]
  },
  {
   "cell_type": "code",
   "execution_count": null,
   "metadata": {},
   "outputs": [
    {
     "data": {
      "image/png": "[encoded data removed]",
      "text/plain": [
       "<Figure size 288x288 with 1 Axes>"
      ]
     },
     "metadata": {},
     "output_type": "display_data"
    }
   ],
   "source": [
    "x = np.random.normal(0,1,1000)\n",
    "_ = plt.hist(x,bins = 100)"
   ]
  },
  {
   "cell_type": "markdown",
   "metadata": {},
   "source": [
    "### <span style = 'color:orange'> **plt.boxplot(data)** </span>"
   ]
  },
  {
   "cell_type": "code",
   "execution_count": null,
   "metadata": {},
   "outputs": [
    {
     "data": {
      "image/png": "[encoded data removed]",
      "text/plain": [
       "<Figure size 288x288 with 1 Axes>"
      ]
     },
     "metadata": {},
     "output_type": "display_data"
    }
   ],
   "source": [
    "x = np.random.normal(0,1,100) # 0~1사이를 정규랜덤으로 100개 뽑기\n",
    "_ = plt.boxplot(x)"
   ]
  },
  {
   "cell_type": "markdown",
   "metadata": {},
   "source": [
    "### <span style = 'color:orange'> **plt.scatter(x, y, marker = 마커, s = 사이즈, alpha = 0.5, ...)** </span>\n",
    "* 산포도 <br>\n",
    "겹치는 부분 시각화를 위해 투명도를 0.5 정도로 해준다."
   ]
  },
  {
   "cell_type": "code",
   "execution_count": null,
   "metadata": {},
   "outputs": [
    {
     "data": {
      "image/png": "[encoded data removed]",
      "text/plain": [
       "<Figure size 288x288 with 1 Axes>"
      ]
     },
     "metadata": {},
     "output_type": "display_data"
    }
   ],
   "source": [
    "x = np.random.uniform(0,2,50)\n",
    "y = np.random.uniform(0,2,50)\n",
    "_ = plt.scatter(x, y, marker = '*', s = 90, alpha = 0.5, color = 'r')"
   ]
  },
  {
   "cell_type": "markdown",
   "metadata": {},
   "source": [
    "### <span style = 'color:orange'> **matplotlib with pandas** </span>\n",
    "dataframe이나 series 별로 데이터를 그릴 수 있도록 지원해준다."
   ]
  },
  {
   "cell_type": "markdown",
   "metadata": {},
   "source": [
    "* 각 변수 별로 선택해 시각화"
   ]
  },
  {
   "cell_type": "code",
   "execution_count": null,
   "metadata": {},
   "outputs": [],
   "source": [
    "iris = pd.read_csv('iris.csv')\n",
    "fig = plt.figure()\n",
    "sub = []\n",
    "for i in range(1,5) : \n",
    "    sub.append(fig.add_subplot(2,2,i))\n",
    "sub[0].scatter(iris['SepalLength'],iris['SepalWidth'])\n",
    "sub[1].scatter(iris['SepalLength'],iris['PetalLength'])\n",
    "sub[2].scatter(iris['SepalWidth'],iris['PetalWidth'])\n",
    "sub[3].scatter(iris['SepalWidth'],iris['PetalLength'])"
   ]
  },
  {
   "cell_type": "markdown",
   "metadata": {},
   "source": [
    "* 전체 데이터 시각화 한 번에"
   ]
  },
  {
   "cell_type": "markdown",
   "metadata": {},
   "source": [
    "#### <span style = 'color:yellow'> **df.plot()** </span>\n",
    "전체 데이터의 plot을 그려주는 함수. <br>"
   ]
  },
  {
   "cell_type": "code",
   "execution_count": null,
   "metadata": {},
   "outputs": [],
   "source": [
    "iris[['SepalLength','SepalWidth','PetalLength','PetalWidth']].plot()"
   ]
  },
  {
   "cell_type": "markdown",
   "metadata": {},
   "source": [
    "#### <span style = 'color:yellow'> **pd.plotting.scatter_matrix(data, diagonal = 'kde' or 'hist', alpha = , figsize = )** </span>\n",
    "전체 데이터의 산포도를 그려줌. <br>\n",
    "diagonal 인자로 대각선의 각 변수를 histogram 혹은 density 중 어떤 형태로 그릴 것인지를 지정해줄 수 있음."
   ]
  },
  {
   "cell_type": "code",
   "execution_count": null,
   "metadata": {},
   "outputs": [],
   "source": [
    "pd.plotting.scatter_matrix(iris[['SepalLength','SepalWidth','PetalLength','PetalWidth']], \n",
    "                           diagonal='kde', alpha=1, figsize=(20,20))"
   ]
  },
  {
   "cell_type": "markdown",
   "metadata": {},
   "source": [
    "이 블로그의 작성자가 참고한 영상<br>\n",
    "​Edwith - 머신러닝을 위한 파이썬 (Data Handling - Visualization - matplotlib) [비디오 파일]"
   ]
  },
  {
   "cell_type": "markdown",
   "metadata": {},
   "source": [
    "### <span style = 'color:orange'> **plt.title(label, fontsize)** </span>\n",
    "* 그래프 제목 생성"
   ]
  },
  {
   "cell_type": "markdown",
   "metadata": {},
   "source": [
    "### <span style = 'color:orange'> **plt.xlabel(label, fontsize)** </span>\n",
    "* x축 이름 설정"
   ]
  },
  {
   "cell_type": "markdown",
   "metadata": {},
   "source": [
    "### <span style = 'color:orange'> **plt.ylabel(label, fontsize)** </span>\n",
    "* y축 이름 설정"
   ]
  },
  {
   "cell_type": "markdown",
   "metadata": {},
   "source": [
    "### <span style = 'color:orange'> **plt.axvline(x, color)** </span>\n",
    "* 축을 가로지르는 <span style = 'color:red'>세로 선</span> 생성"
   ]
  },
  {
   "cell_type": "markdown",
   "metadata": {},
   "source": [
    "### <span style = 'color:orange'> **plt.text(x, y, s, fontsize)** </span>\n",
    "* 원하는 위치에 텍스트 생성"
   ]
  },
  {
   "cell_type": "markdown",
   "metadata": {},
   "source": [
    "### <span style = 'color:orange'> **plt.plot의 스타일** </span>\n",
    "- 색깔\n",
    "```\n",
    "문자열      약자\n",
    "blue        b\n",
    "green       g\n",
    "red         r\n",
    "cyan        c\n",
    "magenta     m\n",
    "yellow      y\n",
    "black       k\n",
    "white       w\n",
    "```\n",
    "<br>\n",
    "\n",
    "- 마커\n",
    "```\n",
    "마커        의미\n",
    ".           점\n",
    "o           원 (알파벳)\n",
    "v           역삼각형 (알파벳)\n",
    "^           삼각형\n",
    "s           사각형\n",
    "*           별\n",
    "x           엑스\n",
    "d           다이아몬드\n",
    "```\n",
    "<br>\n",
    "\n",
    "- 선\n",
    "```\n",
    "문자열      의미\n",
    "-\t    실선\n",
    "--\t    끊어진 실선\n",
    "-.\t    점+실선\n",
    ":\t    점선\n",
    "```\n",
    "<br>"
   ]
  },
  {
   "cell_type": "markdown",
   "metadata": {},
   "source": [
    "## <span style = 'color:green'> **correlation** </span>\n",
    "### <span style = 'color:orange'> **df.corr()** </span>\n",
    "* correlation coefficient의 줄임말 <br>\n",
    "<br>\n",
    "\n",
    "* 상관계수: 두 개의 변수가 같이 일어나는 강도를 나타내는 수치.\n",
    "* -1 ~ 1 사이의 값을 지님.\n",
    "* -1이나 1인 수치는 현실 세계에서 관측되기 힘든 수치.\n",
    "* 분야별로 기준을 정하는 것에 따라 달라지겠지만, <u>보통 <span style = 'color = red; font-size = 140%'>0.4 이상</span>이면 두 개의 변수 간에 상관성이 있다</u>고 얘기함.\n",
    "<br>\n",
    "<br>\n",
    "\n",
    "* 💥💥💥상관관계는 인과관계와 다름 <br>\n",
    "    ex) <br>    \n",
    "    * 선글라스 판매량이 증가***함에 따라***, 아이스크림 판매액도 ***같이 증가***하는 것을 볼 수 있음.\n",
    "    * 하지만 선글라스 판매량이 증가했기 ***때문에*** 아이스크림 판매액이 증가했다라고 해석하는 것은 타당하지 않음.\n",
    "    * 선글라스 판매량이 증가했다는 것은 여름 ***때문***이라고 볼 수 있으므로, 날씨가 더워짐***에 따라*** 선글라스 판매량과 아이스크림 판매액이 같이 증가했다고 보는 것이 타당할 것임.\n",
    "    <br>\n",
    "    \n",
    "    💥 상관관계 ; ~ 함에 따라 (반비례, 비례, ...) <br>\n",
    "    💥 인과관계 ; ~ 때문에 (야기, 초래, ...)\n"
   ]
  },
  {
   "cell_type": "markdown",
   "metadata": {},
   "source": [
    "#### seaborn"
   ]
  },
  {
   "cell_type": "code",
   "execution_count": 29,
   "metadata": {},
   "outputs": [],
   "source": [
    "import seaborn as sns"
   ]
  },
  {
   "cell_type": "markdown",
   "metadata": {},
   "source": [
    "* [sns plot 종류]\n",
    "    - Relational Plot (연속 데이터 관련성)\n",
    "        - replot\n",
    "        - scatter\n",
    "        - lineplot <br>\n",
    "        <br>\n",
    "    - Categorical Plot (카테고리 데이터 변화)\n",
    "        - catplot\n",
    "        - stripplot\n",
    "        - swarmplot\n",
    "        - boxplot\n",
    "        - violinplot\n",
    "        - pointplot\n",
    "        - barplot\n",
    "        - countplot <br>\n",
    "        <br>\n",
    "    - Distribution Plot (데이터 분포)\n",
    "        - distplot\n",
    "        - kdeplot\n",
    "        - rugplot <br>\n",
    "        <br>\n",
    "    - Regression Plot (데이터 분포 회귀선)\n",
    "        - lmplot\n",
    "        - regplot\n",
    "        - residplot <br>\n",
    "        <br>\n",
    "    - Matrix Plot (여러가지 변수 비교)\n",
    "        - heatmap\n",
    "        - clustermap <br>\n",
    "        <br>\n",
    "    - Multi-plot grid (여러 개의 그래프)\n",
    "        - Facetgrid\n",
    "        - Pairgrid\n",
    "        - Jointgrid <br>\n",
    "        <br>\n",
    "```\n",
    "데이터의 종류가 연속형 데이터인지, 카테고리 데이터인지, 내가 궁금한 내용이 데이터의 시계열적 변화인지 분포인지에 따라 적합한 그래프를 선택해서 도식화하는 방법을 익힌다면 충분합니다.\n",
    "```\n",
    "<br>\n",
    "\n",
    "[seaborn 시각화 참고자료](https://wikidocs.net/86290)"
   ]
  },
  {
   "cell_type": "markdown",
   "metadata": {},
   "source": [
    "# 3️⃣  <span style = 'background-color: lightgreen ; color:black'>**데이터 전처리**</span>\n",
    "Data Cleansing & Pre-Processing"
   ]
  },
  {
   "cell_type": "markdown",
   "metadata": {},
   "source": [
    "### <span style = 'color:orange'> **srs.isna()** </span>\n",
    "* 결측치 여부를 확인해줌.\n",
    "* 결측치면 True, 아니면 False"
   ]
  },
  {
   "cell_type": "markdown",
   "metadata": {},
   "source": [
    "### <span style = 'color:orange'> **df.fillna()** </span>\n",
    "* 결측치를 <u>채우고자 하는 column</u>과 <br>\n",
    "    결측치를 <u>대신하여 넣고자 하는 값</u>을 명시해 줘야 함."
   ]
  },
  {
   "cell_type": "markdown",
   "metadata": {},
   "source": [
    "# 4️⃣  <span style = 'background-color: lightgreen ; color:black'>**변수 선택 및 모델 구축**</span>\n",
    "Feature Engineering & Initial Modeling <br>"
   ]
  },
  {
   "cell_type": "markdown",
   "metadata": {},
   "source": [
    "### <span style = 'color:orange'> **sklearn.ensemble.RandomForestRegressor()** </span>\n",
    "* 랜덤 포레스트 모형\n"
   ]
  },
  {
   "cell_type": "markdown",
   "metadata": {},
   "source": [
    "# 5️⃣  <span style = 'background-color: lightgreen ; color:black'>**모델 학습 및 검증**</span>\n",
    "Model Tuning & Evaluation"
   ]
  },
  {
   "cell_type": "markdown",
   "metadata": {},
   "source": [
    "### <span style = 'color:orange'> **model.fit()** </span>\n",
    "* 모델 학습"
   ]
  },
  {
   "cell_type": "markdown",
   "metadata": {},
   "source": [
    "### <span style = 'color:orange'> **model.predict()** </span>\n",
    "* 모델 예측"
   ]
  },
  {
   "cell_type": "markdown",
   "metadata": {},
   "source": [
    "### <span style = 'color:orange'> **df.to_csv()** </span>\n",
    "* csv 파일 저장하는 함수"
   ]
  },
  {
   "cell_type": "markdown",
   "metadata": {},
   "source": [
    "# 6️⃣  <span style = 'background-color: lightgreen ; color:black'>**결과 및 결언**</span>\n",
    "Conclusion & Discussion"
   ]
  }
 ],
 "metadata": {
  "interpreter": {
   "hash": "cd65bcbc58295ddb1be3c2ed454fcbd526c999271179adb38fc6bed2214131e2"
  },
  "kernelspec": {
   "display_name": "Python 3.8.8 ('base')",
   "language": "python",
   "name": "python3"
  },
  "language_info": {
   "codemirror_mode": {
    "name": "ipython",
    "version": 3
   },
   "file_extension": ".py",
   "mimetype": "text/x-python",
   "name": "python",
   "nbconvert_exporter": "python",
   "pygments_lexer": "ipython3",
   "version": "3.8.8"
  },
  "orig_nbformat": 4
 },
 "nbformat": 4,
 "nbformat_minor": 2
}
